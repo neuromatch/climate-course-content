{
 "cells": [
  {
   "cell_type": "markdown",
   "metadata": {
    "execution": {}
   },
   "source": [
    "# Monitoring and mapping wildfires Using satellite data\n",
    "## 2023\n",
    "\n",
    "### Assessing wildfire impact and  ecological recovery  in Mozambique (2010) through remote sensing analysis\n",
    "**Authors**: Adem P, Max Peralta, Mateo Santillan\n",
    "\n",
    "**Teaching assistants**: Alexei Rozanov, Nithish Kumar Sriramoju"
   ]
  },
  {
   "cell_type": "code",
   "execution_count": null,
   "metadata": {
    "cellView": "form",
    "execution": {}
   },
   "outputs": [
    {
     "data": {
      "application/vnd.jupyter.widget-view+json": {
       "model_id": "2483f5c97bf3467f8dbc4b005ee4b8df",
       "version_major": 2,
       "version_minor": 0
      },
      "text/plain": [
       "Output()"
      ]
     },
     "metadata": {},
     "output_type": "display_data"
    }
   ],
   "source": [
    "# @markdown\n",
    "from ipywidgets import widgets\n",
    "from IPython.display import IFrame\n",
    "\n",
    "filename = \"2023WF_Assessing_wildfire_impact_and_ecological_recovery_in_Mozambique_through_remote_sensing_analysis\"\n",
    "\n",
    "download_link = f\"https://github.com/neuromatch/climate-course-content/blob/main/projects/past-projects/project-presentations/{filename}.pdf\"\n",
    "render_link = f\"https://nbviewer.org/github/neuromatch/climate-course-content/blob/main/projects/past-projects/project-presentations/{filename}.pdf\"\n",
    "\n",
    "\n",
    "out = widgets.Output()\n",
    "with out:\n",
    "    print(f\"If you want to download the slides: {download_link}\")\n",
    "    display(IFrame(src=f\"{render_link}\", width=730, height=410))\n",
    "display(out)"
   ]
  },
  {
   "cell_type": "markdown",
   "metadata": {
    "execution": {}
   },
   "source": [
    "### Effect of ENSO on wildfire frequency and burnt area\n",
    "**Authors**: Pallaw Mishra, Lida Khosrosereshki, Krishna katyal, Mary Nathalie Dela Cruz, Saroj Kandel, Janvi Chhabra, Alfiya Orazkhanova, Anthony Jeanpier Fow Esteves\n",
    "\n",
    "\n",
    "**Teaching assistants**: Wil Laura, Shashank Roy"
   ]
  },
  {
   "cell_type": "code",
   "execution_count": null,
   "metadata": {
    "cellView": "form",
    "execution": {}
   },
   "outputs": [
    {
     "data": {
      "application/vnd.jupyter.widget-view+json": {
       "model_id": "2dd7693cf5b74e3989d67b7439d02da4",
       "version_major": 2,
       "version_minor": 0
      },
      "text/plain": [
       "Output()"
      ]
     },
     "metadata": {},
     "output_type": "display_data"
    }
   ],
   "source": [
    "# @markdown\n",
    "from ipywidgets import widgets\n",
    "from IPython.display import IFrame\n",
    "\n",
    "filename = \"2023WF_Effect_of_ENSO_on_wildfire_frequency_and_burnt_area\"\n",
    "\n",
    "download_link = f\"https://github.com/neuromatch/climate-course-content/blob/main/projects/past-projects/project-presentations/{filename}.pdf\"\n",
    "render_link = f\"https://nbviewer.org/github/neuromatch/climate-course-content/blob/main/projects/past-projects/project-presentations/{filename}.pdf\"\n",
    "\n",
    "\n",
    "out = widgets.Output()\n",
    "with out:\n",
    "    print(f\"If you want to download the slides: {download_link}\")\n",
    "    display(IFrame(src=f\"{render_link}\", width=730, height=410))\n",
    "display(out)"
   ]
  },
  {
   "cell_type": "markdown",
   "metadata": {
    "execution": {}
   },
   "source": [
    "### Trends in fire regimes in South America\n",
    "**Authors**: Anahita Abravan, Lydia Farnham, Gülara Uysal, Farhan Saleem, Zhanna Osipova \n",
    "\n",
    "**Teaching assistants**: Wil Laura, Daniel Kwaku Agyei"
   ]
  },
  {
   "cell_type": "code",
   "execution_count": null,
   "metadata": {
    "cellView": "form",
    "execution": {}
   },
   "outputs": [
    {
     "data": {
      "application/vnd.jupyter.widget-view+json": {
       "model_id": "df255e445e464ef0a3ae8f787e2983c1",
       "version_major": 2,
       "version_minor": 0
      },
      "text/plain": [
       "Output()"
      ]
     },
     "metadata": {},
     "output_type": "display_data"
    }
   ],
   "source": [
    "# @markdown\n",
    "from ipywidgets import widgets\n",
    "from IPython.display import IFrame\n",
    "\n",
    "filename = \"2023WF_Trends_in_fire_regimes_in_South_America\"\n",
    "\n",
    "download_link = f\"https://github.com/neuromatch/climate-course-content/blob/main/projects/past-projects/project-presentations/{filename}.pdf\"\n",
    "render_link = f\"https://nbviewer.org/github/neuromatch/climate-course-content/blob/main/projects/past-projects/project-presentations/{filename}.pdf\"\n",
    "\n",
    "\n",
    "out = widgets.Output()\n",
    "with out:\n",
    "    print(f\"If you want to download the slides: {download_link}\")\n",
    "    display(IFrame(src=f\"{render_link}\", width=730, height=410))\n",
    "display(out)"
   ]
  },
  {
   "cell_type": "markdown",
   "metadata": {
    "execution": {}
   },
   "source": [
    "### Wildfires in Angola: Burn areas and vegetation index \n",
    "**Authors**: Agnessa Karapetian, Sedem Buabassah, Gilad Shreibshtein, Alkis Kalisoras, Jan Bendyk, Ana Carolina Filipe\n",
    "\n",
    "**Teaching assistants**: Alexei Rozanov, Mansour DIA"
   ]
  },
  {
   "cell_type": "code",
   "execution_count": null,
   "metadata": {
    "cellView": "form",
    "execution": {}
   },
   "outputs": [
    {
     "data": {
      "application/vnd.jupyter.widget-view+json": {
       "model_id": "566d98b69cb24583a02660a0b3d82c9c",
       "version_major": 2,
       "version_minor": 0
      },
      "text/plain": [
       "Output()"
      ]
     },
     "metadata": {},
     "output_type": "display_data"
    }
   ],
   "source": [
    "# @markdown\n",
    "from ipywidgets import widgets\n",
    "from IPython.display import IFrame\n",
    "\n",
    "filename = \"2023WF_Wildfires_in_Angola_Burn_areas_and_vegetation_index\"\n",
    "\n",
    "download_link = f\"https://github.com/neuromatch/climate-course-content/blob/main/projects/past-projects/project-presentations/{filename}.pdf\"\n",
    "render_link = f\"https://nbviewer.org/github/neuromatch/climate-course-content/blob/main/projects/past-projects/project-presentations/{filename}.pdf\"\n",
    "\n",
    "\n",
    "out = widgets.Output()\n",
    "with out:\n",
    "    print(f\"If you want to download the slides: {download_link}\")\n",
    "    display(IFrame(src=f\"{render_link}\", width=730, height=410))\n",
    "display(out)"
   ]
  },
  {
   "cell_type": "markdown",
   "metadata": {
    "execution": {}
   },
   "source": [
    "### Wildfires in Asia\n",
    "**Authors**: Zahra Heidaifar, Tanishq Prasad, Sayyed Mohammad Reza Mousavi, Mahdieh Goli\n",
    "\n",
    "**Teaching assistants**: Wil Laura, Abel Shibu"
   ]
  },
  {
   "cell_type": "code",
   "execution_count": null,
   "metadata": {
    "cellView": "form",
    "execution": {}
   },
   "outputs": [
    {
     "data": {
      "application/vnd.jupyter.widget-view+json": {
       "model_id": "12b5de61a6c24222941b452d66bd4260",
       "version_major": 2,
       "version_minor": 0
      },
      "text/plain": [
       "Output()"
      ]
     },
     "metadata": {},
     "output_type": "display_data"
    }
   ],
   "source": [
    "# @markdown\n",
    "from ipywidgets import widgets\n",
    "from IPython.display import IFrame\n",
    "\n",
    "filename = \"2023WF_Wildfires_in_Asia\"\n",
    "\n",
    "download_link = f\"https://github.com/neuromatch/climate-course-content/blob/main/projects/past-projects/project-presentations/{filename}.pdf\"\n",
    "render_link = f\"https://nbviewer.org/github/neuromatch/climate-course-content/blob/main/projects/past-projects/project-presentations/{filename}.pdf\"\n",
    "\n",
    "\n",
    "out = widgets.Output()\n",
    "with out:\n",
    "    print(f\"If you want to download the slides: {download_link}\")\n",
    "    display(IFrame(src=f\"{render_link}\", width=730, height=410))\n",
    "display(out)"
   ]
  }
 ],
 "metadata": {
  "colab": {
   "collapsed_sections": [],
   "include_colab_link": true,
   "name": "wildfires",
   "toc_visible": true
  },
  "kernel": {
   "display_name": "Python 3",
   "language": "python",
   "name": "python3"
  },
  "kernelspec": {
   "display_name": "Python 3 (ipykernel)",
   "language": "python",
   "name": "python3"
  },
  "language_info": {
   "codemirror_mode": {
    "name": "ipython",
    "version": 3
   },
   "file_extension": ".py",
   "mimetype": "text/x-python",
   "name": "python",
   "nbconvert_exporter": "python",
   "pygments_lexer": "ipython3",
   "version": "3.9.19"
  }
 },
 "nbformat": 4,
 "nbformat_minor": 4
}
