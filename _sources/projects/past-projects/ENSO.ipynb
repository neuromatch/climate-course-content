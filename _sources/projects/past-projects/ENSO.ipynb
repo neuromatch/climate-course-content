{
 "cells": [
  {
   "cell_type": "markdown",
   "metadata": {
    "execution": {}
   },
   "source": [
    "# The impact of ENSO on precipitation and temperature\n",
    "## 2023\n",
    "\n",
    "### Effects of ENSO-related precipitation on East Africa\n",
    "**Authors**: Colin Beyers, Koi McArthur, Anahí Valencia Rivera, Grace Kelly, Jana Moussa, Allison Cavallo\n",
    "\n",
    "**Teaching assistants**: Eligio Maure, Carter Hvam"
   ]
  },
  {
   "cell_type": "code",
   "execution_count": null,
   "metadata": {
    "cellView": "form",
    "execution": {}
   },
   "outputs": [
    {
     "data": {
      "application/vnd.jupyter.widget-view+json": {
       "model_id": "179b4fa22e42487e8a8f7a8bcbf4754d",
       "version_major": 2,
       "version_minor": 0
      },
      "text/plain": [
       "Output()"
      ]
     },
     "metadata": {},
     "output_type": "display_data"
    }
   ],
   "source": [
    "# @markdown\n",
    "from ipywidgets import widgets\n",
    "from IPython.display import IFrame\n",
    "\n",
    "filename = \"2023ENSO_Effects_of_ENSO_related_precipitation_on_East_Africa\"\n",
    "\n",
    "download_link = f\"https://github.com/neuromatch/climate-course-content/blob/main/projects/past-projects/project-presentations/{filename}.pdf\"\n",
    "render_link = f\"https://nbviewer.org/github/neuromatch/climate-course-content/blob/main/projects/past-projects/project-presentations/{filename}.pdf\"\n",
    "\n",
    "out = widgets.Output()\n",
    "with out:\n",
    "    print(f\"If you want to download the slides: {download_link}\")\n",
    "    display(IFrame(src=f\"{render_link}\", width=730, height=410))\n",
    "display(out)"
   ]
  },
  {
   "cell_type": "markdown",
   "metadata": {
    "execution": {}
   },
   "source": [
    "### Environmental impacts of ENSO flavours along the California Current system\n",
    "**Authors**: Po Cheng Chen, Joseph C. Smith, Paulina Cetina-Heredia\n",
    "\n",
    "\n",
    "**Teaching assistants**: Eligio Maure, Madeline McKenna"
   ]
  },
  {
   "cell_type": "code",
   "execution_count": null,
   "metadata": {
    "cellView": "form",
    "execution": {}
   },
   "outputs": [
    {
     "data": {
      "application/vnd.jupyter.widget-view+json": {
       "model_id": "ae6332b700884dce97744f88d01fc814",
       "version_major": 2,
       "version_minor": 0
      },
      "text/plain": [
       "Output()"
      ]
     },
     "metadata": {},
     "output_type": "display_data"
    }
   ],
   "source": [
    "# @markdown\n",
    "from ipywidgets import widgets\n",
    "from IPython.display import IFrame\n",
    "\n",
    "filename = \"2023ENSO_Environmental_impacts_of_ENSO_flavours_along_the_California_Current_system\"\n",
    "\n",
    "download_link = f\"https://github.com/neuromatch/climate-course-content/blob/main/projects/past-projects/project-presentations/{filename}.pdf\"\n",
    "render_link = f\"https://nbviewer.org/github/neuromatch/climate-course-content/blob/main/projects/past-projects/project-presentations/{filename}.pdf\"\n",
    "\n",
    "out = widgets.Output()\n",
    "with out:\n",
    "    print(f\"If you want to download the slides: {download_link}\")\n",
    "    display(IFrame(src=f\"{render_link}\", width=730, height=410))\n",
    "display(out)"
   ]
  },
  {
   "cell_type": "markdown",
   "metadata": {
    "execution": {}
   },
   "source": [
    "### ENSO impacts on the precipitation at the US East coast\n",
    "**Authors**: Adeyemi Fagbade, Nicolás Peñaranda, Romeo Saldívar-Lucio\n",
    "\n",
    "**Teaching assistants**: Eligio Maure, Madeline McKenna"
   ]
  },
  {
   "cell_type": "code",
   "execution_count": null,
   "metadata": {
    "cellView": "form",
    "execution": {}
   },
   "outputs": [
    {
     "data": {
      "application/vnd.jupyter.widget-view+json": {
       "model_id": "482f9ccb3582434c9fd4ee4f8ed2e366",
       "version_major": 2,
       "version_minor": 0
      },
      "text/plain": [
       "Output()"
      ]
     },
     "metadata": {},
     "output_type": "display_data"
    }
   ],
   "source": [
    "# @markdown\n",
    "from ipywidgets import widgets\n",
    "from IPython.display import IFrame\n",
    "\n",
    "filename = \"2023ENSO_ENSO_impacts_on_the_precipitation_at_the_US_East_coast\"\n",
    "\n",
    "download_link = f\"https://github.com/neuromatch/climate-course-content/blob/main/projects/past-projects/project-presentations/{filename}.pdf\"\n",
    "render_link = f\"https://nbviewer.org/github/neuromatch/climate-course-content/blob/main/projects/past-projects/project-presentations/{filename}.pdf\"\n",
    "\n",
    "out = widgets.Output()\n",
    "with out:\n",
    "    print(f\"If you want to download the slides: {download_link}\")\n",
    "    display(IFrame(src=f\"{render_link}\", width=730, height=410))\n",
    "display(out)"
   ]
  },
  {
   "cell_type": "markdown",
   "metadata": {
    "execution": {}
   },
   "source": [
    "### Impact of SST variations due to ENSO in rainfall index and possible social impacts in Southern Brazil\n",
    "**Authors**: Ana Belén Arroyo, Camile Chiodini, Flavio Provitina, Gabriel Soares, Lívia Sancho, Natália Rossi, Travessia Leal\n",
    "\n",
    "\n",
    "**Teaching assistants**: Graziela Luzia, Douglas Medeiros Nehme"
   ]
  },
  {
   "cell_type": "code",
   "execution_count": null,
   "metadata": {
    "cellView": "form",
    "execution": {}
   },
   "outputs": [
    {
     "data": {
      "application/vnd.jupyter.widget-view+json": {
       "model_id": "e7ba823ae7374269817d8d80aaccf1f0",
       "version_major": 2,
       "version_minor": 0
      },
      "text/plain": [
       "Output()"
      ]
     },
     "metadata": {},
     "output_type": "display_data"
    }
   ],
   "source": [
    "# @markdown\n",
    "from ipywidgets import widgets\n",
    "from IPython.display import IFrame\n",
    "\n",
    "filename = \"2023ENSO_Impact_of_SST_variations_due_to_ENSO_in_rainfall_index_and_possible_social_impacts_in_Southern_Brazil\"\n",
    "\n",
    "download_link = f\"https://github.com/neuromatch/climate-course-content/blob/main/projects/past-projects/project-presentations/{filename}.pdf\"\n",
    "render_link = f\"https://nbviewer.org/github/neuromatch/climate-course-content/blob/main/projects/past-projects/project-presentations/{filename}.pdf\"\n",
    "\n",
    "out = widgets.Output()\n",
    "with out:\n",
    "    print(f\"If you want to download the slides: {download_link}\")\n",
    "    display(IFrame(src=f\"{render_link}\", width=730, height=410))\n",
    "display(out)"
   ]
  },
  {
   "cell_type": "markdown",
   "metadata": {
    "execution": {}
   },
   "source": [
    "### Impact of El Niño events on rainfall, temperature, and vegetation in Indonesia\n",
    "**Authors**: Steven Jerjian, Christian Riveros Lizana, Laurel DiSera, Elisa Passos, Ninibeth Sarmiento, Lakhvinder Kaur, Santiago Munevar\n",
    "\n",
    "**Teaching assistants**: Rene Navarro Labastida, Shannon Bohman"
   ]
  },
  {
   "cell_type": "code",
   "execution_count": null,
   "metadata": {
    "cellView": "form",
    "execution": {}
   },
   "outputs": [
    {
     "data": {
      "application/vnd.jupyter.widget-view+json": {
       "model_id": "97fe5a9ccb414bd9867f7392096f2628",
       "version_major": 2,
       "version_minor": 0
      },
      "text/plain": [
       "Output()"
      ]
     },
     "metadata": {},
     "output_type": "display_data"
    }
   ],
   "source": [
    "# @markdown\n",
    "from ipywidgets import widgets\n",
    "from IPython.display import IFrame\n",
    "\n",
    "filename = \"2023ENSO_Impact_of_El_Nino_events_on_rainfall_temperature_and_vegetation_in_Indonesia\"\n",
    "\n",
    "download_link = f\"https://github.com/neuromatch/climate-course-content/blob/main/projects/past-projects/project-presentations/{filename}.pdf\"\n",
    "render_link = f\"https://nbviewer.org/github/neuromatch/climate-course-content/blob/main/projects/past-projects/project-presentations/{filename}.pdf\"\n",
    "\n",
    "out = widgets.Output()\n",
    "with out:\n",
    "    print(f\"If you want to download the slides: {download_link}\")\n",
    "    display(IFrame(src=f\"{render_link}\", width=730, height=410))\n",
    "display(out)"
   ]
  },
  {
   "cell_type": "markdown",
   "metadata": {
    "execution": {}
   },
   "source": [
    "### Coastal El Niño Index impact on air temperature and precipitation anomalies and future projections\n",
    "**Authors**: Daphne Arenas, Selyn Acuña\n",
    "\n",
    "**Teaching assistants**: Graziela Luzia, Nidia Tobon"
   ]
  },
  {
   "cell_type": "code",
   "execution_count": null,
   "metadata": {
    "cellView": "form",
    "execution": {}
   },
   "outputs": [
    {
     "data": {
      "application/vnd.jupyter.widget-view+json": {
       "model_id": "3d3391ebc789440c986375dc328017a1",
       "version_major": 2,
       "version_minor": 0
      },
      "text/plain": [
       "Output()"
      ]
     },
     "metadata": {},
     "output_type": "display_data"
    }
   ],
   "source": [
    "# @markdown\n",
    "from ipywidgets import widgets\n",
    "from IPython.display import IFrame\n",
    "\n",
    "filename = \"2023ENSO_Coastal_El_Nino_index_impact_on_air_temperature_and_precipitation_anomalies_and_future_projections\"\n",
    "\n",
    "download_link = f\"https://github.com/neuromatch/climate-course-content/blob/main/projects/past-projects/project-presentations/{filename}.pdf\"\n",
    "render_link = f\"https://nbviewer.org/github/neuromatch/climate-course-content/blob/main/projects/past-projects/project-presentations/{filename}.pdf\"\n",
    "\n",
    "out = widgets.Output()\n",
    "with out:\n",
    "    print(f\"If you want to download the slides: {download_link}\")\n",
    "    display(IFrame(src=f\"{render_link}\", width=730, height=410))\n",
    "display(out)"
   ]
  },
  {
   "cell_type": "markdown",
   "metadata": {
    "execution": {}
   },
   "source": [
    "### The impact of different phases of  El Niño-Southern Oscillation (ENSO) on the precipitation intensity in West Africa\n",
    "**Authors**: Daria Proklova, Emmanuel Mashonjowa, Joana Dopp, Ludovica Vissat, Obiageri Mbah\n",
    "\n",
    "**Teaching assistants**: Eligio Maure, Marco Miani"
   ]
  },
  {
   "cell_type": "code",
   "execution_count": null,
   "metadata": {
    "cellView": "form",
    "execution": {}
   },
   "outputs": [
    {
     "data": {
      "application/vnd.jupyter.widget-view+json": {
       "model_id": "e0db7413f81c4363a33bdf03cfc82a91",
       "version_major": 2,
       "version_minor": 0
      },
      "text/plain": [
       "Output()"
      ]
     },
     "metadata": {},
     "output_type": "display_data"
    }
   ],
   "source": [
    "# @markdown\n",
    "from ipywidgets import widgets\n",
    "from IPython.display import IFrame\n",
    "\n",
    "filename = \"2023ENSO_The_impact_of_different_phases_of_ENSO_on_the_precipitation_intensity_in_West_Africa\"\n",
    "\n",
    "download_link = f\"https://github.com/neuromatch/climate-course-content/blob/main/projects/past-projects/project-presentations/{filename}.pdf\"\n",
    "render_link = f\"https://nbviewer.org/github/neuromatch/climate-course-content/blob/main/projects/past-projects/project-presentations/{filename}.pdf\"\n",
    "\n",
    "out = widgets.Output()\n",
    "with out:\n",
    "    print(f\"If you want to download the slides: {download_link}\")\n",
    "    display(IFrame(src=f\"{render_link}\", width=730, height=410))\n",
    "display(out)"
   ]
  },
  {
   "cell_type": "markdown",
   "metadata": {
    "execution": {}
   },
   "source": [
    "### Extraordinary ENSO El Niño (1997-98) on East Africa\n",
    "**Authors**: Ximena Miranda, Sergei Nabatov, Abdus Samad, Jesús Pozo T., Alethia Kielbasa\n",
    "\n",
    "**Teaching assistants**: Rene Navarro Labastida, Rashmi Kulranjan"
   ]
  },
  {
   "cell_type": "code",
   "execution_count": null,
   "metadata": {
    "cellView": "form",
    "execution": {}
   },
   "outputs": [
    {
     "data": {
      "application/vnd.jupyter.widget-view+json": {
       "model_id": "cd43b6d731634ee9bac08e774fa5c55d",
       "version_major": 2,
       "version_minor": 0
      },
      "text/plain": [
       "Output()"
      ]
     },
     "metadata": {},
     "output_type": "display_data"
    }
   ],
   "source": [
    "# @markdown\n",
    "from ipywidgets import widgets\n",
    "from IPython.display import IFrame\n",
    "\n",
    "filename = \"2023ENSO_Extraordinary_ENSO_El_Nino_1997_98_on_East_Africa\"\n",
    "\n",
    "download_link = f\"https://github.com/neuromatch/climate-course-content/blob/main/projects/past-projects/project-presentations/{filename}.pdf\"\n",
    "render_link = f\"https://nbviewer.org/github/neuromatch/climate-course-content/blob/main/projects/past-projects/project-presentations/{filename}.pdf\"\n",
    "\n",
    "out = widgets.Output()\n",
    "with out:\n",
    "    print(f\"If you want to download the slides: {download_link}\")\n",
    "    display(IFrame(src=f\"{render_link}\", width=730, height=410))\n",
    "display(out)"
   ]
  },
  {
   "cell_type": "markdown",
   "metadata": {
    "execution": {}
   },
   "source": [
    "### The impact of ENSO on coastal ocean productivity\n",
    "**Authors**: Elizaveta Baranova-Parfenova, Andrea A. Cabrera, Vanni Consumi, Diana Guzmán, Sthitapragya Ray\n",
    "\n",
    "\n",
    "**Teaching assistants**: Eligio Maure, Marco Miani"
   ]
  },
  {
   "cell_type": "code",
   "execution_count": null,
   "metadata": {
    "cellView": "form",
    "execution": {}
   },
   "outputs": [
    {
     "data": {
      "application/vnd.jupyter.widget-view+json": {
       "model_id": "62ef0ea275b2423b8b3b45ecbec68a91",
       "version_major": 2,
       "version_minor": 0
      },
      "text/plain": [
       "Output()"
      ]
     },
     "metadata": {},
     "output_type": "display_data"
    }
   ],
   "source": [
    "# @markdown\n",
    "from ipywidgets import widgets\n",
    "from IPython.display import IFrame\n",
    "\n",
    "filename = \"2023ENSO_The_impact_of_ENSO_on_coastal_ocean_productivity\"\n",
    "\n",
    "download_link = f\"https://github.com/neuromatch/climate-course-content/blob/main/projects/past-projects/project-presentations/{filename}.pdf\"\n",
    "render_link = f\"https://nbviewer.org/github/neuromatch/climate-course-content/blob/main/projects/past-projects/project-presentations/{filename}.pdf\"\n",
    "\n",
    "out = widgets.Output()\n",
    "with out:\n",
    "    print(f\"If you want to download the slides: {download_link}\")\n",
    "    display(IFrame(src=f\"{render_link}\", width=730, height=410))\n",
    "display(out)"
   ]
  },
  {
   "cell_type": "markdown",
   "metadata": {
    "execution": {}
   },
   "source": [
    "### Effects of ENSO on sugarcane production in Brazil\n",
    "**Authors**: Tomas Alegre, Katherine Wood, Maria Perez, María Fernanda De Los Ríos\n",
    "\n",
    "**Teaching assistants**: Rene Navarro Labastida, Olivia Vashti Ayim"
   ]
  },
  {
   "cell_type": "code",
   "execution_count": null,
   "metadata": {
    "cellView": "form",
    "execution": {}
   },
   "outputs": [
    {
     "data": {
      "application/vnd.jupyter.widget-view+json": {
       "model_id": "8b0e32c7f0b64cbd9fd06cde3f243371",
       "version_major": 2,
       "version_minor": 0
      },
      "text/plain": [
       "Output()"
      ]
     },
     "metadata": {},
     "output_type": "display_data"
    }
   ],
   "source": [
    "# @markdown\n",
    "from ipywidgets import widgets\n",
    "from IPython.display import IFrame\n",
    "\n",
    "filename = \"2023ENSO_Effects_of_ENSO_on_sugarcane_production_in_Brazil\"\n",
    "\n",
    "download_link = f\"https://github.com/neuromatch/climate-course-content/blob/main/projects/past-projects/project-presentations/{filename}.pdf\"\n",
    "render_link = f\"https://nbviewer.org/github/neuromatch/climate-course-content/blob/main/projects/past-projects/project-presentations/{filename}.pdf\"\n",
    "\n",
    "out = widgets.Output()\n",
    "with out:\n",
    "    print(f\"If you want to download the slides: {download_link}\")\n",
    "    display(IFrame(src=f\"{render_link}\", width=730, height=410))\n",
    "display(out)"
   ]
  },
  {
   "cell_type": "markdown",
   "metadata": {
    "execution": {}
   },
   "source": [
    "### The Impact of ENSO on precipitation in the Philippines\n",
    "**Authors**: Neil Marc Sordilla, Kirtana Phatnani, Kimia Marvi, Anjana Shree\n",
    "\n",
    "**Teaching assistants**: Eligio Maure, Danny McCullock"
   ]
  },
  {
   "cell_type": "code",
   "execution_count": null,
   "metadata": {
    "cellView": "form",
    "execution": {}
   },
   "outputs": [
    {
     "data": {
      "application/vnd.jupyter.widget-view+json": {
       "model_id": "ab1d171b0aa04c7f8274922a22f76666",
       "version_major": 2,
       "version_minor": 0
      },
      "text/plain": [
       "Output()"
      ]
     },
     "metadata": {},
     "output_type": "display_data"
    }
   ],
   "source": [
    "# @markdown\n",
    "from ipywidgets import widgets\n",
    "from IPython.display import IFrame\n",
    "\n",
    "filename = \"2023ENSO_The_impact_of_ENSO_on_precipitation_in_the_Philippines\"\n",
    "\n",
    "download_link = f\"https://github.com/neuromatch/climate-course-content/blob/main/projects/past-projects/project-presentations/{filename}.pdf\"\n",
    "render_link = f\"https://nbviewer.org/github/neuromatch/climate-course-content/blob/main/projects/past-projects/project-presentations/{filename}.pdf\"\n",
    "\n",
    "out = widgets.Output()\n",
    "with out:\n",
    "    print(f\"If you want to download the slides: {download_link}\")\n",
    "    display(IFrame(src=f\"{render_link}\", width=730, height=410))\n",
    "display(out)"
   ]
  },
  {
   "cell_type": "markdown",
   "metadata": {
    "execution": {}
   },
   "source": [
    "### Impact of ENSO on Monsoon onset and the total precipitation in the Maritime Continent during wet seasons\n",
    "**Authors**: Zhixian Yang, Rosmery Lidez Condori Huanca, Tejaswini Machhindra Pawase, Naomi Nafisa Rahman, Md. Aminul Haque Laskor\n",
    "\n",
    "**Teaching assistants**: Rene Navarro Labastida, Olivia Vashti Ayim"
   ]
  },
  {
   "cell_type": "code",
   "execution_count": null,
   "metadata": {
    "cellView": "form",
    "execution": {}
   },
   "outputs": [
    {
     "data": {
      "application/vnd.jupyter.widget-view+json": {
       "model_id": "1c71a65f63ce483eaea044839c772021",
       "version_major": 2,
       "version_minor": 0
      },
      "text/plain": [
       "Output()"
      ]
     },
     "metadata": {},
     "output_type": "display_data"
    }
   ],
   "source": [
    "# @markdown\n",
    "from ipywidgets import widgets\n",
    "from IPython.display import IFrame\n",
    "\n",
    "filename = \"2023ENSO_Impact_of_ENSO_on_Monsoon_onset_and_the_total_precipitation_in_the_Maritime_Continent_during_wet_seasons\"\n",
    "\n",
    "download_link = f\"https://github.com/neuromatch/climate-course-content/blob/main/projects/past-projects/project-presentations/{filename}.pdf\"\n",
    "render_link = f\"https://nbviewer.org/github/neuromatch/climate-course-content/blob/main/projects/past-projects/project-presentations/{filename}.pdf\"\n",
    "\n",
    "out = widgets.Output()\n",
    "with out:\n",
    "    print(f\"If you want to download the slides: {download_link}\")\n",
    "    display(IFrame(src=f\"{render_link}\", width=730, height=410))\n",
    "display(out)"
   ]
  }
 ],
 "metadata": {
  "colab": {
   "collapsed_sections": [],
   "include_colab_link": true,
   "name": "ENSO",
   "toc_visible": true
  },
  "kernel": {
   "display_name": "Python 3",
   "language": "python",
   "name": "python3"
  },
  "kernelspec": {
   "display_name": "Python 3 (ipykernel)",
   "language": "python",
   "name": "python3"
  },
  "language_info": {
   "codemirror_mode": {
    "name": "ipython",
    "version": 3
   },
   "file_extension": ".py",
   "mimetype": "text/x-python",
   "name": "python",
   "nbconvert_exporter": "python",
   "pygments_lexer": "ipython3",
   "version": "3.9.19"
  }
 },
 "nbformat": 4,
 "nbformat_minor": 4
}
