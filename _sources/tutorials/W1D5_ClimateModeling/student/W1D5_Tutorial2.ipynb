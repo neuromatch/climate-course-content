{
 "cells": [
  {
   "cell_type": "markdown",
   "metadata": {
    "execution": {}
   },
   "source": [
    "[![Open In Colab](https://colab.research.google.com/assets/colab-badge.svg)](https://colab.research.google.com/github/neuromatch/climate-course-content/blob/main/tutorials/W1D5_ClimateModeling/student/W1D5_Tutorial2.ipynb)   <a href=\"https://kaggle.com/kernels/welcome?src=https://raw.githubusercontent.com/neuromatch/climate-course-content/main/tutorials/W1D5_ClimateModeling/student/W1D5_Tutorial2.ipynb\" target=\"_blank\"><img alt=\"Open in Kaggle\" src=\"https://kaggle.com/static/images/open-in-kaggle.svg\"/></a>"
   ]
  },
  {
   "cell_type": "markdown",
   "metadata": {
    "execution": {}
   },
   "source": [
    "# Tutorial 2: Energy Balance\n",
    "\n",
    "\n",
    "**Week 1, Day 5, Introduction to Climate Modeling**\n",
    "\n",
    "**Content creators:** Jenna Pearson and Brian E. J. Rose\n",
    "\n",
    "**Content reviewers:** Mujeeb Abdulfatai, Nkongho Ayuketang Arreyndip, Jeffrey N. A. Aryee, Dionessa Biton, Younkap Nina Duplex, Will Gregory, Paul Heubel, Zahra Khodakaramimaghsoud, Peter Ohue, Abel Shibu, Derick Temfack, Yunlong Xu, Peizhen Yang, Chi Zhang, Ohad Zivan\n",
    "\n",
    "**Content editors:** Brodie Pearson, Abigail Bodner, Ohad Zivan, Chi Zhang\n",
    "\n",
    "**Production editors:** Wesley Banfield, Jenna Pearson, Konstantine Tsafatinos, Chi Zhang, Ohad Zivan\n",
    "\n",
    "**Our 2024 Sponsors:** CMIP, NFDI4Earth\n"
   ]
  },
  {
   "cell_type": "markdown",
   "metadata": {
    "execution": {}
   },
   "source": [
    "# Tutorial Objectives\n",
    "\n",
    "*Estimated timing of tutorial:* 30 minutes\n",
    "\n",
    "In this tutorial, you will learn about the components that define energy balance, including insolation and albedo.\n",
    "\n",
    "By the end of this tutorial you will be able to:\n",
    "\n",
    "- Calculate the albedo of Earth based on observations.\n",
    "- Define and find the equilibrium temperature under the assumption of energy balance.\n",
    "- Understand the relationship between transmissivity and equilibrium temperature.\n",
    "\n",
    "*This tutorial is based on content from [The Climate Laboratory](https://brian-rose.github.io/ClimateLaboratoryBook/) by Brian E. J. Rose.*"
   ]
  },
  {
   "cell_type": "markdown",
   "metadata": {
    "execution": {}
   },
   "source": [
    "# Setup"
   ]
  },
  {
   "cell_type": "code",
   "execution_count": null,
   "metadata": {
    "execution": {},
    "tags": [
     "colab"
    ]
   },
   "outputs": [],
   "source": [
    "# imports\n",
    "import numpy as np  # used for algebra and array operations\n",
    "import matplotlib.pyplot as plt  # used for plotting"
   ]
  },
  {
   "cell_type": "markdown",
   "metadata": {},
   "source": [
    "##  Figure settings\n"
   ]
  },
  {
   "cell_type": "code",
   "execution_count": null,
   "metadata": {
    "cellView": "form",
    "execution": {},
    "tags": [
     "hide-input"
    ]
   },
   "outputs": [],
   "source": [
    "# @title Figure settings\n",
    "import ipywidgets as widgets  # interactive display\n",
    "\n",
    "%config InlineBackend.figure_format = 'retina'\n",
    "plt.style.use(\n",
    "    \"https://raw.githubusercontent.com/neuromatch/climate-course-content/main/cma.mplstyle\"\n",
    ")"
   ]
  },
  {
   "cell_type": "markdown",
   "metadata": {},
   "source": [
    "##  Video 1: Energy Balance\n"
   ]
  },
  {
   "cell_type": "code",
   "execution_count": null,
   "metadata": {
    "cellView": "form",
    "execution": {},
    "tags": [
     "remove-input"
    ]
   },
   "outputs": [],
   "source": [
    "# @title Video 1: Energy Balance\n",
    "\n",
    "from ipywidgets import widgets\n",
    "from IPython.display import YouTubeVideo\n",
    "from IPython.display import IFrame\n",
    "from IPython.display import display\n",
    "\n",
    "\n",
    "class PlayVideo(IFrame):\n",
    "  def __init__(self, id, source, page=1, width=400, height=300, **kwargs):\n",
    "    self.id = id\n",
    "    if source == 'Bilibili':\n",
    "      src = f'https://player.bilibili.com/player.html?bvid={id}&page={page}'\n",
    "    elif source == 'Osf':\n",
    "      src = f'https://mfr.ca-1.osf.io/render?url=https://osf.io/download/{id}/?direct%26mode=render'\n",
    "    super(PlayVideo, self).__init__(src, width, height, **kwargs)\n",
    "\n",
    "\n",
    "def display_videos(video_ids, W=400, H=300, fs=1):\n",
    "  tab_contents = []\n",
    "  for i, video_id in enumerate(video_ids):\n",
    "    out = widgets.Output()\n",
    "    with out:\n",
    "      if video_ids[i][0] == 'Youtube':\n",
    "        video = YouTubeVideo(id=video_ids[i][1], width=W,\n",
    "                             height=H, fs=fs, rel=0)\n",
    "        print(f'Video available at https://youtube.com/watch?v={video.id}')\n",
    "      else:\n",
    "        video = PlayVideo(id=video_ids[i][1], source=video_ids[i][0], width=W,\n",
    "                          height=H, fs=fs, autoplay=False)\n",
    "        if video_ids[i][0] == 'Bilibili':\n",
    "          print(f'Video available at https://www.bilibili.com/video/{video.id}')\n",
    "        elif video_ids[i][0] == 'Osf':\n",
    "          print(f'Video available at https://osf.io/{video.id}')\n",
    "      display(video)\n",
    "    tab_contents.append(out)\n",
    "  return tab_contents\n",
    "\n",
    "\n",
    "video_ids = [('Youtube', 'MOo5Xa-Nfzc'), ('Bilibili', 'BV1oV4y127uo')]\n",
    "tab_contents = display_videos(video_ids, W=730, H=410)\n",
    "tabs = widgets.Tab()\n",
    "tabs.children = tab_contents\n",
    "for i in range(len(tab_contents)):\n",
    "  tabs.set_title(i, video_ids[i][0])\n",
    "display(tabs)"
   ]
  },
  {
   "cell_type": "code",
   "execution_count": null,
   "metadata": {
    "cellView": "form",
    "execution": {},
    "pycharm": {
     "name": "#%%\n"
    },
    "tags": [
     "remove-input"
    ]
   },
   "outputs": [],
   "source": [
    "# @markdown\n",
    "from ipywidgets import widgets\n",
    "from IPython.display import IFrame\n",
    "\n",
    "link_id = \"ce6mx\"\n",
    "\n",
    "download_link = f\"https://osf.io/download/{link_id}/\"\n",
    "render_link = f\"https://mfr.ca-1.osf.io/render?url=https://osf.io/{link_id}/?direct%26mode=render%26action=download%26mode=render\"\n",
    "# @markdown\n",
    "out = widgets.Output()\n",
    "with out:\n",
    "    print(f\"If you want to download the slides: {download_link}\")\n",
    "    display(IFrame(src=f\"{render_link}\", width=730, height=410))\n",
    "display(out)"
   ]
  },
  {
   "cell_type": "markdown",
   "metadata": {
    "execution": {}
   },
   "source": [
    "# Section 1: A Radiating Sun"
   ]
  },
  {
   "cell_type": "markdown",
   "metadata": {
    "execution": {}
   },
   "source": [
    "## Section 1.1: Incoming Solar Radiation (Insolation) and Albedo ($\\alpha$)"
   ]
  },
  {
   "cell_type": "markdown",
   "metadata": {
    "execution": {}
   },
   "source": [
    "Just as Earth emits radiation, so does the sun. Radiation from the sun is referred to as *solar* or **[shortwave radiation](https://glossarytest.ametsoc.net/wiki/Shortwave_radiation)**. We will denote the incoming solar radiation, or **[insolation](https://glossary.ametsoc.org/wiki/Insolation)**, as $Q$. \n",
    "\n",
    "From the 'All Sky' Energy budget shown below, the insolation is observed to be $Q = 340 \\text{ W m}^{-2}$. \n",
    "\n",
    "_Note that 'All Sky' refers to fluxes that **include the effects of clouds**. Compare the 'All Sky' figure to the 'Clear Sky' figure below, to see how the fluxes differ when measured only over regions that are cloud-free._\n",
    "\n",
    "Some of this radiation is reflected back to space (for example off of ice and snow or clouds). We will denote the reflected flux back to space as $F_{\\text{ref}}$. \n",
    "\n",
    "From the 'All Sky' energy budget below, this reflected flux is $F_{\\text{ref}} = 100 \\text{ W m}^{-2}$."
   ]
  },
  {
   "cell_type": "markdown",
   "metadata": {
    "execution": {}
   },
   "source": [
    "![Global Mean Energy Budget](https://www.ipcc.ch/report/ar6/wg1/downloads/figures/IPCC_AR6_WGI_Figure_7_2.png)\n",
    "Figure 7.2 | Schematic representation of the global mean energy budget of the Earth (upper panel), and its equivalent without considerations of cloud effects (lower panel). Numbers indicate best estimates for the magnitudes of the globally averaged energy balance components in $\\text{ W m}^{-2}$ together with their uncertainty ranges in parentheses (5–95% confidence range), representing climate conditions at the beginning of the 21st century. Note that the cloud-free energy budget shown in the lower panel is not the one that Earth would achieve in equilibrium when no clouds could form. It rather represents the global mean fluxes as determined solely by removing the clouds but otherwise retaining the entire atmospheric structure. This enables the quantification of the effects of clouds on the Earth energy budget and corresponds to the way clear-sky fluxes are calculated in climate models. Thus, the cloud-free energy budget is not closed and therefore the sensible and latent heat fluxes are not quantified in the lower panel. Figure adapted from Wild et al. (2015, 2019). (Credit: [IPCC AR6 Report](https://www.ipcc.ch/report/ar6/wg1/downloads/figures/IPCC_AR6_WGI_Figure_7_2.png))"
   ]
  },
  {
   "cell_type": "markdown",
   "metadata": {
    "execution": {}
   },
   "source": [
    "The _fraction_ of reflected radiation relative to the insolation is called the **[planetary albedo](https://glossarytest.ametsoc.net/wiki/Planetary_albedo)** or just **albedo (**$\\mathbf{\\alpha}$**)**\n",
    "\n",
    "\\begin{align}\n",
    "\\alpha = \\frac{F_{\\text{ref}}}{Q}\n",
    "\\end{align}\n",
    "\n",
    "Albedo is a unitless number between 0 and 1. We can use this formula to find the albedo of Earth."
   ]
  },
  {
   "cell_type": "code",
   "execution_count": null,
   "metadata": {
    "execution": {},
    "executionInfo": {
     "elapsed": 17,
     "status": "ok",
     "timestamp": 1681355999731,
     "user": {
      "displayName": "Jenna Pearson",
      "userId": "05648130581702734913"
     },
     "user_tz": 420
    }
   },
   "outputs": [],
   "source": [
    "# define the observed insolation based on observations from the IPCC AR6 Figure 7.2\n",
    "Q = 340  # W m^-2\n",
    "\n",
    "# define the observed reflected radiation based on observations from the IPCC AR6 Figure 7.2\n",
    "F_ref = 100  # W m^-2\n",
    "\n",
    "# plug into equation\n",
    "alpha = F_ref / Q  # unitless number between 0 and 1\n",
    "\n",
    "# display answer\n",
    "print(\"Albedo: \", alpha)"
   ]
  },
  {
   "cell_type": "markdown",
   "metadata": {
    "execution": {}
   },
   "source": [
    "### Questions 1.1: Climate Connection"
   ]
  },
  {
   "cell_type": "markdown",
   "metadata": {
    "execution": {}
   },
   "source": [
    "1. Keeping insolation ($Q$) constant, what does a low albedo imply? What about a high albedo?\n",
    "2. There are two components to albedo, the reflected radiation in the numerator and the insolation in the denomenator. Do you think one or both of these have changed over Earth's history?\n"
   ]
  },
  {
   "cell_type": "markdown",
   "metadata": {
    "colab_type": "text",
    "execution": {}
   },
   "source": [
    "[*Click for solution*](https://github.com/neuromatch/climate-course-content/tree/main/tutorials/W1D5_ClimateModeling/solutions/W1D5_Tutorial2_Solution_94090198.py)\n",
    "\n"
   ]
  },
  {
   "cell_type": "markdown",
   "metadata": {
    "execution": {}
   },
   "source": [
    "## Section 1.2: Absorbed Shortwave Radiation (ASR)"
   ]
  },
  {
   "cell_type": "markdown",
   "metadata": {
    "execution": {}
   },
   "source": [
    "The **absorbed shortwave radiation (ASR)** is the amount of insolation that is _not_ reflected, and actually makes it to Earth's surface. Thus,\n",
    "\n",
    "\\begin{align}\n",
    "ASR = Q-F_{\\text{ref}} = (1-\\alpha)Q\n",
    "\\end{align}\n",
    "\n",
    "From observations, we can estimate the absorbed shortwave radiation."
   ]
  },
  {
   "cell_type": "code",
   "execution_count": null,
   "metadata": {
    "execution": {}
   },
   "outputs": [],
   "source": [
    "# plug into equation\n",
    "ASR = (1 - alpha) * Q\n",
    "\n",
    "# display answer\n",
    "print(\"Absorbed Shortwave Radiation: \", ASR, \" W m^-2\")"
   ]
  },
  {
   "cell_type": "markdown",
   "metadata": {
    "execution": {}
   },
   "source": [
    "### Questions 1.2: Climate Connection\n",
    "\n",
    "1. Compare the value of ASR to the observed OLR of $239 \\text{ W m}^{-2}$. Is it more or less? What do you think this means?\n",
    "2. Does this model take into account any effects of gases in that atmosphere on the solar radiation that makes it to Earth's surface? Are there any greenhouse gases you think are important and should be included in more complex models?"
   ]
  },
  {
   "cell_type": "markdown",
   "metadata": {
    "colab_type": "text",
    "execution": {}
   },
   "source": [
    "[*Click for solution*](https://github.com/neuromatch/climate-course-content/tree/main/tutorials/W1D5_ClimateModeling/solutions/W1D5_Tutorial2_Solution_d879cd19.py)\n",
    "\n"
   ]
  },
  {
   "cell_type": "markdown",
   "metadata": {
    "execution": {}
   },
   "source": [
    "# Section 2: Energy Balance"
   ]
  },
  {
   "cell_type": "markdown",
   "metadata": {
    "execution": {}
   },
   "source": [
    "## Section 2.1: Equilibrium Temperature"
   ]
  },
  {
   "cell_type": "markdown",
   "metadata": {
    "execution": {}
   },
   "source": [
    "Energy Balance is achieved when radiation absorbed by Earth's surface (ASR) is equal to longwave radiation going out to space (OLR). That is\n",
    "\n",
    "\\begin{align}\n",
    "ASR = OLR\n",
    "\\end{align}\n",
    "\n",
    "By substituting into the equations from previous sections, we can find the surface temperature of Earth needed to maintain this balance. This is called the **equilibrium temperature (** $\\mathbf{T_{\\text{eq}}}$ **)**.\n",
    "\n",
    "Recall $OLR = \\tau\\sigma T^4$ and $ASR = (1-\\alpha)Q$. The **equilibrium temperature** is the temperature the system would have if the energy balance was perfectly reached. Assuming energy balance, we will call the emission temperature denoted previously the equilibrium temperature ($T_{\\text{eq}}$) instead. Thus,\n",
    "\n",
    "\\begin{align}\n",
    "(1-\\alpha)Q = ASR = OLR = \\tau\\sigma T_{\\text{eq}}^4\n",
    "\\end{align}\n",
    "\n",
    "Solving for $T_{\\text{eq}}$ we find\n",
    "\n",
    "\\begin{align}\n",
    "T_{\\text{eq}} = \\sqrt[4]{\\frac{(1-\\alpha)Q}{\\tau\\sigma}}\n",
    "\\end{align}\n",
    "\n",
    "Let's calculate what this should be for Earth using observations:\n"
   ]
  },
  {
   "cell_type": "code",
   "execution_count": null,
   "metadata": {
    "execution": {},
    "executionInfo": {
     "elapsed": 236,
     "status": "ok",
     "timestamp": 1681356054176,
     "user": {
      "displayName": "Jenna Pearson",
      "userId": "05648130581702734913"
     },
     "user_tz": 420
    }
   },
   "outputs": [],
   "source": [
    "# define the Stefan-Boltzmann Constant, noting we are using 'e' for scientific notation\n",
    "sigma = 5.67e-8  # W m^-2 K^-4\n",
    "\n",
    "# define transmissivity (calculated previously from observations in tutorial 1)\n",
    "tau = 0.6127  # unitless number between 0 and 1\n",
    "\n",
    "# plug into equation\n",
    "T_eq = (((1 - alpha) * Q) / (tau * sigma)) ** (1 / 4)\n",
    "\n",
    "# display answer\n",
    "print(\"Equilibrium Temperature: \", T_eq, \"K or\", T_eq - 273, \"°C\")"
   ]
  },
  {
   "cell_type": "markdown",
   "metadata": {
    "execution": {}
   },
   "source": [
    "# Section 3: Climate Change Scenario"
   ]
  },
  {
   "cell_type": "markdown",
   "metadata": {
    "execution": {}
   },
   "source": [
    "## Section 3.1: Increasing Greenhouse Gas Concentrations"
   ]
  },
  {
   "cell_type": "markdown",
   "metadata": {
    "execution": {}
   },
   "source": [
    "Assume due to the increasing presence of greenhouse gases in the the atmosphere, that $\\tau$ decreases to $0.57$.\n",
    "\n",
    "We can then use our climate model and python to find the new equilibrium temperature.\n"
   ]
  },
  {
   "cell_type": "code",
   "execution_count": null,
   "metadata": {
    "execution": {},
    "executionInfo": {
     "elapsed": 4,
     "status": "ok",
     "timestamp": 1681356085750,
     "user": {
      "displayName": "Jenna Pearson",
      "userId": "05648130581702734913"
     },
     "user_tz": 420
    }
   },
   "outputs": [],
   "source": [
    "# define transmissivity (assupmtion in this case)\n",
    "tau_2 = 0.57  # unitless number between 0 and 1\n",
    "\n",
    "# plug into equation\n",
    "T_eq_2 = (((1 - alpha) * Q) / (tau_2 * sigma)) ** (1 / 4)\n",
    "\n",
    "# display answer\n",
    "print(\"New Equilibrium Temperature: \", T_eq_2, \"K or\", T_eq_2 - 273, \"°C\")"
   ]
  },
  {
   "cell_type": "markdown",
   "metadata": {
    "execution": {}
   },
   "source": [
    "### Questions 3.1: Climate Connection"
   ]
  },
  {
   "cell_type": "markdown",
   "metadata": {
    "execution": {}
   },
   "source": [
    "1.  Does a reduction in the transmissivity, $\\tau$, imply a decrease or increase in OLR?\n",
    "2.  How does the new equilibrium temperature compare to that calculated previously? Why do you think this is?\n"
   ]
  },
  {
   "cell_type": "markdown",
   "metadata": {
    "colab_type": "text",
    "execution": {}
   },
   "source": [
    "[*Click for solution*](https://github.com/neuromatch/climate-course-content/tree/main/tutorials/W1D5_ClimateModeling/solutions/W1D5_Tutorial2_Solution_f766d310.py)\n",
    "\n"
   ]
  },
  {
   "cell_type": "markdown",
   "metadata": {
    "execution": {}
   },
   "source": [
    "### Coding Exercises 3.1"
   ]
  },
  {
   "cell_type": "markdown",
   "metadata": {
    "execution": {}
   },
   "source": [
    "1. Plot the equilibrium temperature as a function of $\\tau$, for $\\tau$ ranging from zero to one.\n"
   ]
  },
  {
   "cell_type": "code",
   "execution_count": null,
   "metadata": {
    "execution": {}
   },
   "outputs": [],
   "source": [
    "# define the observed insolation based on observations from the IPCC AR6 Figure 7.2\n",
    "Q = ...\n",
    "\n",
    "# define the observed reflected radiation based on observations from the IPCC AR6 Figure 7.2\n",
    "F_ref = ...\n",
    "\n",
    "# define albedo\n",
    "alpha = ...\n",
    "\n",
    "# define the Stefan-Boltzmann Constant, noting we are using 'e' for scientific notation\n",
    "sigma = ...\n",
    "\n",
    "\n",
    "# define a function that returns the equilibrium temperature and takes argument tau\n",
    "def get_eqT(tau):\n",
    "    return ...\n",
    "\n",
    "\n",
    "# define tau as an array extending from 0 to 1 with spacing interval 0.01\n",
    "tau = ...\n",
    "\n",
    "# use list comprehension to obtain the equilibrium temperature as a function of tau\n",
    "eqT = ...\n",
    "\n",
    "fig, ax = plt.subplots()\n",
    "# Plot tau vs. eqT\n",
    "_ = ...\n",
    "ax.set_xlabel(...)\n",
    "ax.set_ylabel(...)"
   ]
  },
  {
   "cell_type": "markdown",
   "metadata": {
    "colab_type": "text",
    "execution": {},
    "executionInfo": {
     "elapsed": 5,
     "status": "ok",
     "timestamp": 1681356100692,
     "user": {
      "displayName": "Jenna Pearson",
      "userId": "05648130581702734913"
     },
     "user_tz": 420
    }
   },
   "source": [
    "[*Click for solution*](https://github.com/neuromatch/climate-course-content/tree/main/tutorials/W1D5_ClimateModeling/solutions/W1D5_Tutorial2_Solution_3fa7479c.py)\n",
    "\n",
    "*Example output:*\n",
    "\n",
    "<img alt='Solution hint' align='left' width=775.0 height=575.0 src=https://raw.githubusercontent.com/neuromatch/climate-course-content/main/tutorials/W1D5_ClimateModeling/static/W1D5_Tutorial2_Solution_3fa7479c_2.png>\n",
    "\n"
   ]
  },
  {
   "cell_type": "markdown",
   "metadata": {
    "execution": {}
   },
   "source": [
    "# Summary\n",
    "In this tutorial, you explored the fundamentals of Earth's energy balance.  You learned how to calculate Earth's albedo $\\mathbf{\\alpha}$ and how absorbed shortwave radiation contributes to energy balance. You also discovered the concept of equilibrium temperature and it's relationship to energy balance. The tutorial also highlighted the impact of increasing greenhouse gases on the equilibrium temperature."
   ]
  },
  {
   "cell_type": "markdown",
   "metadata": {
    "execution": {}
   },
   "source": [
    "# Resources"
   ]
  },
  {
   "cell_type": "markdown",
   "metadata": {
    "execution": {}
   },
   "source": [
    "Useful links:\n",
    "\n",
    "- [Shortwave Radiation](https://glossarytest.ametsoc.net/wiki/Shortwave_radiation)\n",
    "- [Insolation](https://glossary.ametsoc.org/wiki/Insolation)\n",
    "- [Planetary Albedo](https://glossarytest.ametsoc.net/wiki/Planetary_albedo)\n",
    "- The [Climate Laboratory](https://brian-rose.github.io/ClimateLaboratoryBook/) by Brian E. J. Rose"
   ]
  }
 ],
 "metadata": {
  "colab": {
   "collapsed_sections": [],
   "include_colab_link": true,
   "name": "W1D5_Tutorial2",
   "provenance": [],
   "toc_visible": true
  },
  "kernel": {
   "display_name": "Python 3",
   "language": "python",
   "name": "python3"
  },
  "kernelspec": {
   "display_name": "Python 3 (ipykernel)",
   "language": "python",
   "name": "python3"
  },
  "language_info": {
   "codemirror_mode": {
    "name": "ipython",
    "version": 3
   },
   "file_extension": ".py",
   "mimetype": "text/x-python",
   "name": "python",
   "nbconvert_exporter": "python",
   "pygments_lexer": "ipython3",
   "version": "3.9.19"
  }
 },
 "nbformat": 4,
 "nbformat_minor": 4
}