{
 "cells": [
  {
   "cell_type": "markdown",
   "metadata": {
    "colab_type": "text",
    "execution": {},
    "id": "view-in-github"
   },
   "source": [
    "<a href=\"https://colab.research.google.com/github/neuromatch/climate-course-content/blob/main/tutorials/intro.ipynb\" target=\"_blank\"><img alt=\"Open In Colab\" src=\"https://colab.research.google.com/assets/colab-badge.svg\"/></a>   <a href=\"https://kaggle.com/kernels/welcome?src=https://raw.githubusercontent.com/neuromatch/climate-course-content/main/tutorials/intro.ipynb\" target=\"_blank\"><img alt=\"Open in Kaggle\" src=\"https://kaggle.com/static/images/open-in-kaggle.svg\"/></a>\n"
   ]
  },
  {
   "cell_type": "markdown",
   "metadata": {
    "execution": {},
    "pycharm": {
     "name": "#%% md\n"
    }
   },
   "source": [
    "# Introduction\n",
    "\n",
    "## Welcome to Computational Tools in Climate Science!\n"
   ]
  },
  {
   "cell_type": "markdown",
   "metadata": {
    "execution": {}
   },
   "source": [
    "![Sponsors](./static/CMA_Logo_Block_2024.png)\n"
   ]
  },
  {
   "cell_type": "markdown",
   "metadata": {
    "execution": {},
    "pycharm": {
     "name": "#%% md\n"
    }
   },
   "source": [
    "## Concepts map\n",
    "\n",
    "<img src=\"Art/CMA_Concept_Map.png\" alt=\"Concept map overview of curriculum\" class=\"bg-primary\" width=\"100%\">\n",
    "\n",
    "\\*Image made by Sloane Garelick\n"
   ]
  },
  {
   "cell_type": "markdown",
   "metadata": {
    "execution": {}
   },
   "source": [
    "We have curated an integrated program of tutorials, research projects, and professional development activities. The curriculum spans most areas of climate science and will cover cutting-edge methods to analyze climate data and models. This section will overview the curriculum.\n",
    "\n",
    "## Prerequisite refreshers\n",
    "\n",
    "We curated a number of [refresher resources](https://github.com/neuromatch/precourse/blob/main/prereqs/ClimateScience.md) for you that will help you prepare for Climatematch Academy. You are not required to study this material before the course. It is rather meant to help you detect and fill any gaps you may have in your knowledge.\n",
    "The **Introduction to Python** pre-course is an asynchronous course that you can complete on your own time. You will learn how to code in Python from scratch using straightforward examples curated by Project Pythia. If you have questions about the pre-course material, we offer support via Discord chat.\n",
    "You will also find other open-source resources to catch up on algebra, statistics, calculus, physics, chemistry, and climate science. The topics covered on these days were carefully chosen based on what you need for the course.\n",
    "\n",
    "## The Academy begins!\n",
    "\n",
    "You will start out your two weeks at Climatematch Academy covering the **fundamentals** for understanding climate science data and research. This will include an overview of the climate system and xarray, as well as an introduction to good, equitable research practices.\n",
    "\n",
    "You will then switch your focus to different types of **climate data**. You will use reanalysis products, remote sensing data, and paleoclimate proxy data to understand multi-scale climate interactions, climate monitoring, and variations in past marine, terrestrial, and atmospheric climates.\n",
    "\n",
    "This will be followed by an introduction to the **future of the climate system** as predicted through climate modeling. You will learn about climate models, how to interpret their projections of future climate, and the standard framework for assessing socio-economic climate risks. You will also explore pathways to mitigate those risks. During this time, you will also have a full day to work on your research projects, which will give you a chance to incorporate these new insights into your data analyses and interpretation.\n",
    "\n",
    "Finally, the course will cover the **responses to climate change**, including identification of extreme climate events, like heatwaves, droughts, or wildfires, and the use of climate data for tracking the impacts of climate change to inform adaptation measures.\n",
    "\n",
    "You can find more details on the daily schedule and topics taught on different days in the [General Schedule](https://comptools.climatematch.io/tutorials/Schedule/daily_schedules.html).\n"
   ]
  },
  {
   "cell_type": "markdown",
   "metadata": {
    "execution": {}
   },
   "source": [
    "# Video: Student Orientation"
   ]
  },
  {
   "cell_type": "markdown",
   "metadata": {},
   "source": [
    "\n"
   ]
  },
  {
   "cell_type": "code",
   "execution_count": null,
   "metadata": {
    "cellView": "form",
    "execution": {},
    "tags": [
     "remove-input"
    ]
   },
   "outputs": [],
   "source": [
    "# @markdown\n",
    "\n",
    "from ipywidgets import widgets\n",
    "from IPython.display import YouTubeVideo\n",
    "from IPython.display import IFrame\n",
    "from IPython.display import display\n",
    "\n",
    "\n",
    "class PlayVideo(IFrame):\n",
    "    def __init__(self, id, source, page=1, width=400, height=300, **kwargs):\n",
    "        self.id = id\n",
    "        if source == \"Bilibili\":\n",
    "            src = f\"https://player.bilibili.com/player.html?bvid={id}&page={page}\"\n",
    "        elif source == \"Osf\":\n",
    "            src = f\"https://mfr.ca-1.osf.io/render?url=https://osf.io/download/{id}/?direct%26mode=render\"\n",
    "        super(PlayVideo, self).__init__(src, width, height, **kwargs)\n",
    "\n",
    "\n",
    "def display_videos(video_ids, W=400, H=300, fs=1):\n",
    "    tab_contents = []\n",
    "    for i, video_id in enumerate(video_ids):\n",
    "        out = widgets.Output()\n",
    "        with out:\n",
    "            if video_ids[i][0] == \"Youtube\":\n",
    "                video = YouTubeVideo(\n",
    "                    id=video_ids[i][1], width=W, height=H, fs=fs, rel=0\n",
    "                )\n",
    "                print(f\"Video available at https://youtube.com/watch?v={video.id}\")\n",
    "            else:\n",
    "                video = PlayVideo(\n",
    "                    id=video_ids[i][1],\n",
    "                    source=video_ids[i][0],\n",
    "                    width=W,\n",
    "                    height=H,\n",
    "                    fs=fs,\n",
    "                    autoplay=False,\n",
    "                )\n",
    "                if video_ids[i][0] == \"Bilibili\":\n",
    "                    print(\n",
    "                        f\"Video available at https://www.bilibili.com/video/{video.id}\"\n",
    "                    )\n",
    "                elif video_ids[i][0] == \"Osf\":\n",
    "                    print(f\"Video available at https://osf.io/{video.id}\")\n",
    "            display(video)\n",
    "        tab_contents.append(out)\n",
    "    return tab_contents\n",
    "\n",
    "\n",
    "video_ids = [(\"Youtube\", \"FwjyhCLeqx0\"), (\"Bilibili\", \"BV1QE421P7EJ\")\n",
    "            ]\n",
    "tab_contents = display_videos(video_ids, W=730, H=410)\n",
    "tabs = widgets.Tab()\n",
    "tabs.children = tab_contents\n",
    "for i in range(len(tab_contents)):\n",
    "    tabs.set_title(i, video_ids[i][0])\n",
    "display(tabs)"
   ]
  }
 ],
 "metadata": {
  "colab": {
   "collapsed_sections": [],
   "include_colab_link": true,
   "name": "intro",
   "provenance": [],
   "toc_visible": true
  },
  "kernel": {
   "display_name": "Python 3",
   "language": "python",
   "name": "python3"
  },
  "kernelspec": {
   "display_name": "Python 3 (ipykernel)",
   "language": "python",
   "name": "python3"
  },
  "language_info": {
   "codemirror_mode": {
    "name": "ipython",
    "version": 3
   },
   "file_extension": ".py",
   "mimetype": "text/x-python",
   "name": "python",
   "nbconvert_exporter": "python",
   "pygments_lexer": "ipython3",
   "version": "3.9.19"
  }
 },
 "nbformat": 4,
 "nbformat_minor": 4
}