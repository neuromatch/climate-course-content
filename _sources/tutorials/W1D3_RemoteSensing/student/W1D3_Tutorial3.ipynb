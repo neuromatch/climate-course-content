{
 "cells": [
  {
   "cell_type": "markdown",
   "metadata": {
    "execution": {}
   },
   "source": [
    "[![Open In Colab](https://colab.research.google.com/assets/colab-badge.svg)](https://colab.research.google.com/github/neuromatch/climate-course-content/blob/main/tutorials/W1D3_RemoteSensing/student/W1D3_Tutorial3.ipynb)   <a href=\"https://kaggle.com/kernels/welcome?src=https://raw.githubusercontent.com/neuromatch/climate-course-content/main/tutorials/W1D3_RemoteSensing/student/W1D3_Tutorial3.ipynb\" target=\"_blank\"><img alt=\"Open in Kaggle\" src=\"https://kaggle.com/static/images/open-in-kaggle.svg\"/></a>"
   ]
  },
  {
   "cell_type": "markdown",
   "metadata": {
    "execution": {}
   },
   "source": [
    "# Tutorial 3: Visualizing Satellite CDR - Global Vegetation Mapping\n",
    "\n",
    "**Week 1, Day 3, Remote Sensing**\n",
    "\n",
    "**Content creators:** Douglas Rao\n",
    "\n",
    "**Content reviewers:** Katrina Dobson, Younkap Nina Duplex, Maria Gonzalez, Will Gregory, Nahid Hasan, Paul Heubel, Sherry Mi, Beatriz Cosenza Muralles, Jenna Pearson, Agustina Pesce, Chi Zhang, Ohad Zivan\n",
    "\n",
    "**Content editors:** Paul Heubel, Jenna Pearson, Chi Zhang, Ohad Zivan\n",
    "\n",
    "**Production editors:** Wesley Banfield, Paul Heubel, Jenna Pearson, Konstantine Tsafatinos, Chi Zhang, Ohad Zivan\n",
    "\n",
    "**Our 2024 Sponsors:** CMIP, NFDI4Earth"
   ]
  },
  {
   "cell_type": "markdown",
   "metadata": {
    "execution": {}
   },
   "source": [
    "# Tutorial Objectives\n",
    "\n",
    "*Estimated timing of tutorial:* 25 minutes\n",
    "\n",
    "In this tutorial, you will acquire the skills necessary for accessing and analyzing satellite remote sensing products, particularly in the context of climate applications. We will be using vegetation mapping as an example, and use long-term vegetation greenness data to demonstrate these skills.\n",
    "\n",
    "By the end of this tutorial you will be able to:\n",
    "\n",
    "* Locate, access, and visualize vegetation greenness data (NDVI) from the cloud using `xarray` and `matplotlib`.\n",
    "* Understand how to use quality flag information included in the datasets to filter out data that is not acceptable to use for climate analysis.\n"
   ]
  },
  {
   "cell_type": "markdown",
   "metadata": {
    "execution": {}
   },
   "source": [
    "# Setup"
   ]
  },
  {
   "cell_type": "code",
   "execution_count": null,
   "metadata": {
    "execution": {},
    "tags": [
     "colab"
    ]
   },
   "outputs": [],
   "source": [
    "# installations ( uncomment and run this cell ONLY when using google colab or kaggle )\n",
    "\n",
    "# !pip install s3fs --quiet\n",
    "\n",
    "# # properly install cartopy in colab to avoid session crash\n",
    "# !apt-get install libproj-dev proj-data proj-bin --quiet\n",
    "# !apt-get install libgeos-dev --quiet\n",
    "# !pip install cython --quiet\n",
    "# !pip install cartopy --quiet\n",
    "\n",
    "# !apt-get -qq install python-cartopy python3-cartopy  --quiet\n",
    "# !pip uninstall -y shapely  --quiet\n",
    "# !pip install shapely --no-binary shapely  --quiet\n",
    "\n",
    "# !pip install boto3 --quiet\n",
    "\n",
    "# you may need to restart the runtime after running this cell and that is ok"
   ]
  },
  {
   "cell_type": "code",
   "execution_count": null,
   "metadata": {
    "execution": {},
    "tags": []
   },
   "outputs": [],
   "source": [
    "# imports\n",
    "import s3fs\n",
    "import xarray as xr\n",
    "import matplotlib.pyplot as plt\n",
    "import cartopy.crs as ccrs\n",
    "import datetime\n",
    "import boto3\n",
    "import botocore\n",
    "import pooch\n",
    "import os\n",
    "import tempfile"
   ]
  },
  {
   "cell_type": "markdown",
   "metadata": {},
   "source": [
    "##  Install and import feedback gadget\n"
   ]
  },
  {
   "cell_type": "code",
   "execution_count": null,
   "metadata": {
    "cellView": "form",
    "execution": {},
    "tags": [
     "hide-input"
    ]
   },
   "outputs": [],
   "source": [
    "# @title Install and import feedback gadget\n",
    "\n",
    "!pip3 install vibecheck datatops --quiet\n",
    "\n",
    "from vibecheck import DatatopsContentReviewContainer\n",
    "def content_review(notebook_section: str):\n",
    "    return DatatopsContentReviewContainer(\n",
    "        \"\",  # No text prompt\n",
    "        notebook_section,\n",
    "        {\n",
    "            \"url\": \"https://pmyvdlilci.execute-api.us-east-1.amazonaws.com/klab\",\n",
    "            \"name\": \"comptools_4clim\",\n",
    "            \"user_key\": \"l5jpxuee\",\n",
    "        },\n",
    "    ).render()\n",
    "\n",
    "\n",
    "feedback_prefix = \"W1D3_T3\""
   ]
  },
  {
   "cell_type": "markdown",
   "metadata": {},
   "source": [
    "##  Figure Settings\n"
   ]
  },
  {
   "cell_type": "code",
   "execution_count": null,
   "metadata": {
    "cellView": "form",
    "execution": {},
    "tags": [
     "hide-input"
    ]
   },
   "outputs": [],
   "source": [
    "# @title Figure Settings\n",
    "import ipywidgets as widgets  # interactive display\n",
    "\n",
    "%config InlineBackend.figure_format = 'retina'\n",
    "plt.style.use(\n",
    "    \"https://raw.githubusercontent.com/neuromatch/climate-course-content/main/cma.mplstyle\"\n",
    ")"
   ]
  },
  {
   "cell_type": "markdown",
   "metadata": {},
   "source": [
    "##  Helper functions\n"
   ]
  },
  {
   "cell_type": "code",
   "execution_count": null,
   "metadata": {
    "cellView": "form",
    "execution": {},
    "tags": [
     "hide-input"
    ]
   },
   "outputs": [],
   "source": [
    "# @title Helper functions\n",
    "\n",
    "def pooch_load(filelocation=None, filename=None, processor=None):\n",
    "    shared_location = \"/home/jovyan/shared/data/tutorials/W1D3_RemoteSensing\"  # this is different for each day\n",
    "    user_temp_cache = tempfile.gettempdir()\n",
    "\n",
    "    if os.path.exists(os.path.join(shared_location, filename)):\n",
    "        file = os.path.join(shared_location, filename)\n",
    "    else:\n",
    "        file = pooch.retrieve(\n",
    "            filelocation,\n",
    "            known_hash=None,\n",
    "            fname=os.path.join(user_temp_cache, filename),\n",
    "            processor=processor,\n",
    "        )\n",
    "\n",
    "    return file"
   ]
  },
  {
   "cell_type": "markdown",
   "metadata": {},
   "source": [
    "##  Video 1: Access and Visualize Satellite CDR\n"
   ]
  },
  {
   "cell_type": "code",
   "execution_count": null,
   "metadata": {
    "cellView": "form",
    "execution": {},
    "tags": [
     "remove-input"
    ]
   },
   "outputs": [],
   "source": [
    "# @title Video 1: Access and Visualize Satellite CDR\n",
    "\n",
    "from ipywidgets import widgets\n",
    "from IPython.display import YouTubeVideo\n",
    "from IPython.display import IFrame\n",
    "from IPython.display import display\n",
    "\n",
    "\n",
    "class PlayVideo(IFrame):\n",
    "  def __init__(self, id, source, page=1, width=400, height=300, **kwargs):\n",
    "    self.id = id\n",
    "    if source == 'Bilibili':\n",
    "      src = f'https://player.bilibili.com/player.html?bvid={id}&page={page}'\n",
    "    elif source == 'Osf':\n",
    "      src = f'https://mfr.ca-1.osf.io/render?url=https://osf.io/download/{id}/?direct%26mode=render'\n",
    "    super(PlayVideo, self).__init__(src, width, height, **kwargs)\n",
    "\n",
    "\n",
    "def display_videos(video_ids, W=400, H=300, fs=1):\n",
    "  tab_contents = []\n",
    "  for i, video_id in enumerate(video_ids):\n",
    "    out = widgets.Output()\n",
    "    with out:\n",
    "      if video_ids[i][0] == 'Youtube':\n",
    "        video = YouTubeVideo(id=video_ids[i][1], width=W,\n",
    "                             height=H, fs=fs, rel=0)\n",
    "        print(f'Video available at https://youtube.com/watch?v={video.id}')\n",
    "      else:\n",
    "        video = PlayVideo(id=video_ids[i][1], source=video_ids[i][0], width=W,\n",
    "                          height=H, fs=fs, autoplay=False)\n",
    "        if video_ids[i][0] == 'Bilibili':\n",
    "          print(f'Video available at https://www.bilibili.com/video/{video.id}')\n",
    "        elif video_ids[i][0] == 'Osf':\n",
    "          print(f'Video available at https://osf.io/{video.id}')\n",
    "      display(video)\n",
    "    tab_contents.append(out)\n",
    "  return tab_contents\n",
    "\n",
    "\n",
    "video_ids = [('Youtube', 'y5l1o3FGbCw'), ('Bilibili', 'BV1tF41197Lv')]\n",
    "tab_contents = display_videos(video_ids, W=730, H=410)\n",
    "tabs = widgets.Tab()\n",
    "tabs.children = tab_contents\n",
    "for i in range(len(tab_contents)):\n",
    "  tabs.set_title(i, video_ids[i][0])\n",
    "display(tabs)"
   ]
  },
  {
   "cell_type": "markdown",
   "metadata": {},
   "source": [
    "##  Submit your feedback\n"
   ]
  },
  {
   "cell_type": "code",
   "execution_count": null,
   "metadata": {
    "cellView": "form",
    "execution": {},
    "tags": [
     "hide-input"
    ]
   },
   "outputs": [],
   "source": [
    "# @title Submit your feedback\n",
    "content_review(f\"{feedback_prefix}_Access_Visualize_Satellite_CDR_Video\")"
   ]
  },
  {
   "cell_type": "markdown",
   "metadata": {},
   "source": [
    "\n"
   ]
  },
  {
   "cell_type": "code",
   "execution_count": null,
   "metadata": {
    "cellView": "form",
    "execution": {},
    "pycharm": {
     "name": "#%%\n"
    },
    "tags": [
     "remove-input"
    ]
   },
   "outputs": [],
   "source": [
    "# @markdown\n",
    "from ipywidgets import widgets\n",
    "from IPython.display import IFrame\n",
    "\n",
    "link_id = \"g9n5d\"\n",
    "\n",
    "print(f\"If you want to download the slides: https://osf.io/download/{link_id}/\")\n",
    "IFrame(src=f\"https://mfr.ca-1.osf.io/render?url=https://osf.io/{link_id}/?direct%26mode=render%26action=download%26mode=render\", width=854, height=480)"
   ]
  },
  {
   "cell_type": "markdown",
   "metadata": {},
   "source": [
    "##  Submit your feedback\n"
   ]
  },
  {
   "cell_type": "code",
   "execution_count": null,
   "metadata": {
    "cellView": "form",
    "execution": {},
    "tags": [
     "hide-input"
    ]
   },
   "outputs": [],
   "source": [
    "# @title Submit your feedback\n",
    "content_review(f\"{feedback_prefix}_Access_Visualize_Satellite_CDR_Slides\")"
   ]
  },
  {
   "cell_type": "markdown",
   "metadata": {
    "execution": {}
   },
   "source": [
    "# Section 1: Satellite Monitoring of Vegetation Status\n",
    "\n",
    "As we learned in the previous tutorial, all the **National Atmospheric and Oceanic Administration Climate Data Record (NOAA-CDR)** datasets are available both at NOAA National Centers for Environmental Information (NCEI) and commercial cloud platforms. Here, we are accessing the data directly via the **Amazon Web Service (AWS)**. You can get more information about the NOAA CDRs on AWS's Open Data Registry.\n",
    "\n",
    "* [NOAA Fundamental CDR on AWS](https://registry.opendata.aws/noaa-cdr-fundamental/) \n",
    "* [NOAA Terrestrial CDR on AWS](https://registry.opendata.aws/noaa-cdr-terrestrial/) \n",
    "* [NOAA Atmospheric CDR on AWS](https://registry.opendata.aws/noaa-cdr-atmospheric/) \n",
    "* [NOAA Oceanic CDR on AWS](https://registry.opendata.aws/noaa-cdr-oceanic/) \n",
    "\n",
    "The index we will use in this tutorial is the **Normalized Difference Vegetation Index (NDVI)**.  It is one of the most commonly used remotely sensed indices. It measures the \"greenness\" of vegetation and is useful in understanding vegetation density and assessing changes in plant health. For example, NDVI can be used to study the impact of drought, heat waves, and insect infestation on plants covering Earth's surface. One sensor that can provide such data is the ***Visible and Infrared Imager/\n",
    "Radiometer Suite VIIRS***. It is one of five instruments onboard the Suomi National Polar-orbiting Partnership (SNPP) satellite platform that was launched on October 28, 2011. "
   ]
  },
  {
   "cell_type": "markdown",
   "metadata": {
    "execution": {}
   },
   "source": [
    "## Section 1.1: Access NOAA NDVI CDR Data from AWS\n",
    "\n"
   ]
  },
  {
   "cell_type": "markdown",
   "metadata": {
    "execution": {}
   },
   "source": [
    "If we go to the [cloud storage space (or a S3 bucket)](https://noaa-cdr-ndvi-pds.s3.amazonaws.com/index.html#data/) that hosts NOAA NDVI CDR data, you will see the pattern of how the NOAA NDVI CDR is organized:\n",
    "\n",
    "`s3://noaa-cdr-ndvi-pds/data/2024/VIIRS-Land_v001_NPP13C1_S-NPP_20220101_c20240126162652.nc`\n",
    "\n",
    "We can take advantage of the pattern to search for the data file systematically. \n",
    "\n",
    "> Parent directory: `s3://noaa-cdr-ndvi-pds/data/`\n",
    "> Sub-directory for each year: `2022/`\n",
    "> File name of each day: `VIIRS-Land_v001_NPP13C1_S-NPP_20220101_c20240126162652.nc`\n",
    "\n",
    "The file name also has a clear pattern:\n",
    "\n",
    "> Sensor name: `VIIRS`  \n",
    "> Product category: `Land`  \n",
    "> Product version: `v001`\n",
    "> Product type: `NPP13C1`  (*JP113C1 in 2024, so dependent on the satellite era*)\n",
    "> Satellite platform: `S-NPP`  (*NOAA-20 in 2024, so dependent on the satellite era*)\n",
    "> Date of the data: `20220101`  \n",
    "> Processing time: `c20240126162652` (*This will change for each file based on when the file was processed*)  \n",
    "> File format: `.nc` (*netCDR-4 format*)\n",
    "\n",
    "In other words, if we are looking for the data of a specific day, we can easily locate where the file might be. \n",
    "\n",
    "Note that the above example data is from 2022, measurements from 2024 are very new, which is why there it was called `v001-preliminary` before. Quality control often leads to changes in the naming and availability. So be prepared that you have to check the data tree of your source regularly.\n",
    "\n",
    "For example, if we now want to find the VIIRS data for the day of *2014-03-12 (or March 12, 2014)*, you can use:\n",
    "\n",
    "`s3://noaa-cdr-ndvi-pds/data/2014/VIIRS-Land_v001_NPP13C1_*_20140312_c*.nc`\n",
    "\n",
    "You see, we do not need a `preliminary` tag, as the `2014` data passed quality control already.\n",
    "\n",
    "The reason that we put `*` in the above directory is that we are not sure about what satellite platform this data is from and when the data was processed. The `*` is called a **wildcard**, and is used because we want *all* the files that contain our specific criteria, but do not want to have to specify all the other pieces of the filename we are not sure about yet. It should return all the data satisfying that initial criteria and you can refine further once you see what is available. Essentially, this first step helps to narrow down the data search.\n",
    "\n",
    "For a detailed description of the file name identifiers, check out this resource: [Chapter 3.4.7 of the VIIRS Surface Reflectance and Normalized Difference Vegetation Index - Climate Algorithm Theoretical Basis Document, NOAA Climate Data Record Program CDRP-ATBD-1267 Rev. 0\n",
    "(2022). Available at https://www.ncei.noaa.gov/products/climate-data-records](https://www.ncei.noaa.gov/pub/data/sds/cdr/CDRs/Normalized_Difference_Vegetation_Index/VIIRS/AlgorithmDescriptionVIIRS_01B-20b.pdf)."
   ]
  },
  {
   "cell_type": "code",
   "execution_count": null,
   "metadata": {
    "execution": {},
    "tags": []
   },
   "outputs": [],
   "source": [
    "# to access the NDVI data from AWS S3 bucket, we first need to connect to s3 bucket\n",
    "fs = s3fs.S3FileSystem(anon=True)\n",
    "\n",
    "# we can now check to see if the file exist in this cloud storage bucket using the file name pattern we just described\n",
    "date_sel = datetime.datetime(\n",
    "    2014, 3, 12, 0\n",
    ")  # select a desired date and hours (midnight is zero)\n",
    "\n",
    "# automatic filename from data_sel. we use strftime (string format time) to get the text format of the file in question.\n",
    "file_location = fs.glob(\n",
    "    \"s3://noaa-cdr-ndvi-pds/data/\"\n",
    "    + date_sel.strftime(\"%Y\")\n",
    "    + \"/VIIRS-Land_v001_NPP13C1_S-NPP_*\"\n",
    "    + date_sel.strftime(\"%Y%m%d\")\n",
    "    + \"_c*.nc\"\n",
    ")\n",
    "# now let's check if there is a file that matches the pattern of the date that we are interested in.\n",
    "file_location\n",
    "# VIIRS-Land_v001_NPP13C1_S-NPP_20240312_c20240304220534.nc"
   ]
  },
  {
   "cell_type": "markdown",
   "metadata": {
    "execution": {}
   },
   "source": [
    "### Coding Exercises 1.1\n",
    "\n",
    "1. NDVI CDR data switched sensors on 2014 from AVHRR (the older generation sensor) to VIIRS (the newest generation sensor). Using the code above and the [list of data names](https://noaa-cdr-ndvi-pds.s3.amazonaws.com/index.html#data/) for VIIRS, find data from a day of another year than 2014 or 2024. You will need to modify string input into `glob()` to do so."
   ]
  },
  {
   "cell_type": "code",
   "execution_count": null,
   "metadata": {
    "execution": {},
    "tags": []
   },
   "outputs": [],
   "source": [
    "# select a desired date and hours (midnight is zero)\n",
    "exercise_date_sel = ...\n",
    "\n",
    "# automatic filename from data_sel. we use strftime (string format time) to get the text format of the file in question.\n",
    "exercise_file_location = ...\n",
    "\n",
    "# now let's check if there is a file that matches the pattern of the date that we are interested in.\n",
    "exercise_file_location"
   ]
  },
  {
   "cell_type": "markdown",
   "metadata": {
    "colab_type": "text",
    "execution": {},
    "tags": []
   },
   "source": [
    "[*Click for solution*](https://github.com/neuromatch/climate-course-content/tree/main/tutorials/W1D3_RemoteSensing/solutions/W1D3_Tutorial3_Solution_0726ff4a.py)\n",
    "\n"
   ]
  },
  {
   "cell_type": "markdown",
   "metadata": {},
   "source": [
    "####  Submit your feedback\n"
   ]
  },
  {
   "cell_type": "code",
   "execution_count": null,
   "metadata": {
    "cellView": "form",
    "execution": {},
    "tags": [
     "hide-input"
    ]
   },
   "outputs": [],
   "source": [
    "# @title Submit your feedback\n",
    "content_review(f\"{feedback_prefix}_Coding_Exercise_1_1\")"
   ]
  },
  {
   "cell_type": "markdown",
   "metadata": {
    "execution": {}
   },
   "source": [
    "## Section 1.2: Read NDVI CDR Data\n",
    "\n",
    "Now that you have the location of the NDVI data for a specific date, you can read in the data using the python library `xarray` to open the [netCDF-4 file](https://pro.arcgis.com/en/pro-app/latest/help/data/multidimensional/what-is-netcdf-data.htm), a common data format used to store satellite and climate datasets.\n",
    "\n"
   ]
  },
  {
   "cell_type": "code",
   "execution_count": null,
   "metadata": {
    "execution": {},
    "tags": []
   },
   "outputs": [],
   "source": [
    "# first, we need to open the connection to the file object of the selected date.\n",
    "# we are still using the date of 2014-03-12 as the example here.\n",
    "\n",
    "# to keep up with previous tutorials (consistency), we are going to use boto3 and pooch to open the file.\n",
    "# but note s3fs also has the ability to open files from s3 remotely.\n",
    "\n",
    "client = boto3.client(\n",
    "    \"s3\", config=botocore.client.Config(signature_version=botocore.UNSIGNED)\n",
    ")  # initialize aws s3 bucket client\n",
    "\n",
    "ds = xr.open_dataset(\n",
    "    pooch_load(\n",
    "        filelocation=\"http://s3.amazonaws.com/\" + file_location[0],\n",
    "        filename=file_location[0],\n",
    "    ),\n",
    "    decode_times=False # to address overflow issue\n",
    ")  # open the file\n",
    "ds"
   ]
  },
  {
   "cell_type": "markdown",
   "metadata": {
    "execution": {}
   },
   "source": [
    "The output from the code block tells us that the NDVI data file of 2014-03-12 has dimensions of `3600x7200`. This makes sense for a dataset with a spatial resolution of 0.05°×0.05° that spans 180° of latitude and 360° of longitude. There is another dimension of the dataset named `time`. Since it is a daily data file, it only contains one value.\n",
    "\n",
    "Two main data variables in this dataset are `NDVI` and `QA`.\n",
    "\n",
    "* `NDVI` is the variable that contains the value of Normalized Difference Vegetation Index  (NDVI - ranges between -1 and 1) that can be used to measure the vegetation greenness.  \n",
    "* `QA` is the variable that indicates the quality of the NDVI values for each corresponding grid. It reflects whether the data is of high quality or should be discarded because of various reasons (e.g., bad sensor data, potentially contaminated by clouds).\n",
    "\n"
   ]
  },
  {
   "cell_type": "markdown",
   "metadata": {
    "execution": {}
   },
   "source": [
    "## Section 1.3: Visualize NDVI CDR Data"
   ]
  },
  {
   "cell_type": "code",
   "execution_count": null,
   "metadata": {
    "execution": {},
    "tags": []
   },
   "outputs": [],
   "source": [
    "# examine NDVI values from the dataset\n",
    "ndvi = ds.NDVI\n",
    "ndvi"
   ]
  },
  {
   "cell_type": "markdown",
   "metadata": {
    "execution": {},
    "tags": []
   },
   "source": [
    "To visualize the raw data, we will will plot it using `matplotlib` by calling `.plot()` on our xarray `DataArray`."
   ]
  },
  {
   "cell_type": "code",
   "execution_count": null,
   "metadata": {
    "execution": {},
    "tags": []
   },
   "outputs": [],
   "source": [
    "# figure settings:\n",
    "# vmin & vmax: minimum and maximum values for the colorbar\n",
    "# aspect: setting the aspect ratio of the figure, must be combined with `size`\n",
    "# size: setting the overall size of the figure\n",
    "\n",
    "# to make plotting faster and less memory intensive we use coarsen to reduce the number of pixels\n",
    "ndvi.coarsen(latitude=5).mean().coarsen(longitude=5).mean().plot(\n",
    "    vmin=-0.1,\n",
    "    vmax=1.0,\n",
    "    aspect=1.8,\n",
    "    size=5\n",
    ")"
   ]
  },
  {
   "cell_type": "markdown",
   "metadata": {
    "execution": {}
   },
   "source": [
    "## Section 1.4: Mask NDVI Data Using a Quality Flag\n",
    "\n",
    "As stated earlier, there is also a variable `QA` that indicates the quality of the NDVI value for each grid cell. This quality information is very important when using satellite data to ensure the climate analysis is done using only the highest quality data.\n",
    "\n",
    "For NDVI CDR data, it has a complex quality flag system that is represented using a 16-bit system. Although when you explore the values of `QA`, it appears to be normal numeric values, the QA value needs to be converted to binary values of 16 bits and recognize the quality flag based on the information listed in the table below. "
   ]
  },
  {
   "cell_type": "markdown",
   "metadata": {
    "execution": {}
   },
   "source": [
    " Bit Number | Parameter Name | Bit Combination | Description |\n",
    "|-:|:-|:-:|:-:|\n",
    "| 0-1        | Cloud State             | 00 | Confident Clear |\n",
    "|            |                         | 01 | Probably Clear  |\n",
    "|            |                         | 10 | Probably Cloudy |\n",
    "|            |                         | 11 | Confident Cloudy|\n",
    "| 2          | Cloud shadow            | 1  | Yes             |\n",
    "|            |                         | 0  | No              |\n",
    "| 3-5        | Land/Water flag         | 000 | Land & Desert  |\n",
    "|            |                         | 001 | Land no desert |\n",
    "|            |                         | 010 | Inland Water   |\n",
    "|            |                         | 011 | Sea Water      |\n",
    "|            |                         | 100 | \\---           |\n",
    "|            |                         | 101 | Coastal        |\n",
    "|            |                         | 110 | \\---           |\n",
    "|            |                         | 111 | \\---           |\n",
    "| 6          | Overall Aerosol Quality | 1   | OK             |\n",
    "|            |                         | 0   | Poor           |\n",
    "| 7          | Unused                  | \\---| \\---           |\n",
    "| 8          | Thin cirrus reflective  | 1   | Yes            |\n",
    "|            |                         | 0   | No             |\n",
    "| 9          | Thin cirrus emissive    | 1   | Yes            |\n",
    "|            |                         | 0   | No             |\n",
    "| 10         | Cloud flag              | 1   | Cloud          |\n",
    "|            |                         | 0   | No cloud       |\n",
    "| 11-14      | Unused                  | \\---| \\---           |\n",
    "| 15         | Snow/Ice Flag           | 1   | Snow/Ice       |\n",
    "|            |                         | 0   | No snow/Ice    |\n",
    "\n",
    "([Table 7, Chapter 4.3 of algorithm documentation (Climate Algorithm Theoretical Basis Document (C-ATBD)](https://www.ncei.noaa.gov/pub/data/sds/cdr/CDRs/Normalized_Difference_Vegetation_Index/VIIRS/AlgorithmDescriptionVIIRS_01B-20b.pdf))"
   ]
  },
  {
   "cell_type": "markdown",
   "metadata": {
    "execution": {}
   },
   "source": [
    "This shows the complex system to ensure that satellite CDR data is of high quality for climate applications. But how can we decipher the quality of a given pixel? \n",
    "\n",
    "Assuming that we have a grid with `QA=8` when converted into a binary value with the length of 16 bits it becomes `0000000000001000`. That is, every `QA` value will be converted into a list of 1's and 0's that is 16 numbers long. Converting our example above of 8 we have:\n",
    "\n",
    "|Bit15|Bit14|Bit13|Bit12|Bit11|Bit10|Bit9|Bit8|Bit7|Bit6|Bit5|Bit4|Bit3|Bit2|Bit1|Bit0|\n",
    "|-:|-:|-:|-:|-:|-:|-:|-:|-:|-:|-:|-:|-:|-:|-:|-:|\n",
    "|0|0|0|0|0|0|0|0|0|0|0|0|1|0|0|0|\n",
    "|No|No|No|No|No|No|No|No|No|No|No|No|Yes|No|No|No|\n",
    "\n",
    "Note here that 1 is `True` and 0 is `False`. Interpreting the table above, for a quality flag of 8, VIIRS channels (`Bit3=1`), (`Bit4=0`), and (`Bit5=0`) tell that the grid cell is over land that is not desert. The (`Bit0=0`) and  (`Bit1=0`) as well as (`Bit1=10`) flags confidently confirm a clear sky. Therefore, the QA tells us that we can use this grid since it is not covered by clouds and vegetation information on the land surface is reflected. \n",
    "\n",
    "If you are a little confused by how to convert to binary, that is ok! This is a skill that you can practice more in your projects. For this tutorial, we will define a function that will automate our selection process to avoid cloudy data."
   ]
  },
  {
   "cell_type": "code",
   "execution_count": null,
   "metadata": {
    "cellView": "form",
    "execution": {},
    "tags": []
   },
   "outputs": [],
   "source": [
    "# define a function to extract high-quality NDVI data from a VIIRS data set\n",
    "def get_quality_info(QA):\n",
    "    \"\"\"\n",
    "    QA: the QA value read in from the NDVI data\n",
    "\n",
    "    High-quality NDVI should meet the following criteria:\n",
    "    Bit 10: 0 (There were no clouds detected)\n",
    "    Bit 2: 0 (The pixel is not covered by cloud shadow)\n",
    "    Bit 0 and Bit 1: 00 (The pixel confidently has a clear sky)\n",
    "\n",
    "    Output:\n",
    "    True: high quality\n",
    "    False: low quality\n",
    "    \"\"\"\n",
    "    # unpack quality assurance flag for cloud (byte: 0)\n",
    "    cld_flag0 = (QA % (2**1)) // 2**0\n",
    "    # unpack quality assurance flag for cloud (byte: 1)\n",
    "    cld_flag1 = (QA % (2**2)) // 2\n",
    "    # unpack quality assurance flag for cloud shadow (byte: 2)\n",
    "    cld_shadow = (QA % (2**3)) // 2**2\n",
    "    # unpack quality assurance flag for cloud values (byte: 10)\n",
    "    cld_flag10 = (QA % (2**11)) // 2**10\n",
    "\n",
    "    mask = (cld_flag0 == 0) & (cld_flag1 == 0) & (cld_shadow == 0) & (cld_flag10 == 0)\n",
    "\n",
    "    return mask"
   ]
  },
  {
   "cell_type": "markdown",
   "metadata": {
    "execution": {}
   },
   "source": [
    "You also might come across some NDVI data that was sensed by VIIRS' predecessor sensor: the Advanced Very High Resolution Radiometer (AVHRR). As the quality info differs from VIIRS, the following cell provides a function to extract high-quality data from such a data set. We provide it here for the sake of completeness, you do not have to execute its cell."
   ]
  },
  {
   "cell_type": "markdown",
   "metadata": {},
   "source": [
    " AVHRR: function to extract high-quality NDVI data\n"
   ]
  },
  {
   "cell_type": "code",
   "execution_count": null,
   "metadata": {
    "cellView": "form",
    "execution": {},
    "tags": [
     "hide-input"
    ]
   },
   "outputs": [],
   "source": [
    "# @markdown AVHRR: function to extract high-quality NDVI data\n",
    "def get_quality_info_AVHRR(QA):\n",
    "    \"\"\"\n",
    "    QA: the QA value read in from the NDVI data\n",
    "\n",
    "    High-quality NDVI should meet the following criteria:\n",
    "    Bit 7: 1 (All AVHRR channels have valid values)\n",
    "    Bit 2: 0 (The pixel is not covered by cloud shadow)\n",
    "    Bit 1: 0 (The pixel is not covered by cloud)\n",
    "    Bit 0:\n",
    "\n",
    "    Output:\n",
    "    True: high quality\n",
    "    False: low quality\n",
    "    \"\"\"\n",
    "    # unpack quality assurance flag for cloud (byte: 1)\n",
    "    cld_flag = (QA % (2**2)) // 2\n",
    "    # unpack quality assurance flag for cloud shadow (byte: 2)\n",
    "    cld_shadow = (QA % (2**3)) // 2**2\n",
    "    # unpack quality assurance flag for AVHRR values (byte: 7)\n",
    "    value_valid = (QA % (2**8)) // 2**7\n",
    "\n",
    "    mask = (cld_flag == 0) & (cld_shadow == 0) & (value_valid == 1)\n",
    "\n",
    "    return mask"
   ]
  },
  {
   "cell_type": "code",
   "execution_count": null,
   "metadata": {
    "cellView": "form",
    "execution": {},
    "tags": []
   },
   "outputs": [],
   "source": [
    "# get the quality assurance value from NDVI data\n",
    "QA = ds.QA\n",
    "\n",
    "# create the high quality information mask\n",
    "mask = get_quality_info(QA)\n",
    "\n",
    "# check the quality flag mask information\n",
    "mask"
   ]
  },
  {
   "cell_type": "markdown",
   "metadata": {
    "execution": {}
   },
   "source": [
    "The output of the previous operation gives us a data array with logical values to indicate if a grid has high quality NDVI values or not. Now let's mask out the NDVI data array with this quality information to see if this will make a difference in the final map."
   ]
  },
  {
   "cell_type": "code",
   "execution_count": null,
   "metadata": {
    "cellView": "form",
    "execution": {},
    "tags": []
   },
   "outputs": [],
   "source": [
    "# use `.where` to only keep the NDVI values with high quality flag\n",
    "ndvi_masked = ndvi.where(mask)\n",
    "ndvi_masked"
   ]
  },
  {
   "cell_type": "markdown",
   "metadata": {
    "execution": {}
   },
   "source": [
    "As you may have noticed, a lot of the NDVI values in the masked data array becomes `nan` which means `not a number`. This means that the grid does not have a high quality NDVI value based on the QA value. Now, let's plot the map one more time to see the difference after the quality masking."
   ]
  },
  {
   "cell_type": "code",
   "execution_count": null,
   "metadata": {
    "execution": {},
    "tags": []
   },
   "outputs": [],
   "source": [
    "# re-plot the NDVI map using masked data\n",
    "ndvi_masked.coarsen(latitude=5).mean().coarsen(longitude=5).mean().plot(\n",
    "    vmin=-0.1, vmax=1.0, aspect=1.8, size=5\n",
    ")"
   ]
  },
  {
   "cell_type": "markdown",
   "metadata": {
    "execution": {}
   },
   "source": [
    "Note the large difference after the quality mask was applied and you removed data that was compromised due to clouds. Since the NDVI value is calculated using the reflectance values of the red and near-infrared spectral band, this value is only useful for vegetation and surface monitoring when there are no clouds present. Thus, we always need to remove the grid with clouds in the data."
   ]
  },
  {
   "cell_type": "markdown",
   "metadata": {
    "execution": {}
   },
   "source": [
    "### Coding Exercises 1.4\n",
    "\n",
    "You just learned how to use `xarray` and `matplotlib` to access NDVI CDR data from AWS and visualize it. Can you find a different date that you are interested in and visualize the high quality NDVI data of that day? Note the solution is just an example of a date that you could choose."
   ]
  },
  {
   "cell_type": "code",
   "execution_count": null,
   "metadata": {
    "execution": {},
    "tags": []
   },
   "outputs": [],
   "source": [
    "# define the date of your interest YYYYMMDD (e.g., 20030701)\n",
    "# select a desired date and hours (midnight is zero)\n",
    "date_sel_exercise = ...\n",
    "\n",
    "# locate the data in the AWS S3 bucket\n",
    "# hint: use the file pattern that we described\n",
    "file_location_exercise = ...\n",
    "\n",
    "# open file connection to the file in AWS S3 bucket and use xarray to open the NDVI CDR file\n",
    "# open the file\n",
    "ds_exercise = ...\n",
    "\n",
    "# get the QA value and extract the high quality data mask and Mask NDVI data to keep only high quality value\n",
    "# hint: reuse the get_quality_info helper function we defined\n",
    "ndvi_masked_exercise = ...\n",
    "\n",
    "# plot high quality NDVI data\n",
    "# hint: use plot() function\n",
    "# ndvi_masked_exercise.coarsen(latitude=5).mean().coarsen(longitude=5).mean().plot(\n",
    "#     vmin=-0.1, vmax=1.0, aspect=1.8, size=5\n",
    "# )"
   ]
  },
  {
   "cell_type": "markdown",
   "metadata": {
    "colab_type": "text",
    "execution": {},
    "tags": []
   },
   "source": [
    "[*Click for solution*](https://github.com/neuromatch/climate-course-content/tree/main/tutorials/W1D3_RemoteSensing/solutions/W1D3_Tutorial3_Solution_509be09f.py)\n",
    "\n"
   ]
  },
  {
   "cell_type": "markdown",
   "metadata": {},
   "source": [
    "####  Submit your feedback\n"
   ]
  },
  {
   "cell_type": "code",
   "execution_count": null,
   "metadata": {
    "cellView": "form",
    "execution": {},
    "tags": [
     "hide-input"
    ]
   },
   "outputs": [],
   "source": [
    "# @title Submit your feedback\n",
    "content_review(f\"{feedback_prefix}_Coding_Exercise_1_4\")"
   ]
  },
  {
   "cell_type": "markdown",
   "metadata": {
    "execution": {}
   },
   "source": [
    "# Summary\n",
    "\n",
    "In this tutorial, you successfully accessed and visualized one of the most commonly used remotely sensed climate datasets for land applications! In addition, you should now:\n",
    "\n",
    "* Understand the file organization pattern to help you identify the data that you are interested in.\n",
    "* Understand how to extract only the high-quality data using quality flags provided with the datasets.\n",
    "* Know how to apply a quality flag mask and plot the resulting data.\n",
    "\n",
    "In the next tutorial, you will explore how to perform time series analysis, including calculating climatologies and anomalies with precipitation data."
   ]
  },
  {
   "cell_type": "markdown",
   "metadata": {
    "execution": {}
   },
   "source": [
    "# Resources"
   ]
  },
  {
   "cell_type": "markdown",
   "metadata": {
    "execution": {}
   },
   "source": [
    "Data from this tutorial can be accessed [here](https://noaa-cdr-ndvi-pds.s3.amazonaws.com/index.html#data/)."
   ]
  }
 ],
 "metadata": {
  "colab": {
   "collapsed_sections": [],
   "include_colab_link": true,
   "name": "W1D3_Tutorial3",
   "provenance": [],
   "toc_visible": true
  },
  "kernel": {
   "display_name": "Python 3",
   "language": "python",
   "name": "python3"
  },
  "kernelspec": {
   "display_name": "Python 3 (ipykernel)",
   "language": "python",
   "name": "python3"
  },
  "language_info": {
   "codemirror_mode": {
    "name": "ipython",
    "version": 3
   },
   "file_extension": ".py",
   "mimetype": "text/x-python",
   "name": "python",
   "nbconvert_exporter": "python",
   "pygments_lexer": "ipython3",
   "version": "3.9.19"
  }
 },
 "nbformat": 4,
 "nbformat_minor": 4
}