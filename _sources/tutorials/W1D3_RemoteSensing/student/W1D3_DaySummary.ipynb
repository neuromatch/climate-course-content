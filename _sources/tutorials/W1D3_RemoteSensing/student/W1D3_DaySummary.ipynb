{
 "cells": [
  {
   "cell_type": "markdown",
   "id": "191a2abe",
   "metadata": {
    "execution": {}
   },
   "source": [
    "# Day Summary"
   ]
  },
  {
   "cell_type": "markdown",
   "id": "416515e0",
   "metadata": {
    "execution": {}
   },
   "source": [
    "The contents today provide you an opportunity to understand the concepts of satellite remote sensing, different types of satellite remote sensing data for climate applications, and how to access and analyze satellite remote sensing data for climate applications. The technology and research for satellite remote sensing are evolving rapidly which provide more opportunities for you to understand and mitigate the impact of climate change on natural and human systems. "
   ]
  }
 ],
 "metadata": {
  "colab": {
   "collapsed_sections": [],
   "include_colab_link": true,
   "name": "W1D3_DaySummary",
   "toc_visible": true
  },
  "kernel": {
   "display_name": "Python 3",
   "language": "python",
   "name": "python3"
  },
  "kernelspec": {
   "display_name": "climatematch",
   "language": "python",
   "name": "python3"
  },
  "language_info": {
   "codemirror_mode": {
    "name": "ipython",
    "version": 3
   },
   "file_extension": ".py",
   "mimetype": "text/x-python",
   "name": "python",
   "nbconvert_exporter": "python",
   "pygments_lexer": "ipython3",
   "version": "3.9.19"
  }
 },
 "nbformat": 4,
 "nbformat_minor": 5
}