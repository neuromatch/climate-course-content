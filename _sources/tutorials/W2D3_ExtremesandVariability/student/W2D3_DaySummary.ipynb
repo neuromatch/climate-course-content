{
 "cells": [
  {
   "cell_type": "markdown",
   "id": "bd5c437e",
   "metadata": {
    "execution": {}
   },
   "source": [
    "# Day Summary"
   ]
  },
  {
   "cell_type": "markdown",
   "id": "2ac4b2f5",
   "metadata": {
    "execution": {}
   },
   "source": [
    "This day introduced you to the mathematical framework used by researchers to study extreme events and their variability: Extreme Value Theory (EVT). We started by presenting the “climate” as a distribution of probabilities that a certain value of a climate variable is observed. The Generalised Extreme Value (GEV) distribution provided an effective model to describe the statistical behavior of extreme climatic events. By fitting observational data to a GEV distribution you computed the return periods associated with extreme events. To account for changes in the distribution parameters — as a result of climate change —  we explained how to incorporate non-stationarity concepts in our models. We closed with a consideration of the importance of thresholds."
   ]
  }
 ],
 "metadata": {
  "colab": {
   "collapsed_sections": [],
   "include_colab_link": true,
   "name": "W2D3_DaySummary",
   "toc_visible": true
  },
  "kernel": {
   "display_name": "Python 3",
   "language": "python",
   "name": "python3"
  },
  "kernelspec": {
   "display_name": "Python 3 (ipykernel)",
   "language": "python",
   "name": "python3"
  },
  "language_info": {
   "codemirror_mode": {
    "name": "ipython",
    "version": 3
   },
   "file_extension": ".py",
   "mimetype": "text/x-python",
   "name": "python",
   "nbconvert_exporter": "python",
   "pygments_lexer": "ipython3",
   "version": "3.9.19"
  }
 },
 "nbformat": 4,
 "nbformat_minor": 5
}