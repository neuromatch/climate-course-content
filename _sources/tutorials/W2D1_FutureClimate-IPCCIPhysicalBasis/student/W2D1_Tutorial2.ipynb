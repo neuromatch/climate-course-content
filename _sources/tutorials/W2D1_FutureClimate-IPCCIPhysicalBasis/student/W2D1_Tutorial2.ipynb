{
 "cells": [
  {
   "cell_type": "markdown",
   "metadata": {
    "execution": {}
   },
   "source": [
    "[![Open In Colab](https://colab.research.google.com/assets/colab-badge.svg)](https://colab.research.google.com/github/neuromatch/climate-course-content/blob/main/tutorials/W2D1_FutureClimate-IPCCIPhysicalBasis/W2D1_Tutorial2.ipynb)   <a href=\"https://kaggle.com/kernels/welcome?src=https://raw.githubusercontent.com/neuromatch/climate-course-content/main/tutorials/W2D1_FutureClimate-IPCCIPhysicalBasis/W2D1_Tutorial2.ipynb\" target=\"_blank\"><img alt=\"Open in Kaggle\" src=\"https://kaggle.com/static/images/open-in-kaggle.svg\"/></a>"
   ]
  },
  {
   "cell_type": "markdown",
   "metadata": {
    "execution": {}
   },
   "source": [
    "# Tutorial 2: Future climate scenarios & Multi-model Ensembles\n",
    "\n",
    "**Week 2, Day 1, An Ensemble of Futures**\n",
    "\n",
    "**Content creators:** Brodie Pearson, Julius Busecke, Tom Nicholas, Sam Ditkovsky\n",
    "\n",
    "**Content reviewers:** Mujeeb Abdulfatai, Nkongho Ayuketang Arreyndip, Jeffrey N. A. Aryee, Younkap Nina Duplex, Sloane Garelick, Paul Heubel, Zahra Khodakaramimaghsoud, Peter Ohue, Jenna Pearson, Abel Shibu, Derick Temfack, Peizhen Yang, Cheng Zhang, Chi Zhang, Ohad Zivan\n",
    "\n",
    "**Content editors:** Paul Heubel, Jenna Pearson, Ohad Zivan, Chi Zhang\n",
    "\n",
    "**Production editors:** Wesley Banfield, Paul Heubel, Jenna Pearson, Konstantine Tsafatinos, Chi Zhang, Ohad Zivan\n",
    "\n",
    "**Our 2024 Sponsors:** CMIP, NFDI4Earth"
   ]
  },
  {
   "cell_type": "markdown",
   "metadata": {
    "execution": {}
   },
   "source": [
    "# Tutorial Objectives\n",
    "\n",
    "*Estimated timing for tutorial:* 40 minutes\n",
    "\n",
    "In this tutorial, we will analyze data from five different CMIP6 models developed by various institutions around the world, focusing on their *historical* simulations and low-emission projections (*SSP1-2.6*). By the end of this tutorial, you will be able to \n",
    "- Load CMIP6 Sea Surface Temperature (SST) data from multiple models;\n",
    "- Calculate the SST anomalies, and recall the concept of temperature anomaly in relation to a base period"
   ]
  },
  {
   "cell_type": "markdown",
   "metadata": {
    "execution": {}
   },
   "source": [
    "# Setup\n",
    "\n",
    "    \n",
    "\n"
   ]
  },
  {
   "cell_type": "code",
   "execution_count": null,
   "metadata": {
    "execution": {},
    "executionInfo": {
     "elapsed": 100078,
     "status": "ok",
     "timestamp": 1683926800928,
     "user": {
      "displayName": "Brodie Pearson",
      "userId": "05269028596972519847"
     },
     "user_tz": 420
    },
    "tags": [
     "colab"
    ]
   },
   "outputs": [],
   "source": [
    "# installations ( uncomment and run this cell ONLY when using google colab or kaggle )\n",
    "\n",
    "# !pip install condacolab &> /dev/null\n",
    "# import condacolab\n",
    "# condacolab.install()\n",
    "\n",
    "# # Install all packages in one call (+ use mamba instead of conda), this must in one line or code will fail\n",
    "# !mamba install xarray-datatree intake-esm gcsfs xmip aiohttp nc-time-axis cf_xarray xarrayutils &> /dev/null"
   ]
  },
  {
   "cell_type": "code",
   "execution_count": null,
   "metadata": {
    "execution": {},
    "executionInfo": {
     "elapsed": 4018,
     "status": "ok",
     "timestamp": 1683926879380,
     "user": {
      "displayName": "Brodie Pearson",
      "userId": "05269028596972519847"
     },
     "user_tz": 420
    },
    "tags": []
   },
   "outputs": [],
   "source": [
    "# imports\n",
    "import intake\n",
    "import matplotlib.pyplot as plt\n",
    "import xarray as xr\n",
    "\n",
    "from xmip.preprocessing import combined_preprocessing\n",
    "from xmip.postprocessing import _parse_metric\n",
    "from datatree import DataTree"
   ]
  },
  {
   "cell_type": "markdown",
   "metadata": {},
   "source": [
    "##  Figure settings\n"
   ]
  },
  {
   "cell_type": "code",
   "execution_count": null,
   "metadata": {
    "cellView": "form",
    "execution": {},
    "tags": [
     "hide-input"
    ]
   },
   "outputs": [],
   "source": [
    "# @title Figure settings\n",
    "import ipywidgets as widgets  # interactive display\n",
    "\n",
    "plt.style.use(\n",
    "    \"https://raw.githubusercontent.com/neuromatch/climate-course-content/main/cma.mplstyle\"\n",
    ")\n",
    "\n",
    "%matplotlib inline"
   ]
  },
  {
   "cell_type": "markdown",
   "metadata": {},
   "source": [
    "##  Helper functions\n"
   ]
  },
  {
   "cell_type": "code",
   "execution_count": null,
   "metadata": {
    "cellView": "form",
    "execution": {},
    "tags": [
     "hide-input"
    ]
   },
   "outputs": [],
   "source": [
    "# @title Helper functions\n",
    "\n",
    "def readin_cmip6_to_datatree(facet_dict):\n",
    "    # open an intake catalog containing the Pangeo CMIP cloud data\n",
    "    col = intake.open_esm_datastore(\n",
    "        \"https://storage.googleapis.com/cmip6/pangeo-cmip6.json\"\n",
    "    )\n",
    "\n",
    "    # from the full `col` object, create a subset using facet search\n",
    "    cat = col.search(\n",
    "        source_id=facet_dict['source_id'],\n",
    "        variable_id=facet_dict['variable_id'],\n",
    "        member_id=facet_dict['member_id'],\n",
    "        table_id=facet_dict['table_id'],\n",
    "        grid_label=facet_dict['grid_label'],\n",
    "        experiment_id=facet_dict['experiment_id'],\n",
    "        require_all_on=facet_dict['require_all_on']  # make sure that we only get models which have all of the above experiments\n",
    "    )\n",
    "\n",
    "    # convert the sub-catalog into a datatree object, by opening each dataset into an xarray.Dataset (without loading the data)\n",
    "    kwargs = dict(\n",
    "        preprocess=combined_preprocessing,  # apply xMIP fixes to each dataset\n",
    "        xarray_open_kwargs=dict(\n",
    "            use_cftime=True\n",
    "        ),  # ensure all datasets use the same time index\n",
    "        storage_options={\n",
    "            \"token\": \"anon\"\n",
    "        },  # anonymous/public authentication to google cloud storage\n",
    "    )\n",
    "\n",
    "    cat.esmcat.aggregation_control.groupby_attrs = [\"source_id\", \"experiment_id\"]\n",
    "    dt = cat.to_datatree(**kwargs)\n",
    "\n",
    "    return dt\n",
    "\n",
    "\n",
    "def global_mean(ds: xr.Dataset) -> xr.Dataset:\n",
    "    \"\"\"Global average, weighted by the cell area\"\"\"\n",
    "    return ds.weighted(ds.areacello.fillna(0)).mean([\"x\", \"y\"], keep_attrs=True)"
   ]
  },
  {
   "cell_type": "markdown",
   "metadata": {},
   "source": [
    "##  Video 1: Why So Many Earth System Models?\n"
   ]
  },
  {
   "cell_type": "code",
   "execution_count": null,
   "metadata": {
    "cellView": "form",
    "execution": {},
    "tags": [
     "remove-input"
    ]
   },
   "outputs": [],
   "source": [
    "# @title Video 1: Why So Many Earth System Models?\n",
    "\n",
    "from ipywidgets import widgets\n",
    "from IPython.display import YouTubeVideo\n",
    "from IPython.display import IFrame\n",
    "from IPython.display import display\n",
    "\n",
    "\n",
    "class PlayVideo(IFrame):\n",
    "  def __init__(self, id, source, page=1, width=400, height=300, **kwargs):\n",
    "    self.id = id\n",
    "    if source == 'Bilibili':\n",
    "      src = f'https://player.bilibili.com/player.html?bvid={id}&page={page}'\n",
    "    elif source == 'Osf':\n",
    "      src = f'https://mfr.ca-1.osf.io/render?url=https://osf.io/download/{id}/?direct%26mode=render'\n",
    "    super(PlayVideo, self).__init__(src, width, height, **kwargs)\n",
    "\n",
    "\n",
    "def display_videos(video_ids, W=400, H=300, fs=1):\n",
    "  tab_contents = []\n",
    "  for i, video_id in enumerate(video_ids):\n",
    "    out = widgets.Output()\n",
    "    with out:\n",
    "      if video_ids[i][0] == 'Youtube':\n",
    "        video = YouTubeVideo(id=video_ids[i][1], width=W,\n",
    "                             height=H, fs=fs, rel=0)\n",
    "        print(f'Video available at https://youtube.com/watch?v={video.id}')\n",
    "      else:\n",
    "        video = PlayVideo(id=video_ids[i][1], source=video_ids[i][0], width=W,\n",
    "                          height=H, fs=fs, autoplay=False)\n",
    "        if video_ids[i][0] == 'Bilibili':\n",
    "          print(f'Video available at https://www.bilibili.com/video/{video.id}')\n",
    "        elif video_ids[i][0] == 'Osf':\n",
    "          print(f'Video available at https://osf.io/{video.id}')\n",
    "      display(video)\n",
    "    tab_contents.append(out)\n",
    "  return tab_contents\n",
    "\n",
    "\n",
    "video_ids = [('Youtube', 'sTYK2TAPycs'), ('Bilibili', 'BV1Ua4y1F78Z')]\n",
    "tab_contents = display_videos(video_ids, W=730, H=410)\n",
    "tabs = widgets.Tab()\n",
    "tabs.children = tab_contents\n",
    "for i in range(len(tab_contents)):\n",
    "  tabs.set_title(i, video_ids[i][0])\n",
    "display(tabs)"
   ]
  },
  {
   "cell_type": "code",
   "execution_count": null,
   "metadata": {
    "cellView": "form",
    "execution": {},
    "pycharm": {
     "name": "#%%\n"
    },
    "tags": [
     "remove-input"
    ]
   },
   "outputs": [],
   "source": [
    "# @markdown\n",
    "from ipywidgets import widgets\n",
    "from IPython.display import IFrame\n",
    "\n",
    "link_id = \"3sa5z\"\n",
    "\n",
    "download_link = f\"https://osf.io/download/{link_id}/\"\n",
    "render_link = f\"https://mfr.ca-1.osf.io/render?url=https://osf.io/{link_id}/?direct%26mode=render%26action=download%26mode=render\"\n",
    "# @markdown\n",
    "out = widgets.Output()\n",
    "with out:\n",
    "    print(f\"If you want to download the slides: {download_link}\")\n",
    "    display(IFrame(src=f\"{render_link}\", width=730, height=410))\n",
    "display(out)"
   ]
  },
  {
   "cell_type": "markdown",
   "metadata": {
    "execution": {}
   },
   "source": [
    "# Section 1: Load CMIP6 SST Data from Five Models and Three Experiments\n",
    "In the previous section, you investigated the internal variability in a single CMIP6 model (*TaiESM1*) simulated past temperature. \n",
    "\n",
    "Now we will start to analyze a **multi-model ensemble** that consists of data from multiple CMIP6 models, and includes both historical simulations and future scenario projections.\n",
    "\n",
    "Your multi-model ensemble will consist of **Five** different CMIP6 models developed by institutions from a variety of countries: \n",
    "  * *TaiESM1* (Research Center for Environmental Changes, Taiwan),\n",
    "  * *IPSL-CM6A-LR* (Institut Pierre Simon Laplace, France),\n",
    "  * *GFDL-ESM4* (NOAA Geophysical Fluid Dynamics Laboratory, USA), \n",
    "  * *ACCESS-CM2* (CSIRO and ARCCSS, Australia), and \n",
    "  * *MPI-ESM1-2-LR* (Max Planck Institute, Germany). \n",
    "\n",
    "We can specify these models through the *source_id* facet. You can see a [table of CMIP6 *source_id* values here](https://www.google.com/url?q=https://airtable.com/shrvRybShvNSE1Szp/tblC0DBPiCm7gjJqx&sa=D&source=docs&ust=1689235930798709&usg=AOvVaw06jpHwjNGxPR1yILwtX5qB), and you can learn more about CMIP through our [CMIP Resource Bank](https://github.com/neuromatch/climate-course-content/blob/main/tutorials/CMIP/CMIP_resource_bank.md) and the [CMIP website](https://wcrp-cmip.org/).\n",
    "\n",
    "Note that these are only a subset of the dozens of models, institutes, countries, and experiments that contribute to CMIP6, as discussed in the previous W2D1 Tutorial 2 video. Some of the abbreviations in the model names refer to institutes (*MPI/GFDL*), while some refer to the complexity and version of the model (e.g., Earth System or Climate Model [*ESM/CM*] and low- or high-resolution [*LR/HR*]). There are often several models from a single institute with each having a distinct level of complexity."
   ]
  },
  {
   "cell_type": "code",
   "execution_count": null,
   "metadata": {
    "execution": {}
   },
   "outputs": [],
   "source": [
    "# selected CMIP6 models to explore\n",
    "source_ids = [\"IPSL-CM6A-LR\", \"GFDL-ESM4\", \"ACCESS-CM2\", \"MPI-ESM1-2-LR\", \"TaiESM1\"]\n",
    "\n",
    "# dictionary of facets for query of surface temperature data\n",
    "facet_dict = { \"source_id\":source_ids,\n",
    "    \"variable_id\":\"tos\",\n",
    "    \"member_id\":\"r1i1p1f1\",\n",
    "    \"table_id\":\"Omon\",\n",
    "    \"grid_label\":\"gn\",\n",
    "    \"experiment_id\":[\"historical\", \"ssp126\", \"ssp585\"],\n",
    "    \"require_all_on\":\"source_id\"\n",
    "    }\n",
    "\n",
    "# dictionary for query of cell area metric\n",
    "facet_dict_area = { \"source_id\":source_ids,\n",
    "    \"variable_id\":\"areacello\",\n",
    "    \"member_id\":\"r1i1p1f1\",\n",
    "    \"table_id\":\"Ofx\",\n",
    "    \"grid_label\":\"gn\",\n",
    "    \"experiment_id\":\"historical\",\n",
    "    \"require_all_on\":\"source_id\"\n",
    "    }\n",
    "\n",
    "# search for temperature and area data and return datatree objects\n",
    "dt = readin_cmip6_to_datatree(facet_dict)\n",
    "dt_area = readin_cmip6_to_datatree(facet_dict_area)\n",
    "\n",
    "# merge area metric into datatree object\n",
    "dt_with_area = DataTree()\n",
    "for model, subtree in dt.items():\n",
    "    metric = dt_area[model][\"historical\"].ds[\"areacello\"]\n",
    "    dt_with_area[model] = subtree.map_over_subtree(_parse_metric, metric)"
   ]
  },
  {
   "cell_type": "markdown",
   "metadata": {
    "execution": {}
   },
   "source": [
    "Let's first reproduce the previous tutorial's time series of Global Mean SST $\\left(GMSST\\right)$ from *TaiESM1* through the historical experiment and two future emissions scenarios"
   ]
  },
  {
   "cell_type": "code",
   "execution_count": null,
   "metadata": {
    "execution": {},
    "executionInfo": {
     "elapsed": 23501,
     "status": "ok",
     "timestamp": 1683162622054,
     "user": {
      "displayName": "Sloane Garelick",
      "userId": "04706287370408131987"
     },
     "user_tz": 240
    },
    "tags": []
   },
   "outputs": [],
   "source": [
    "# average every dataset in the tree globally\n",
    "dt_gm = dt_with_area.map_over_subtree(global_mean)\n",
    "\n",
    "# create plot\n",
    "fig, ax = plt.subplots()\n",
    "# draw every scenario\n",
    "for experiment in [\"historical\", \"ssp126\", \"ssp585\"]:\n",
    "    da = dt_gm[\"TaiESM1\"][experiment].ds.tos\n",
    "    da.plot(label=experiment, ax=ax)\n",
    "\n",
    "# aesthetics\n",
    "ax.set_title(\"Global Mean SST from TaiESM1\")\n",
    "ax.set_ylabel(\"Global Mean SST (°C)\")\n",
    "ax.set_xlabel(\"Time (years)\")\n",
    "ax.legend()"
   ]
  },
  {
   "cell_type": "markdown",
   "metadata": {
    "execution": {}
   },
   "source": [
    "### Coding Exercise 1.1: Combine past and future data, remove seasonal oscillations, and plot all 5 of the CMIP6 models we just loaded\n",
    "\n",
    "* The historical and projected data are separate time series. Complete the `xr.concat()` function to combine the historical and projected data into a single continuous time series for each model.\n",
    "* The previous time series oscillated very rapidly due to Earth's seasonal cycles. Finish the `xarray` `.resample()` function so that it smooths the monthly data with a one-year running mean. This will make it easier to distinguish the long-term changes in sea surface temperature.\n",
    "* *Hint: this code is already set up to use all 5 of the CMIP6 models you just loaded, as it loops through and plots each model in the DataTree [`dt.keys()`]*"
   ]
  },
  {
   "cell_type": "code",
   "execution_count": null,
   "metadata": {
    "execution": {},
    "executionInfo": {
     "elapsed": 169,
     "status": "error",
     "timestamp": 1682723761601,
     "user": {
      "displayName": "Brodie Pearson",
      "userId": "05269028596972519847"
     },
     "user_tz": 420
    },
    "tags": []
   },
   "outputs": [],
   "source": [
    "#################################################\n",
    "## TODO for students: Plot annually smoothed global mean SST for all models##\n",
    "# please remove the following line of code once you have completed the exercise:\n",
    "raise NotImplementedError(\"Student exercise: Plot annually smoothed global mean SST for all models\")\n",
    "#################################################\n",
    "\n",
    "\n",
    "def plot_historical_ssp126_combined(dt, ax):\n",
    "    for model in dt.keys():\n",
    "        datasets = []\n",
    "        for experiment in [\"historical\", \"ssp126\"]:\n",
    "            datasets.append(dt[model][experiment].tos)\n",
    "\n",
    "        # for each of the models, concatenate its historical and future data\n",
    "        da_combined = xr.concat(...)\n",
    "        # plot annual averages\n",
    "        da_combined.coarsen(...).mean().plot(label=model, ax=ax)\n",
    "\n",
    "\n",
    "fig, ax = plt.subplots()\n",
    "# plot_historical_ssp126_combined\n",
    "_ = ...\n",
    "\n",
    "ax.set_title(\"Global Mean SST from five CMIP6 models (annually smoothed)\")\n",
    "ax.set_ylabel(\"Global Mean SST (°C)\")\n",
    "ax.set_xlabel(\"Time (years)\")\n",
    "ax.legend()"
   ]
  },
  {
   "cell_type": "markdown",
   "metadata": {
    "colab_type": "text",
    "execution": {},
    "executionInfo": {
     "elapsed": 81780,
     "status": "ok",
     "timestamp": 1683162775542,
     "user": {
      "displayName": "Sloane Garelick",
      "userId": "04706287370408131987"
     },
     "user_tz": 240
    },
    "tags": []
   },
   "source": [
    "[*Click for solution*](https://github.com/neuromatch/climate-course-content/tree/main/tutorials/W2D1_FutureClimate-IPCCIPhysicalBasis/solutions/W2D1_Tutorial2_Solution_ed0c5ca4.py)\n",
    "\n",
    "*Example output:*\n",
    "\n",
    "<img alt='Solution hint' align='left' width=827.0 height=575.0 src=https://raw.githubusercontent.com/neuromatch/climate-course-content/main/tutorials/W2D1_FutureClimate-IPCCIPhysicalBasis/static/W2D1_Tutorial2_Solution_ed0c5ca4_1.png>\n",
    "\n"
   ]
  },
  {
   "cell_type": "markdown",
   "metadata": {
    "execution": {}
   },
   "source": [
    "### Question 1.1\n",
    "\n",
    "1.   Why do you think the global mean temperature varies so much between models?* \n",
    "\n",
    "**If you get stuck here, reflect on the videos from earlier today and the tutorials/videos from the Introduction to Climate Modeling day for inspiration.*"
   ]
  },
  {
   "cell_type": "markdown",
   "metadata": {
    "colab_type": "text",
    "execution": {},
    "tags": []
   },
   "source": [
    "[*Click for solution*](https://github.com/neuromatch/climate-course-content/tree/main/tutorials/W2D1_FutureClimate-IPCCIPhysicalBasis/solutions/W2D1_Tutorial2_Solution_4d683b54.py)\n",
    "\n"
   ]
  },
  {
   "cell_type": "markdown",
   "metadata": {
    "execution": {}
   },
   "source": [
    "### Coding Exercise 1.2\n",
    "\n",
    "As you just saw, the global mean SST varies between climate models. This is not surprising given the slight differences in physics, numerics, and discretization between each model.\n",
    "\n",
    "When we are looking at future projections, we care about how each model has *changed* relative to their equilibrium/previous state. To do this, we typically subtract a historical reference period from the time series. This creates a new time series which we call the temperature *anomaly* relative to that period. **Recall that you already calculated and used *anomalies* earlier in the course (e.g., on W1D1, Tutorial 6).**\n",
    "\n",
    "**Modify the following code to recreate the previous multi-model figure, but now instead plot the global mean sea surface temperature (GMSST) *anomaly* relative to the 1950-1980 base period (i.e., subtract the 1950-1980 mean GMSST of each model from that model's time series)**\n",
    "\n",
    "*Hint: you will need to use `ds.sel` to select data during the base period ([see here](https://docs.xarray.dev/en/stable/user-guide/indexing.html#indexing-with-dimension-names) under \"Indexing with dimension names\" for a helpful example) along with the averaging operator, `.mean()`.*"
   ]
  },
  {
   "cell_type": "code",
   "execution_count": null,
   "metadata": {
    "execution": {},
    "executionInfo": {
     "elapsed": 130,
     "status": "error",
     "timestamp": 1682723868376,
     "user": {
      "displayName": "Brodie Pearson",
      "userId": "05269028596972519847"
     },
     "user_tz": 420
    }
   },
   "outputs": [],
   "source": [
    "#################################################\n",
    "## TODO for students: Plot global mean SST anomaly for all models.##\n",
    "# Please remove the following line of code once you have completed the exercise:\n",
    "raise NotImplementedError(\"Student exercise: Plot global mean SST anomaly for all models.\")\n",
    "#################################################\n",
    "\n",
    "# calculate anomaly to reference period\n",
    "def datatree_anomaly(dt):\n",
    "    dt_out = DataTree()\n",
    "    for model, subtree in dt.items():\n",
    "        # find the temporal average over the desired reference period\n",
    "        ref = ...\n",
    "        dt_out[model] = subtree - ref\n",
    "    return dt_out\n",
    "\n",
    "# apply anomaly function\n",
    "dt_gm_anomaly = datatree_anomaly(dt_gm)\n",
    "\n",
    "# create plot\n",
    "fig, ax = plt.subplots()\n",
    "\n",
    "# draw data with helper function\n",
    "plot_historical_ssp126_combined(dt_gm_anomaly, ax)\n",
    "\n",
    "# aesthetics\n",
    "ax.set_title(\n",
    "    \"Global Mean SST Anomaly from five CMIP6 models (base period: 1950 to 1980)\"\n",
    ")\n",
    "ax.set_ylabel(\"Global Mean SST Anomaly (°C)\")\n",
    "ax.set_xlabel(\"Time (years)\")\n",
    "ax.legend()"
   ]
  },
  {
   "cell_type": "markdown",
   "metadata": {
    "colab_type": "text",
    "execution": {},
    "executionInfo": {
     "elapsed": 72588,
     "status": "ok",
     "timestamp": 1683163084117,
     "user": {
      "displayName": "Sloane Garelick",
      "userId": "04706287370408131987"
     },
     "user_tz": 240
    },
    "tags": []
   },
   "source": [
    "[*Click for solution*](https://github.com/neuromatch/climate-course-content/tree/main/tutorials/W2D1_FutureClimate-IPCCIPhysicalBasis/solutions/W2D1_Tutorial2_Solution_32be2dfb.py)\n",
    "\n",
    "*Example output:*\n",
    "\n",
    "<img alt='Solution hint' align='left' width=1012.0 height=575.0 src=https://raw.githubusercontent.com/neuromatch/climate-course-content/main/tutorials/W2D1_FutureClimate-IPCCIPhysicalBasis/static/W2D1_Tutorial2_Solution_32be2dfb_1.png>\n",
    "\n"
   ]
  },
  {
   "cell_type": "markdown",
   "metadata": {
    "execution": {}
   },
   "source": [
    "### Questions 1.2: Climate Connection\n",
    "\n",
    "1.  How does this figure compare to the previous one where the reference period was not subtracted?\n",
    "2.  This figure uses the reference period of 1950-1980 for its anomaly calculation. How does the variability across models 100 years before the base period (1850) compare to the variability 100 years after the base period (2080)? Why do you think this is?\n"
   ]
  },
  {
   "cell_type": "markdown",
   "metadata": {
    "colab_type": "text",
    "execution": {},
    "tags": []
   },
   "source": [
    "[*Click for solution*](https://github.com/neuromatch/climate-course-content/tree/main/tutorials/W2D1_FutureClimate-IPCCIPhysicalBasis/solutions/W2D1_Tutorial2_Solution_2f1aae82.py)\n",
    "\n"
   ]
  },
  {
   "cell_type": "markdown",
   "metadata": {
    "execution": {}
   },
   "source": [
    "# Summary\n",
    "\n",
    "In this tutorial, we expanded on the previous examination of a single CMIP6 model (*TaiESM1* or *MPI-ESM1-2-LR*), to instead work with multi-model ensembles comprising five different CMIP6 models developed by institutions around the world (*TaiESM1*, *IPSL-CM6A-LR*, *GFDL-ESM4*, *ACCESS-CM2*, and *MPI-ESM1-2-LR*). We demonstrated the importance of anomalizing each of these models relative to a base period when calculating changes in the simulated Earth system. If variables are not anomalized, these absolute values can differ significantly between models due to the diversity of models (i.e., their distinct physics, numerics, and discretization)."
   ]
  },
  {
   "cell_type": "markdown",
   "metadata": {
    "execution": {}
   },
   "source": [
    "# Resources\n",
    "\n",
    "This tutorial uses data from the simulations conducted as part of the [CMIP6](https://wcrp-cmip.org/) multi-model ensemble. \n",
    "\n",
    "For examples on how to access and analyze data, please visit the [Pangeo Cloud CMIP6 Gallery](https://gallery.pangeo.io/repos/pangeo-gallery/cmip6/index.html) \n",
    "\n",
    "For more information on what CMIP is and how to access the data, please see this [page](https://github.com/neuromatch/climate-course-content/blob/main/tutorials/CMIP/CMIP_resource_bank.md)."
   ]
  }
 ],
 "metadata": {
  "colab": {
   "collapsed_sections": [],
   "include_colab_link": true,
   "machine_shape": "hm",
   "name": "W2D1_Tutorial2",
   "provenance": [
    {
     "file_id": "1WfT8oN22xywtecNriLptqi1SuGUSoIlc",
     "timestamp": 1680298239014
    }
   ],
   "toc_visible": true
  },
  "gpuClass": "standard",
  "kernel": {
   "display_name": "Python 3",
   "language": "python",
   "name": "python3"
  },
  "kernelspec": {
   "display_name": "Python 3 (ipykernel)",
   "language": "python",
   "name": "python3"
  },
  "language_info": {
   "codemirror_mode": {
    "name": "ipython",
    "version": 3
   },
   "file_extension": ".py",
   "mimetype": "text/x-python",
   "name": "python",
   "nbconvert_exporter": "python",
   "pygments_lexer": "ipython3",
   "version": "3.9.19"
  }
 },
 "nbformat": 4,
 "nbformat_minor": 4
}