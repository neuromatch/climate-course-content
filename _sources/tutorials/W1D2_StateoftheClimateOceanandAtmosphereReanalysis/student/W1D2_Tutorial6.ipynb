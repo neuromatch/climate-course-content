{
 "cells": [
  {
   "cell_type": "markdown",
   "metadata": {
    "execution": {}
   },
   "source": [
    "[![Open In Colab](https://colab.research.google.com/assets/colab-badge.svg)](https://colab.research.google.com/github/neuromatch/climate-course-content/blob/main/tutorials/W1D2_StateoftheClimateOceanandAtmosphereReanalysis/student/W1D2_Tutorial6.ipynb)   <a href=\"https://kaggle.com/kernels/welcome?src=https://raw.githubusercontent.com/neuromatch/climate-course-content/main/tutorials/W1D2_StateoftheClimateOceanandAtmosphereReanalysis/student/W1D2_Tutorial6.ipynb\" target=\"_blank\"><img alt=\"Open in Kaggle\" src=\"https://kaggle.com/static/images/open-in-kaggle.svg\"/></a>"
   ]
  },
  {
   "cell_type": "markdown",
   "metadata": {
    "execution": {}
   },
   "source": [
    "# Bonus Tutorial 6: Ocean Heat Content\n",
    "\n",
    "**Week 1, Day 2: Ocean and Atmospheric Reanalysis**\n",
    "\n",
    "**Content creators:** Aurora Basinski\n",
    "\n",
    "**Content reviewers:** Katrina Dobson, Danika Gupta, Maria Gonzalez, Will Gregory, Nahid Hasan, Paul Heubel, Sherry Mi, Beatriz Cosenza Muralles, Jenna Pearson, Chi Zhang, Ohad Zivan\n",
    "\n",
    "**Content editors:** Paul Heubel, Brodie Pearson, Jenna Pearson, Chi Zhang, Ohad Zivan\n",
    "\n",
    "**Production editors:** Wesley Banfield, Paul Heubel, Jenna Pearson, Konstantine Tsafatinos, Chi Zhang, Ohad Zivan\n",
    "\n",
    "**Our 2024 Sponsors:** NFDI4Earth, CMIP"
   ]
  },
  {
   "cell_type": "markdown",
   "metadata": {
    "execution": {}
   },
   "source": [
    "# Tutorial Objectives\n",
    "\n",
    "*Estimated timing of tutorial:* 30 mins\n",
    "\n",
    "In this tutorial, you will explore the ocean's vast heat capacity, which has a significant impact on the climate system. \n",
    "\n",
    "The ocean has a heat capacity that is approximately 1000 times greater than the entire atmosphere, due to the relatively large mass and specific heat capacity of water. This means that the ocean has a significant impact on Earth's thermal equilibrium state. *Ocean heat uptake* and *ocean carbon uptake* mitigate the effect of anthropogenic climate change by absorbing roughly 90% of the excess heat and 25% of human-emitted CO$_2$. As you will see in this tutorial, ocean heat uptake largely occurs in the upper ocean as it is the region in contact with the atmosphere.\n",
    "\n",
    "The ocean's high heat capacity also facilitates meridional ocean heat transport from the Equator to the poles, which acts in addition to the meridional *atmospheric* heat transport.\n",
    "\n",
    "Through this tutorial, you will explore the spatial distribution of heat in the ocean and how the ocean's heat content is changing over time. To do this, you will utilize the [Estimating the Circulation and Climate of the Ocean (ECCO)](https://www.ecco-group.org/) dataset.\n",
    "\n",
    "At the end of this tutorial, you learned how to \n",
    "- quantify the Ocean heat uptake via numerical integration over a gridded dataset using the `.sum()` and `.cumsum()` functions.\n",
    "- compare temporal changes of the Ocean's heat uptake within different water mass layers."
   ]
  },
  {
   "cell_type": "markdown",
   "metadata": {
    "execution": {}
   },
   "source": [
    "# Setup"
   ]
  },
  {
   "cell_type": "code",
   "execution_count": null,
   "metadata": {
    "execution": {},
    "tags": [
     "colab"
    ]
   },
   "outputs": [],
   "source": [
    "# installations ( uncomment and run this cell ONLY when using google colab or kaggle )\n",
    "\n",
    "# !pip install cmocean\n",
    "# !pip install cartopy"
   ]
  },
  {
   "cell_type": "code",
   "execution_count": null,
   "metadata": {
    "execution": {}
   },
   "outputs": [],
   "source": [
    "import xarray as xr\n",
    "import matplotlib.pyplot as plt\n",
    "from cartopy import crs as ccrs, feature as cfeature\n",
    "from cartopy.mpl.ticker import LongitudeFormatter, LatitudeFormatter\n",
    "import cmocean as cmo\n",
    "import os\n",
    "import pooch\n",
    "import tempfile"
   ]
  },
  {
   "cell_type": "markdown",
   "metadata": {},
   "source": [
    "##  Helper functions\n"
   ]
  },
  {
   "cell_type": "code",
   "execution_count": null,
   "metadata": {
    "cellView": "form",
    "execution": {},
    "tags": [
     "hide-input"
    ]
   },
   "outputs": [],
   "source": [
    "# @title Helper functions\n",
    "\n",
    "def pooch_load(filelocation=None, filename=None, processor=None):\n",
    "    shared_location = \"/home/jovyan/shared/Data/tutorials/W1D2_StateoftheClimateOceanandAtmosphereReanalysis\"  # this is different for each day\n",
    "    user_temp_cache = tempfile.gettempdir()\n",
    "\n",
    "    if os.path.exists(os.path.join(shared_location, filename)):\n",
    "        file = os.path.join(shared_location, filename)\n",
    "    else:\n",
    "        file = pooch.retrieve(\n",
    "            filelocation,\n",
    "            known_hash=None,\n",
    "            fname=os.path.join(user_temp_cache, filename),\n",
    "            processor=processor,\n",
    "        )\n",
    "\n",
    "    return file"
   ]
  },
  {
   "cell_type": "markdown",
   "metadata": {},
   "source": [
    "##  Figure Settings\n"
   ]
  },
  {
   "cell_type": "code",
   "execution_count": null,
   "metadata": {
    "cellView": "form",
    "execution": {},
    "tags": [
     "hide-input"
    ]
   },
   "outputs": [],
   "source": [
    "# @title Figure Settings\n",
    "import ipywidgets as widgets  # interactive display\n",
    "\n",
    "%config InlineBackend.figure_format = 'retina'\n",
    "plt.style.use(\n",
    "    \"https://raw.githubusercontent.com/neuromatch/climate-course-content/main/cma.mplstyle\"\n",
    ")"
   ]
  },
  {
   "cell_type": "markdown",
   "metadata": {},
   "source": [
    "##  Figure Settings\n"
   ]
  },
  {
   "cell_type": "code",
   "execution_count": null,
   "metadata": {
    "cellView": "form",
    "execution": {},
    "tags": [
     "hide-input"
    ]
   },
   "outputs": [],
   "source": [
    "# @title Figure Settings\n",
    "import ipywidgets as widgets  # interactive display\n",
    "\n",
    "%config InlineBackend.figure_format = 'retina'\n",
    "plt.style.use(\n",
    "    \"https://raw.githubusercontent.com/neuromatch/climate-course-content/main/cma.mplstyle\"\n",
    ")"
   ]
  },
  {
   "cell_type": "markdown",
   "metadata": {},
   "source": [
    "##  Video 1: Ocean's Role in Climate\n"
   ]
  },
  {
   "cell_type": "code",
   "execution_count": null,
   "metadata": {
    "cellView": "form",
    "execution": {},
    "tags": [
     "remove-input"
    ]
   },
   "outputs": [],
   "source": [
    "# @title Video 1: Ocean's Role in Climate\n",
    "\n",
    "from ipywidgets import widgets\n",
    "from IPython.display import YouTubeVideo\n",
    "from IPython.display import IFrame\n",
    "from IPython.display import display\n",
    "\n",
    "\n",
    "class PlayVideo(IFrame):\n",
    "  def __init__(self, id, source, page=1, width=400, height=300, **kwargs):\n",
    "    self.id = id\n",
    "    if source == 'Bilibili':\n",
    "      src = f'https://player.bilibili.com/player.html?bvid={id}&page={page}'\n",
    "    elif source == 'Osf':\n",
    "      src = f'https://mfr.ca-1.osf.io/render?url=https://osf.io/download/{id}/?direct%26mode=render'\n",
    "    super(PlayVideo, self).__init__(src, width, height, **kwargs)\n",
    "\n",
    "\n",
    "def display_videos(video_ids, W=400, H=300, fs=1):\n",
    "  tab_contents = []\n",
    "  for i, video_id in enumerate(video_ids):\n",
    "    out = widgets.Output()\n",
    "    with out:\n",
    "      if video_ids[i][0] == 'Youtube':\n",
    "        video = YouTubeVideo(id=video_ids[i][1], width=W,\n",
    "                             height=H, fs=fs, rel=0)\n",
    "        print(f'Video available at https://youtube.com/watch?v={video.id}')\n",
    "      else:\n",
    "        video = PlayVideo(id=video_ids[i][1], source=video_ids[i][0], width=W,\n",
    "                          height=H, fs=fs, autoplay=False)\n",
    "        if video_ids[i][0] == 'Bilibili':\n",
    "          print(f'Video available at https://www.bilibili.com/video/{video.id}')\n",
    "        elif video_ids[i][0] == 'Osf':\n",
    "          print(f'Video available at https://osf.io/{video.id}')\n",
    "      display(video)\n",
    "    tab_contents.append(out)\n",
    "  return tab_contents\n",
    "\n",
    "\n",
    "video_ids = [('Youtube', 'dPSYOC1blUg'), ('Bilibili', 'BV1gP411y7oj')]\n",
    "tab_contents = display_videos(video_ids, W=730, H=410)\n",
    "tabs = widgets.Tab()\n",
    "tabs.children = tab_contents\n",
    "for i in range(len(tab_contents)):\n",
    "  tabs.set_title(i, video_ids[i][0])\n",
    "display(tabs)"
   ]
  },
  {
   "cell_type": "code",
   "execution_count": null,
   "metadata": {
    "cellView": "form",
    "execution": {},
    "pycharm": {
     "name": "#%%\n"
    },
    "tags": [
     "remove-input"
    ]
   },
   "outputs": [],
   "source": [
    "# @markdown\n",
    "from ipywidgets import widgets\n",
    "from IPython.display import IFrame\n",
    "\n",
    "link_id = \"vyb68\"\n",
    "\n",
    "download_link = f\"https://osf.io/download/{link_id}/\"\n",
    "render_link = f\"https://mfr.ca-1.osf.io/render?url=https://osf.io/{link_id}/?direct%26mode=render%26action=download%26mode=render\"\n",
    "# @markdown\n",
    "out = widgets.Output()\n",
    "with out:\n",
    "    print(f\"If you want to download the slides: {download_link}\")\n",
    "    display(IFrame(src=f\"{render_link}\", width=730, height=410))\n",
    "display(out)"
   ]
  },
  {
   "cell_type": "markdown",
   "metadata": {
    "execution": {}
   },
   "source": [
    "# Section 1: Vertical Distribution of Heat Within the Ocean\n",
    "\n",
    "First, let's load ECCO ocean temperature (`THETA`). This dataset contains the annual mean temperature over the period of 1992 to 2016.\n",
    "\n",
    "Note that the [potential temperature](https://glossary.ametsoc.org/wiki/Potential_temperature) $\\theta$ is commonly used in oceanographic calculations, which is why our temperature file is called `theta_annual_mean.nc` and the corresponding variable `THETA`. For the following explanations and exercises, we follow this naming convention without further discussing its definition or advantages."
   ]
  },
  {
   "cell_type": "code",
   "execution_count": null,
   "metadata": {
    "execution": {}
   },
   "outputs": [],
   "source": [
    "# import preprocessed ECCO data. This data is full depth temperature data over 1992 to 2016 (annual mean)\n",
    "# this file takes about 5 minutes to load\n",
    "filename_theta_annual = \"theta_annual_mean.nc\"\n",
    "url_theta_annual = \"https://osf.io/c8wqt/download\"\n",
    "\n",
    "theta_annual = xr.open_dataset(pooch_load(url_theta_annual, filename_theta_annual))\n",
    "theta_annual = theta_annual.THETA\n",
    "theta_annual = theta_annual.where(theta_annual != 0)  # make land points equal to NaN\n",
    "theta_annual"
   ]
  },
  {
   "cell_type": "markdown",
   "metadata": {
    "execution": {}
   },
   "source": [
    "Our temperature data array `THETA` has four dimensions `longitude`, `latitude`, `Z` and `year`, and contains additional information about the grid. `dX`, `dZ`, and `dA` contain the $x$, $y$, $z$ extend of the cells with respect to longitude and latitude. To visualize our data we hence have to reduce its dimensionality by averaging or slicing along a dimension axis, while always keeping the grid in mind.\n",
    "\n",
    "Let's start with the latter and make a quick plot of the surface temperature at $Z=-5\\text{m}$ for the year 1992."
   ]
  },
  {
   "cell_type": "code",
   "execution_count": null,
   "metadata": {
    "execution": {}
   },
   "outputs": [],
   "source": [
    "# Quick plot of the ocean temperature in Kelvin\n",
    "theta_annual.sel(year=1992,Z=-5.0).plot(cmap=cmo.cm.thermal,\n",
    "                                        add_labels=True\n",
    "                                       )"
   ]
  },
  {
   "cell_type": "markdown",
   "metadata": {
    "execution": {}
   },
   "source": [
    "The ECCO ocean temperature (`THETA`) is provided in the [SI unit](https://en.wikipedia.org/wiki/International_System_of_Units) Kelvin (K), which might be less intuitive to us. So let us now slice a few years from the data, average it temporally and convert it to degrees Celsius (°C)."
   ]
  },
  {
   "cell_type": "code",
   "execution_count": null,
   "metadata": {
    "execution": {}
   },
   "outputs": [],
   "source": [
    "# Quick plot of the ocean temperature in Kelvin\n",
    "theta_annual.sel(year=1992,Z=-5.0).plot(cmap=cmo.cm.thermal,\n",
    "                                        add_labels=True\n",
    "                                       )"
   ]
  },
  {
   "cell_type": "markdown",
   "metadata": {
    "execution": {}
   },
   "source": [
    "The ECCO ocean temperature (`THETA`) is provided in the [SI unit](https://en.wikipedia.org/wiki/International_System_of_Units) Kelvin (K), which might be less intuitive to us. So let us now slice a few years from the data, average it temporally and convert it to degrees Celsius (°C)."
   ]
  },
  {
   "cell_type": "code",
   "execution_count": null,
   "metadata": {
    "execution": {}
   },
   "outputs": [],
   "source": [
    "# take the temporal mean over the period 1992 to 1994\n",
    "subset_theta = theta_annual.sel(year=slice(\"1992\", \"1994\")).mean(\"year\")\n",
    "# convert to °C\n",
    "subset_theta_C = subset_theta - 273.15\n",
    "subset_theta_C"
   ]
  },
  {
   "cell_type": "markdown",
   "metadata": {
    "execution": {}
   },
   "source": [
    "To explore the vertical distribution of the ocean temperature, we average `THETA` along all longitudes while weighting this mean according to our grid."
   ]
  },
  {
   "cell_type": "code",
   "execution_count": null,
   "metadata": {
    "execution": {}
   },
   "outputs": [],
   "source": [
    "# plot the zonal mean section of this data\n",
    "fig, ax = plt.subplots()\n",
    "\n",
    "# we take a mean over all longitudes after weighting the contribution of every cell by their size in x-direction/longitude\n",
    "zonal_mean = (subset_theta_C  * subset_theta_C.dX).sum(\"longitude\") / subset_theta_C.dX.sum(\"longitude\")\n",
    "\n",
    "zonal_mean.plot(ax=ax,\n",
    "                vmin=zonal_mean.min(),\n",
    "                vmax=zonal_mean.max(),\n",
    "                cmap=cmo.cm.thermal,\n",
    "                cbar_kwargs={\"label\": \"°C\"}\n",
    "               )\n",
    "\n",
    "# aesthetics\n",
    "ax.set_title(\"Global zonal mean of ocean temperature\")\n",
    "# cbar unit\n",
    "print(f'Maximum temperature:  {zonal_mean.max().values:.2f} °C')\n",
    "print(f'Minimum temperature:  {zonal_mean.min().values:.2f} °C')"
   ]
  },
  {
   "cell_type": "markdown",
   "metadata": {
    "execution": {}
   },
   "source": [
    "Temperatures are warmest near the ocean's surface and close to the Equator, which suggests that heat is not distributed evenly within the ocean. In this tutorial you will explore the spatial distribution of heat storage in the ocean (i.e., ocean heat content), and how this distribution is changing over time. \n",
    "\n",
    "Heat content is typically measured in Joules [J], which is equivalent to the units $\\text{kg}*\\text{m}^2/ \\text{s}^2$. To determine the heat content within a specific depth range of the global ocean, i.e., between depth $z_1$ and the surface (height of $z=0 \\text{m}$), you can calculate a *volume integral* over the dimensions $x,y,$ and $z$. This integral can be written as:\n",
    "$$\\iiint_{-z_1}^0 c_p \\cdot \\rho_0 \\cdot \\theta(x,y,z) dz dA$$\n",
    "\n",
    "Here, $\\iint dA$ represents the area integral over the $x$ and $y$ (lat, lon) coordinates. $\\rho_0$ is the reference density in units of $\\text{kg}*\\text{m}^3$ and $c_p$ is specific heat capacity in units of $\\text{J}/\\left(\\text{kg}*\\text{K}\\right)$."
   ]
  },
  {
   "cell_type": "code",
   "execution_count": null,
   "metadata": {
    "execution": {}
   },
   "outputs": [],
   "source": [
    "theta_area_int = (\n",
    "    (subset_theta * subset_theta.dA).sum(\"latitude\").sum(\"longitude\")\n",
    ")  # we take an area integral first at each depth level"
   ]
  },
  {
   "cell_type": "code",
   "execution_count": null,
   "metadata": {
    "execution": {}
   },
   "outputs": [],
   "source": [
    "# define reference density of salt water and the specific heat capacity\n",
    "rho = 1026  # kg/m^3\n",
    "c_p = 3990  # J/(kg K)\n",
    "\n",
    "fig, ax = plt.subplots()\n",
    "\n",
    "# integrate with a cumulative sum to get heat content for all depths weighted by their cell size\n",
    "# and multiply with the area integral from above, such that every entry in the resulting array\n",
    "# is equivalent to the heat content of the water mass up above this depth.\n",
    "ax.plot(\n",
    "    -subset_theta.Zu, (rho * c_p * theta_area_int * subset_theta.dZ).cumsum() / 10**27\n",
    ")\n",
    "\n",
    "# aesthetics\n",
    "ax.grid(True)\n",
    "ax.set_xlabel(\"Depth (m)\")\n",
    "ax.set_ylabel(\"Heat content above this depth ($10^6$ ZJ)\")\n",
    "ax.set_title(\"Global Ocean Heat Content above each depth\")"
   ]
  },
  {
   "cell_type": "markdown",
   "metadata": {
    "execution": {}
   },
   "source": [
    "<details>\n",
    "<summary><font color='orangered'>Click here for a description of the plot  </font></summary>\n",
    "Heat content that is contained in the water mass from the surface to the respective depth, for all depths calculated with a cumulative sum. \n",
    "Hence, the overall global ocean heat, integrated from 6000m to the surface, is approximately 0.02 * 10^6 ZJ.\n",
    "\n",
    "***\n",
    "\n",
    "</details>"
   ]
  },
  {
   "cell_type": "markdown",
   "metadata": {
    "execution": {}
   },
   "source": [
    "<details>\n",
    "<summary><font color='orangered'>Click here for a description of the plot  </font></summary>\n",
    "Heat content that is contained in the water mass from the surface to the respective depth, for all depths calculated with a cumulative sum. \n",
    "Hence, the overall global ocean heat, integrated from 6000m to the surface, is approximately 0.02 * 10^6 ZJ.\n",
    "\n",
    "***\n",
    "\n",
    "</details>"
   ]
  },
  {
   "cell_type": "markdown",
   "metadata": {
    "execution": {}
   },
   "source": [
    "You can see that much of the ocean's heat is concentrated in the upper ocean (where the line is steep), with less heat stored in the deepest ocean regions (where the line plateaus). At first glance, this seems consistent with the zonal mean plot you plotted earlier in the tutorial, where the upper ocean tends to be warmer than deeper waters. However, in the integral equation above, $\\theta$ is not the only depth-dependent term. The global ocean area ($A$) also varies with depth, with the area of the global ocean decreasing with depth until only a few deep trenches contain water at the greatest ocean depths.\n",
    "\n",
    "Let's explore whether the ocean heat content plot we just created is driven by temperature variations or global ocean area variations with depth. One way to do this is to calculate and plot an integral of the global ocean area between each depth and the surface (i.e., the volume of the ocean above a each depth): $\\text{Volume}(z) = \\iiint_{-z_1}^0 dz dA$.\n",
    "\n",
    "If the volume as a function of depth looks similar to the heat content plot above, it would suggest that the  smaller heat content of the deeper ocean (i.e., the plateau at large depths) is caused by the relatively small volume of water contained at these depths, rather than the vertical variations in temperature.\n"
   ]
  },
  {
   "cell_type": "code",
   "execution_count": null,
   "metadata": {
    "execution": {}
   },
   "outputs": [],
   "source": [
    "area_of_ocean = (\n",
    "    (subset_theta * subset_theta.dA / subset_theta).sum(\"latitude\").sum(\"longitude\")\n",
    ")  # we take an area integral first at each depth level\n",
    "\n",
    "fig, ax = plt.subplots()\n",
    "ax.plot(-subset_theta.Zu, (area_of_ocean * subset_theta.dZ).cumsum())\n",
    "\n",
    "ax.grid(True)\n",
    "ax.set_xlabel(\"Depth (m)\")\n",
    "ax.set_ylabel(\"Volume of the global ocean above this depth (m$^3$)\")\n",
    "ax.set_title(\"Global ocean volume above each depth\")"
   ]
  },
  {
   "cell_type": "markdown",
   "metadata": {
    "execution": {}
   },
   "source": [
    "## Question 1\n",
    "\n",
    "1. Based on the last two plots, are depth-variations in ocean heat content primarily due to vertical changes in the temperature or area of the ocean?\n"
   ]
  },
  {
   "cell_type": "markdown",
   "metadata": {
    "colab_type": "text",
    "execution": {}
   },
   "source": [
    "[*Click for solution*](https://github.com/neuromatch/climate-course-content/tree/main/tutorials/W1D2_StateoftheClimateOceanandAtmosphereReanalysis/solutions/W1D2_Tutorial6_Solution_387259da.py)\n",
    "\n"
   ]
  },
  {
   "cell_type": "markdown",
   "metadata": {
    "execution": {}
   },
   "source": [
    "# Section 2: Changes in Ocean Heat Content"
   ]
  },
  {
   "cell_type": "markdown",
   "metadata": {
    "execution": {}
   },
   "source": [
    "In this section you will examine how the total (i.e., full-depth) heat content of the ocean has changed over time. You will also explore heat content changes within two specific upper-ocean layers: one above 700 m depth and another above 2000 m depth$^*$. By analyzing these near surface layers, you will identify whether changes in the ocean's heat content are evenly distributed through the water column.\n",
    "\n",
    "$^*$*Note: technically the grid of the data means you will be looking above 677 m and 1997 m respectively*"
   ]
  },
  {
   "cell_type": "code",
   "execution_count": null,
   "metadata": {
    "execution": {}
   },
   "outputs": [],
   "source": [
    "# this cell may take a while to run!\n",
    "rho = 1026  # kg/m^3\n",
    "c_p = 3990  # J/(kg K)\n",
    "# initialize lists to store resulting values\n",
    "global_heat, years_to_plot, global_heat_upper2000, global_heat_upper700 = [], [], [], []\n",
    "# for every year of the data set\n",
    "for year in theta_annual.year:\n",
    "    # fill the years of interest list\n",
    "    years_to_plot.append(int(year))\n",
    "    # select a year and calculate global heat content over the whole ocean depth, ..\n",
    "    subset_theta_year = theta_annual.sel(year=int(year))\n",
    "    global_heat.append(\n",
    "        float(\n",
    "            rho\n",
    "            * c_p\n",
    "            * (subset_theta_year * subset_theta_year.dZ * subset_theta_year.dA)\n",
    "            .sum(\"Z\")\n",
    "            .sum(\"latitude\")\n",
    "            .sum(\"longitude\")\n",
    "        )\n",
    "    )\n",
    "    # .., the upper 2000m\n",
    "    global_heat_upper2000.append(\n",
    "        float(\n",
    "            rho\n",
    "            * c_p\n",
    "            * (\n",
    "                (\n",
    "                    subset_theta_year.where(subset_theta_year.Zu > -2000)\n",
    "                    * subset_theta_year.dZ\n",
    "                    * subset_theta_year.dA\n",
    "                )\n",
    "                .sum(\"Z\")\n",
    "                .sum(\"latitude\")\n",
    "                .sum(\"longitude\")\n",
    "            )\n",
    "        )\n",
    "    )\n",
    "    # .., and the upper 700m\n",
    "    global_heat_upper700.append(\n",
    "        float(\n",
    "            rho\n",
    "            * c_p\n",
    "            * (\n",
    "                (\n",
    "                    subset_theta_year.where(subset_theta_year.Zu > -700)\n",
    "                    * subset_theta_year.dZ\n",
    "                    * subset_theta_year.dA\n",
    "                )\n",
    "                .sum(\"Z\")\n",
    "                .sum(\"latitude\")\n",
    "                .sum(\"longitude\")\n",
    "            )\n",
    "        )\n",
    "    )\n",
    "\n",
    "# we now have lists, and list don't support math operations (-)\n",
    "# we also divide the values by 10**21 to make them easier to read. Unit is therefore ZJ (zetta joule)\n",
    "\n",
    "heat_anom_fulldepth = [\n",
    "    (heat - global_heat[0]) / 10**21 for heat in global_heat\n",
    "]  # subtract year 1992 to get anomaly\n",
    "heat_anom_upper2000 = [\n",
    "    (heat - global_heat_upper2000[0]) / 10**21 for heat in global_heat_upper2000\n",
    "]  # subtract year 1992 to get anomaly\n",
    "heat_anom_upper700 = [\n",
    "    (heat - global_heat_upper700[0]) / 10**21 for heat in global_heat_upper700\n",
    "]  # subtract year 1992 to get anomaly\n",
    "heat_anom_upper2000_700 = [\n",
    "    a - b for a, b in zip(heat_anom_upper2000, heat_anom_upper700)\n",
    "]  # difference series between 2000 m to 700 m\n",
    "heat_anom_upperfulldepth_2000 = [\n",
    "    a - b for a, b in zip(heat_anom_fulldepth, heat_anom_upper2000)\n",
    "]  # difference series between full depth to 2000"
   ]
  },
  {
   "cell_type": "code",
   "execution_count": null,
   "metadata": {
    "execution": {}
   },
   "outputs": [],
   "source": [
    "fig, ax = plt.subplots()\n",
    "\n",
    "ax.plot(years_to_plot, heat_anom_fulldepth, \"k--\")\n",
    "ax.plot(years_to_plot, heat_anom_upper700)\n",
    "ax.plot(years_to_plot, heat_anom_upper2000_700)\n",
    "ax.plot(years_to_plot, heat_anom_upperfulldepth_2000)\n",
    "\n",
    "# aesthetics\n",
    "ax.grid(True)\n",
    "ax.set_xlabel(\"Time\")\n",
    "ax.set_ylabel(\"Heat content change (ZJ)\")\n",
    "ax.legend(\n",
    "    [\n",
    "        \"Full depth\",\n",
    "        \"Surface to 700 meters depth\",\n",
    "        \"700 to 2000 meters depth\",\n",
    "        \"Below 2000 meters depth\",\n",
    "    ]\n",
    ")\n",
    "ax.set_title(\"Change in ocean heat content over time\")"
   ]
  },
  {
   "cell_type": "markdown",
   "metadata": {
    "execution": {}
   },
   "source": [
    "## Questions 2\n",
    "\n",
    "The volume of the ocean in the model that was applied to create the reanalysis product does not change over time. Thus the *changes* in ocean heat content that you just calculated are caused by changes in the ocean's temperature. Most of the ocean's warming (heat gain) has been within the upper ocean (shallower than 700 m). The deeper ocean has also warmed, but not as substantially as near-surface waters.\n",
    "\n",
    "1. Based on this graph, what percentage of the ocean's heat gain since 1992 is contained within the top 2000 meters?\n"
   ]
  },
  {
   "cell_type": "markdown",
   "metadata": {
    "colab_type": "text",
    "execution": {}
   },
   "source": [
    "[*Click for solution*](https://github.com/neuromatch/climate-course-content/tree/main/tutorials/W1D2_StateoftheClimateOceanandAtmosphereReanalysis/solutions/W1D2_Tutorial6_Solution_29b1198d.py)\n",
    "\n"
   ]
  },
  {
   "cell_type": "markdown",
   "metadata": {
    "execution": {}
   },
   "source": [
    "# Section 3: Spatial Distribution of Ocean Heat Content"
   ]
  },
  {
   "cell_type": "markdown",
   "metadata": {
    "execution": {}
   },
   "source": [
    "You just saw that the ocean heat increase is concentrated near the ocean surface. **Now you will explore where that heat is stored as a function of latitude and longitude**. You can do this by creating a global map of ocean heat content in the upper 700 m of the ocean - which is essentially the same integral as above without the horizontal area integral: $\\int_{-700m}^0 c_p\\rho_0\\theta(x,y,z) dz$."
   ]
  },
  {
   "cell_type": "code",
   "execution_count": null,
   "metadata": {
    "execution": {}
   },
   "outputs": [],
   "source": [
    "# first let's plot where heat is stored in the mean\n",
    "fig, ax = plt.subplots(\n",
    "    subplot_kw={\"projection\": ccrs.PlateCarree()}, dpi=100\n",
    ")  # this is from cartopy https://rabernat.github.io/research_computing_2018/maps-with-cartopy.html\n",
    "\n",
    "p = (\n",
    "    (\n",
    "        (rho * c_p * subset_theta.where(-subset_theta.Zu < 700) * subset_theta.dZ).sum(\n",
    "            \"Z\"\n",
    "        )\n",
    "    )\n",
    ").plot(\n",
    "    vmin=7e11,\n",
    "    vmax=8.15e11,\n",
    "    cmap=cmo.cm.thermal,\n",
    "    cbar_kwargs={\n",
    "        \"shrink\": 0.75,\n",
    "        \"orientation\": \"horizontal\",\n",
    "        \"extend\": \"both\",\n",
    "        \"pad\": 0.15,\n",
    "        \"label\": \"J/m$^2$\",\n",
    "    },\n",
    "    ax=ax,\n",
    ")\n",
    "ax.coastlines(color=\"grey\", lw=0.5)\n",
    "ax.set_xticks([-180, -120, -60, 0, 60, 120, 180], crs=ccrs.PlateCarree())\n",
    "ax.set_yticks([-90, -60, -30, 0, 30, 60, 90], crs=ccrs.PlateCarree())\n",
    "lon_formatter = LongitudeFormatter(zero_direction_label=True)\n",
    "lat_formatter = LatitudeFormatter()\n",
    "ax.add_feature(cfeature.LAND, zorder=100, edgecolor=\"k\")\n",
    "ax.set_title(\n",
    "    \"Ocean Heat Content of top 700 m per unit area, mean of 1992 to 1994\"\n",
    ")"
   ]
  },
  {
   "cell_type": "markdown",
   "metadata": {
    "execution": {}
   },
   "source": [
    "The lower latitude ocean contains more heat than the higher latitudes. This finding is consistent with your previous plot of warmer waters near the Equator during this tutorial. \n",
    "\n",
    "*Note: the color scale of this figure was chosen to emphasize latitudinal differences in ocean heat conent. As a result, some regions with shallow water depth display as black on the plot due to their relatively low column-integrated ocean heat content ($<7 \\times 10^{11} J m^{-2}$). **These black regions do not have zero ocean heat content.***\n",
    "\n",
    "Now let's explore the spatial pattern of (full-depth) ocean heat content *rate of change* between 1992 and 2016."
   ]
  },
  {
   "cell_type": "code",
   "execution_count": null,
   "metadata": {
    "execution": {}
   },
   "outputs": [],
   "source": [
    "# we already defined an object that's the mean over years 1992 to 1994 (subset_theta)\n",
    "# now define an object that's the mean over 2014 to 2016\n",
    "subset_theta_future = theta_annual.sel(year=slice(\"2014\", \"2016\")).mean(\"year\")\n",
    "\n",
    "length_of_time_period = 24 * 60 * 60 * 365 * (2015 - 1993) # calculate length in seconds\n",
    "\n",
    "# difference between future and present heat content over whole depth range\n",
    "full_depth_heat_content_change = (rho * c_p * subset_theta_future * subset_theta_future.dZ).sum(\"Z\")\n",
    "- (rho * c_p * subset_theta * subset_theta.dZ).sum(\"Z\")\n",
    "# difference between future and present heat content for upper 700m layer\n",
    "upper_700m_heat_content_change = (\n",
    "    rho\n",
    "    * c_p\n",
    "    * subset_theta_future.where(-subset_theta.Zu < 700)\n",
    "    * subset_theta_future.dZ\n",
    ").sum(\"Z\") - (\n",
    "    rho * c_p * subset_theta.where(-subset_theta.Zu < 700) * subset_theta.dZ\n",
    ").sum(\n",
    "    \"Z\"\n",
    ")"
   ]
  },
  {
   "cell_type": "code",
   "execution_count": null,
   "metadata": {
    "execution": {}
   },
   "outputs": [],
   "source": [
    "# plot 2 maps to compare changes in heat content in those two layers\n",
    "fig, ax = plt.subplots(\n",
    "    1, 2, subplot_kw={\"projection\": ccrs.PlateCarree()}, figsize=(16,6), dpi=100\n",
    ")  # this is from cartopy https://rabernat.github.io/research_computing_2018/maps-with-cartopy.html\n",
    "# full depth plot\n",
    "(full_depth_heat_content_change / length_of_time_period).plot(\n",
    "    ax=ax[0],\n",
    "    vmin=-10,\n",
    "    vmax=10,\n",
    "    cmap=cmo.cm.balance,\n",
    "    cbar_kwargs={\n",
    "        \"shrink\": 0.75,\n",
    "        \"orientation\": \"horizontal\",\n",
    "        \"extend\": \"both\",\n",
    "        \"pad\": 0.15,\n",
    "        \"label\": \"(J m$^{-2}$year$^{-1}$)\",\n",
    "    },\n",
    ")\n",
    "# upper layer plot\n",
    "(upper_700m_heat_content_change / length_of_time_period).plot(\n",
    "    ax=ax[1],\n",
    "    vmin=-10,\n",
    "    vmax=10,\n",
    "    cmap=cmo.cm.balance,\n",
    "    cbar_kwargs={\n",
    "        \"shrink\": 0.75,\n",
    "        \"orientation\": \"horizontal\",\n",
    "        \"extend\": \"both\",\n",
    "        \"pad\": 0.15,\n",
    "        \"label\": \"(J m$^{-2}$year$^{-1}$)\",\n",
    "    },\n",
    ")\n",
    "ax[0].coastlines(color=\"grey\", lw=0.5)\n",
    "ax[0].set_xticks([-180, -120, -60, 0, 60, 120, 180], crs=ccrs.PlateCarree())\n",
    "ax[0].set_yticks([-90, -60, -30, 0, 30, 60, 90], crs=ccrs.PlateCarree())\n",
    "lon_formatter = LongitudeFormatter(zero_direction_label=True)\n",
    "lat_formatter = LatitudeFormatter()\n",
    "ax[0].add_feature(cfeature.LAND, zorder=100, edgecolor=\"k\")\n",
    "ax[0].set_title(\n",
    "    \"Rate of change in full-depth ocean heat content \\n (2014-2016 minus 1992-1994)\"\n",
    ")\n",
    "ax[1].coastlines(color=\"grey\", lw=0.5)\n",
    "ax[1].set_xticks([-180, -120, -60, 0, 60, 120, 180], crs=ccrs.PlateCarree())\n",
    "ax[1].set_yticks([-90, -60, -30, 0, 30, 60, 90], crs=ccrs.PlateCarree())\n",
    "ax[0].set_ylabel(\"Latitude\")\n",
    "ax[1].set_ylabel(\"\")\n",
    "ax[0].set_xlabel(\"Longitude\")\n",
    "ax[1].set_xlabel(\"Longitude\")\n",
    "lon_formatter = LongitudeFormatter(zero_direction_label=True)\n",
    "lat_formatter = LatitudeFormatter()\n",
    "ax[1].add_feature(cfeature.LAND, zorder=100, edgecolor=\"k\")\n",
    "ax[1].set_title(\n",
    "    \"Rate of change in upper 700 m ocean heat content \\n (2014-2016 minus 1992-1994)\"\n",
    ")"
   ]
  },
  {
   "cell_type": "markdown",
   "metadata": {
    "execution": {}
   },
   "source": [
    "With these plots, you demonstrated that ocean heat gain is not evenly distributed across space. When comparing the two plots, you once again see that the upper ocean contains a large fraction of the warming (recall that equatorial regions contribute more to the global mean than high-latitude regions because of their relatively large area)."
   ]
  },
  {
   "cell_type": "markdown",
   "metadata": {
    "execution": {}
   },
   "source": [
    "# Summary\n",
    "\n",
    "In this tutorial, you have quantified the spatial patterns and temporal changes of the ocean's heat content. You showed that the upper layers of the ocean contain most of the ocean's heat content, due to their relatively large area (and hence volume) compared to the deepest ocean layers. These upper layers also experience a disproportionately large fraction of the ocean warming that has been observed in recent decades. You also found that heat content distribution varies by latitude and longitude, and is typically greater in the lower latitudes, and the ocean's heat gain over time is not uniformly distributed across different oceanic regions."
   ]
  },
  {
   "cell_type": "markdown",
   "metadata": {
    "execution": {}
   },
   "source": [
    "# Resources\n",
    "\n",
    "Data for this tutorial can be accessed [here](https://www.ecco-group.org/)."
   ]
  }
 ],
 "metadata": {
  "colab": {
   "collapsed_sections": [],
   "include_colab_link": true,
   "name": "W1D2_Tutorial6",
   "provenance": [],
   "toc_visible": true
  },
  "kernel": {
   "display_name": "Python 3",
   "language": "python",
   "name": "python3"
  },
  "kernelspec": {
   "display_name": "Python 3 (ipykernel)",
   "language": "python",
   "name": "python3"
  },
  "language_info": {
   "codemirror_mode": {
    "name": "ipython",
    "version": 3
   },
   "file_extension": ".py",
   "mimetype": "text/x-python",
   "name": "python",
   "nbconvert_exporter": "python",
   "pygments_lexer": "ipython3",
   "version": "3.9.19"
  }
 },
 "nbformat": 4,
 "nbformat_minor": 4
}