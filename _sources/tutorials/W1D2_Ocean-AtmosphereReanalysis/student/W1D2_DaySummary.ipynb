{
 "cells": [
  {
   "cell_type": "markdown",
   "id": "56915a50",
   "metadata": {
    "execution": {}
   },
   "source": [
    "# Day Summary"
   ]
  },
  {
   "cell_type": "markdown",
   "id": "e96747c7",
   "metadata": {
    "execution": {}
   },
   "source": [
    "Day 2 explored the complex interplay between the ocean and atmosphere within the climate system. You began the day with an exploration of SST variations during El Niño and La Niña events, utilizing Xarray tools and the CESM2 model data. You then worked with ECMWF's ERA5 and ECCO reanalysis data to explore the time scales of important variables as well as the large-scale circulation of the atmosphere and ocean and its interaction, for the latter both the wind-driven and density-driven aspects. Lastly, you explored the changes in ocean heat storage over recent decades as a bonus."
   ]
  }
 ],
 "metadata": {
  "colab": {
   "collapsed_sections": [],
   "include_colab_link": true,
   "name": "W1D2_DaySummary",
   "toc_visible": true
  },
  "kernel": {
   "display_name": "Python 3",
   "language": "python",
   "name": "python3"
  },
  "kernelspec": {
   "display_name": "Python 3 (ipykernel)",
   "language": "python",
   "name": "python3"
  },
  "language_info": {
   "codemirror_mode": {
    "name": "ipython",
    "version": 3
   },
   "file_extension": ".py",
   "mimetype": "text/x-python",
   "name": "python",
   "nbconvert_exporter": "python",
   "pygments_lexer": "ipython3",
   "version": "3.9.19"
  }
 },
 "nbformat": 4,
 "nbformat_minor": 5
}