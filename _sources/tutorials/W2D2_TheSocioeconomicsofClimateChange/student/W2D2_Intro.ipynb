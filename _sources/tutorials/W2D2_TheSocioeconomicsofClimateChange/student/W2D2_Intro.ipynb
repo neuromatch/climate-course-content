{
 "cells": [
  {
   "cell_type": "markdown",
   "id": "df1a0a21",
   "metadata": {
    "execution": {}
   },
   "source": [
    "# Intro"
   ]
  },
  {
   "cell_type": "markdown",
   "id": "6013efcc",
   "metadata": {
    "execution": {}
   },
   "source": [
    "## Overview"
   ]
  },
  {
   "cell_type": "markdown",
   "id": "dfaee097",
   "metadata": {
    "execution": {}
   },
   "source": [
    "Up to today, you have studied models of our climate system. Today, we will begin to model the (in many ways more complex!) system of society’s economy and how climate impacts them. "
   ]
  },
  {
   "cell_type": "markdown",
   "id": "8f148ec9-ab3b-4819-823e-d204841638e4",
   "metadata": {
    "execution": {}
   },
   "source": [
    "## TODO Day Learning Objectives"
   ]
  },
  {
   "cell_type": "markdown",
   "id": "2e6967f7-96b3-43ff-8d38-3840479a75a5",
   "metadata": {
    "execution": {}
   },
   "source": [
    "1. Describe the logic behind the socioeconomic pathway framework, and explain how the pathways differ from one another in both climate and socioeconomic variables using CMIP6 data and integrated assessment modeling results, respectively (building off of W2D1).\n",
    "2. Examine the strengths and weaknesses of integrated assessment modeling practice and compare models whose results are included in the IPCC reports and understand how these results impact the report’s conclusions.\n",
    "3. Examine the socioeconomic factors at the origin of anthropogenic warming and a *Just Transition*.\n",
    "\n"
   ]
  }
 ],
 "metadata": {
  "colab": {
   "collapsed_sections": [],
   "include_colab_link": true,
   "name": "W2D2_Intro",
   "toc_visible": true
  },
  "kernel": {
   "display_name": "Python 3",
   "language": "python",
   "name": "python3"
  },
  "kernelspec": {
   "display_name": "Python 3 (ipykernel)",
   "language": "python",
   "name": "python3"
  },
  "language_info": {
   "codemirror_mode": {
    "name": "ipython",
    "version": 3
   },
   "file_extension": ".py",
   "mimetype": "text/x-python",
   "name": "python",
   "nbconvert_exporter": "python",
   "pygments_lexer": "ipython3",
   "version": "3.9.19"
  }
 },
 "nbformat": 4,
 "nbformat_minor": 5
}