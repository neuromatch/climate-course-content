{
 "cells": [
  {
   "cell_type": "markdown",
   "id": "df1a0a21",
   "metadata": {
    "execution": {}
   },
   "source": [
    "# Intro"
   ]
  },
  {
   "cell_type": "markdown",
   "id": "6013efcc",
   "metadata": {
    "execution": {}
   },
   "source": [
    "## Overview"
   ]
  },
  {
   "cell_type": "markdown",
   "id": "dfaee097",
   "metadata": {
    "execution": {}
   },
   "source": [
    "Up to today, you have studied models of our climate system. Today, we will begin to model the (in many ways more complex!) system of society’s economy and how climate impacts them. "
   ]
  },
  {
   "cell_type": "markdown",
   "id": "8f148ec9-ab3b-4819-823e-d204841638e4",
   "metadata": {
    "execution": {}
   },
   "source": [
    "## Day Learning Objectives"
   ]
  },
  {
   "cell_type": "markdown",
   "id": "2e6967f7-96b3-43ff-8d38-3840479a75a5",
   "metadata": {
    "execution": {}
   },
   "source": [
    "1. Describe the motivation behind the Shared Socioeconomic Pathway (SSP) framework, and explain how the 5 pathways differ from one another in both climate and socioeconomic aspects using CMIP6 data and integrated assessment modeling results, respectively.\n",
    "2. Examine the strengths and weaknesses of SSP-focussed integrated assessment modeling practice and understand how these support and weaken the IPCC report’s conclusions, respectively.\n",
    "3. Examine the socioeconomic factors at the origin of anthropogenic warming and a *Just Transition*."
   ]
  }
 ],
 "metadata": {
  "colab": {
   "collapsed_sections": [],
   "include_colab_link": true,
   "name": "W2D2_Intro",
   "toc_visible": true
  },
  "kernel": {
   "display_name": "Python 3",
   "language": "python",
   "name": "python3"
  },
  "kernelspec": {
   "display_name": "Python 3 (ipykernel)",
   "language": "python",
   "name": "python3"
  },
  "language_info": {
   "codemirror_mode": {
    "name": "ipython",
    "version": 3
   },
   "file_extension": ".py",
   "mimetype": "text/x-python",
   "name": "python",
   "nbconvert_exporter": "python",
   "pygments_lexer": "ipython3",
   "version": "3.9.19"
  }
 },
 "nbformat": 4,
 "nbformat_minor": 5
}