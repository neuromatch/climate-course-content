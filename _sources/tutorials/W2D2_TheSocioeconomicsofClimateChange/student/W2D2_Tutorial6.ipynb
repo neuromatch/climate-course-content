{
 "cells": [
  {
   "cell_type": "markdown",
   "id": "a4589a1d-0f80-45e7-aec3-3513172e617b",
   "metadata": {
    "execution": {}
   },
   "source": [
    "[![Open In Colab](https://colab.research.google.com/assets/colab-badge.svg)](https://colab.research.google.com/github/neuromatch/climate-course-content/blob/main/tutorials/W2D2_TheSocioeconomicsofClimateChange/student/W2D2_Tutorial6.ipynb)   <a href=\"https://kaggle.com/kernels/welcome?src=https://raw.githubusercontent.com/neuromatch/climate-course-content/main/tutorials/W2D2_TheSocioeconomicsofClimateChange/student/W2D2_Tutorial6.ipynb\" target=\"_blank\"><img alt=\"Open in Kaggle\" src=\"https://kaggle.com/static/images/open-in-kaggle.svg\"/></a>"
   ]
  },
  {
   "cell_type": "markdown",
   "id": "3d93b742-06f3-4a0b-9a1d-043397878e48",
   "metadata": {
    "execution": {}
   },
   "source": [
    "# Bonus Tutorial 6: Create your Socio-economic Scenario\n",
    "\n",
    "**Week 2, Day 2: The Socioeconomics of Climate Change**\n",
    "\n",
    "**Content creators:** Paul Heubel, Maximilian Puelma Touzel\n",
    "\n",
    "**Content reviewers:** Mujeeb Abdulfatai, Nkongho Ayuketang Arreyndip, Jeffrey N. A. Aryee, Jenna Pearson, Abel Shibu, Ohad Zivan\n",
    "\n",
    "**Content editors:** Paul Heubel, Jenna Pearson, Chi Zhang, Ohad Zivan\n",
    "\n",
    "**Production editors:** Wesley Banfield, Jenna Pearson, Konstantine Tsafatinos, Chi Zhang, Ohad Zivan\n",
    "\n",
    "**Our 2024 Sponsors:** CMIP, NFDI4Earth"
   ]
  },
  {
   "cell_type": "markdown",
   "id": "7b5c4ba1-fad0-4d38-b3b2-875a67549624",
   "metadata": {
    "execution": {}
   },
   "source": [
    "# Tutorial Objectives\n",
    "\n",
    "*Estimated timing of tutorial:* 30 min\n",
    "\n",
    "In this tutorial, you will model your own simplified Socioeconomic Pathway, a scenario of actions to limit global warming below 2°C.  You take action against climate change within the socioeconomic model environment of the Climate Solution Simulator named [En-ROADS](https://www.climateinteractive.org/en-roads/). To examine its characteristics you address its challenges, winners/losers, political feasibility, narrative, and current trends. \n",
    "\n",
    "You learn how to\n",
    "\n",
    "- apply the knowledge you gained in last tutorials to design actions against climate change\n",
    "- map your scenario narrative in the SSP \n"
   ]
  },
  {
   "cell_type": "markdown",
   "metadata": {},
   "source": [
    "##  Install and import feedback gadget\n"
   ]
  },
  {
   "cell_type": "code",
   "execution_count": null,
   "id": "7550a995-8abf-45a7-83fe-4eb7565d43f4",
   "metadata": {
    "cellView": "form",
    "execution": {},
    "tags": [
     "hide-input"
    ]
   },
   "outputs": [],
   "source": [
    "# @title Install and import feedback gadget\n",
    "\n",
    "!pip3 install vibecheck datatops --quiet\n",
    "\n",
    "from vibecheck import DatatopsContentReviewContainer\n",
    "def content_review(notebook_section: str):\n",
    "    return DatatopsContentReviewContainer(\n",
    "        \"\",  # No text prompt\n",
    "        notebook_section,\n",
    "        {\n",
    "            \"url\": \"https://pmyvdlilci.execute-api.us-east-1.amazonaws.com/klab\",\n",
    "            \"name\": \"comptools_4clim\",\n",
    "            \"user_key\": \"l5jpxuee\",\n",
    "        },\n",
    "    ).render()\n",
    "\n",
    "\n",
    "feedback_prefix = \"W2D2_T6\""
   ]
  },
  {
   "cell_type": "markdown",
   "metadata": {},
   "source": [
    "##  Video 1:\n"
   ]
  },
  {
   "cell_type": "code",
   "execution_count": null,
   "id": "b591486d-dff5-4dc6-b83b-1125977a7758",
   "metadata": {
    "cellView": "form",
    "execution": {},
    "tags": [
     "remove-input"
    ]
   },
   "outputs": [],
   "source": [
    "# @title Video 1:\n",
    "\n",
    "from ipywidgets import widgets\n",
    "from IPython.display import YouTubeVideo\n",
    "from IPython.display import IFrame\n",
    "from IPython.display import display\n",
    "\n",
    "\n",
    "class PlayVideo(IFrame):\n",
    "  def __init__(self, id, source, page=1, width=400, height=300, **kwargs):\n",
    "    self.id = id\n",
    "    if source == 'Bilibili':\n",
    "      src = f'https://player.bilibili.com/player.html?bvid={id}&page={page}'\n",
    "    elif source == 'Osf':\n",
    "      src = f'https://mfr.ca-1.osf.io/render?url=https://osf.io/download/{id}/?direct%26mode=render'\n",
    "    super(PlayVideo, self).__init__(src, width, height, **kwargs)\n",
    "\n",
    "\n",
    "def display_videos(video_ids, W=400, H=300, fs=1):\n",
    "  tab_contents = []\n",
    "  for i, video_id in enumerate(video_ids):\n",
    "    out = widgets.Output()\n",
    "    with out:\n",
    "      if video_ids[i][0] == 'Youtube':\n",
    "        video = YouTubeVideo(id=video_ids[i][1], width=W,\n",
    "                             height=H, fs=fs, rel=0)\n",
    "        print(f'Video available at https://youtube.com/watch?v={video.id}')\n",
    "      else:\n",
    "        video = PlayVideo(id=video_ids[i][1], source=video_ids[i][0], width=W,\n",
    "                          height=H, fs=fs, autoplay=False)\n",
    "        if video_ids[i][0] == 'Bilibili':\n",
    "          print(f'Video available at https://www.bilibili.com/video/{video.id}')\n",
    "        elif video_ids[i][0] == 'Osf':\n",
    "          print(f'Video available at https://osf.io/{video.id}')\n",
    "      display(video)\n",
    "    tab_contents.append(out)\n",
    "  return tab_contents\n",
    "\n",
    "\n",
    "video_ids = [('Youtube', '_Y_eLlExwxI')\n",
    "            ]\n",
    "tab_contents = display_videos(video_ids, W=730, H=410)\n",
    "tabs = widgets.Tab()\n",
    "tabs.children = tab_contents\n",
    "for i in range(len(tab_contents)):\n",
    "  tabs.set_title(i, video_ids[i][0])\n",
    "display(tabs)"
   ]
  },
  {
   "cell_type": "markdown",
   "id": "8e98eb20-8e63-4a64-a9b3-47c2f0ee7383",
   "metadata": {
    "execution": {}
   },
   "source": [
    "# Section 1: CO$_2$ Removal\n",
    "\n",
    "While substantial emissions mitigations are necessary to reduce future climate suffering, they can not make up for the hundreds of billions of tons of CO$_2$ that humans have already emitted. However, both natural and technological methods for removing CO$_2$ from the atmosphere exist. Although they are presently miniscule compared to the tens-of-gigatons scale of global emissions, some experts expect that CO$_2$ removal methods will play a key role in the future once major mitigation goals have been accomplished. \n",
    "\n",
    "Video 1 briefly explains how Carbon Removal is addressed in EN-ROADS. Keep its representation in mind for the following exercises."
   ]
  },
  {
   "cell_type": "markdown",
   "id": "a516e969-8b67-4f8a-9d39-061770ffb4c9",
   "metadata": {
    "execution": {}
   },
   "source": [
    "## Exercise 1: Create your Solution Scenario and Evaluate it\n",
    "*Estimated timing:* 20 minutes\n",
    "\n",
    "1. **Open En-ROADS** [here](https://en-roads.climateinteractive.org/). *(Note the control panel is available in various languages - check the left of the panel of the simulator that should by default show \"English\".)*\n",
    "\n",
    "2. **Develop a scenario**: By moving the sliders and changing the assumptions, find a scenario (i.e. a combination of slider positions of different variables) that results in *less than 2°C* of temperature increase by the end of the century. Use the following [cheatsheet](https://img.climateinteractive.org/2019/09/EnROADS-one-page-guide-to-control-panel-v11-dec-2021.pdf) if needed. \n",
    "\n",
    "*Note that your changes are reflected in the light blue graph, while the baseline scenario remains a black line.*\n",
    "\n",
    "3. **Answer the following questions**:\n",
    "\n",
    "    1. **Your Plan**: What are the top 3-5 most important policies in your strategy? (For example, the most important sliders that you moved). Share your scenario link and a screenshot of your final En-ROADS dashboard.\n",
    "      \n",
    "      *If you want to save your scenario, export it via a click on the* ***Share your scenario*** *button in the top right of the panel, and select 'Copy Scenario Link'*.\n",
    "   \n",
    "    2. **Political Feasibility**: To implement your proposals, what actions and priorities are needed over the next two years in businesses, civil society, government, and the public?\n",
    "    3. **Winners & Losers**: Who would be the biggest winners and losers globally in your proposed future? Create a table with two columns for winners and losers. \n",
    "    4. **Narrative**: Map your ideas in the narrative space that was introduced in Tutorial 5. \n",
    "    5. **Hope**: What trends in the world give you hope that your proposals are possible?\n",
    "\n"
   ]
  },
  {
   "cell_type": "markdown",
   "metadata": {},
   "source": [
    "###  Submit your feedback\n"
   ]
  },
  {
   "cell_type": "code",
   "execution_count": null,
   "id": "d485bbc9-f179-4516-bc51-eb34211e8255",
   "metadata": {
    "cellView": "form",
    "execution": {},
    "tags": [
     "hide-input"
    ]
   },
   "outputs": [],
   "source": [
    "# @title Submit your feedback\n",
    "content_review(f\"{feedback_prefix}_Exercise_1\")"
   ]
  },
  {
   "cell_type": "markdown",
   "id": "fadd5652-5db9-475e-a072-f204358ade8a",
   "metadata": {
    "execution": {}
   },
   "source": [
    "# Summary\n",
    "\n",
    "In this last tutorial, you went from model to action by designing your own socioeconomic modeling scenario to limit global warming below 2°C by the end of the century. You reflected on its challenges, political feasibility, inherent winners and losers of your approach, and finally, the narrative that you chose. At the end of the day, you collected observations of actions and trends you are making in your region, globally, and in your daily life that give hope. That hope and various solutions exist, which one has to combine, and that only action is needed, might be the most important lesson of today.\n"
   ]
  },
  {
   "cell_type": "markdown",
   "id": "a6aaa44b-0fc2-4249-91c4-589aac662188",
   "metadata": {
    "execution": {}
   },
   "source": [
    "# Resources\n",
    "\n",
    "This tutorial is inspired by teaching material from [Climate Interactive](https://climateinteractive.org/) and other documents. \n",
    "A few important resources are linked below:\n",
    "\n",
    "- [En-ROADS documentation](https://docs.climateinteractive.org/projects/en-roads/en/latest/index.html)\n",
    "- [En-ROADS User Guide PDF](https://docs.climateinteractive.org/projects/en-roads/en/latest/en-roads-user-guide.pdf)\n",
    "- [Guided Assignment - Simulating Climate Futures in En-ROADS: Short Version](https://www.climateinteractive.org/guided-assignment/)\n",
    "\n",
    "**Planetary Crisis Planning Computer Games**\n",
    "Play the games listed below to explore alternative societal futures\n",
    "- [The Climate Game](https://ig.ft.com/climate-game/)\n",
    "- [Half Earth Socialism](https://play.half.earth/).\n"
   ]
  }
 ],
 "metadata": {
  "colab": {
   "collapsed_sections": [],
   "include_colab_link": true,
   "name": "W2D2_Tutorial6",
   "toc_visible": true
  },
  "kernel": {
   "display_name": "Python 3",
   "language": "python",
   "name": "python3"
  },
  "kernelspec": {
   "display_name": "Python 3 (ipykernel)",
   "language": "python",
   "name": "python3"
  },
  "language_info": {
   "codemirror_mode": {
    "name": "ipython",
    "version": 3
   },
   "file_extension": ".py",
   "mimetype": "text/x-python",
   "name": "python",
   "nbconvert_exporter": "python",
   "pygments_lexer": "ipython3",
   "version": "3.9.19"
  }
 },
 "nbformat": 4,
 "nbformat_minor": 5
}