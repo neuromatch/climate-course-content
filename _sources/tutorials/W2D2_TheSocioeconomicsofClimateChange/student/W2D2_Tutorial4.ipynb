{
 "cells": [
  {
   "cell_type": "markdown",
   "metadata": {
    "execution": {}
   },
   "source": [
    "[![Open In Colab](https://colab.research.google.com/assets/colab-badge.svg)](https://colab.research.google.com/github/neuromatch/climate-course-content/blob/main/tutorials/W2D2_TheSocioeconomicsofClimateChange/student/W2D2_Tutorial4.ipynb)   <a href=\"https://kaggle.com/kernels/welcome?src=https://raw.githubusercontent.com/neuromatch/climate-course-content/main/tutorials/W2D2_TheSocioeconomicsofClimateChange/student/W2D2_Tutorial4.ipynb\" target=\"_blank\"><img alt=\"Open in Kaggle\" src=\"https://kaggle.com/static/images/open-in-kaggle.svg\"/></a>"
   ]
  },
  {
   "cell_type": "markdown",
   "metadata": {
    "execution": {}
   },
   "source": [
    "# Tutorial 4: The Shared Socio-economic Pathways\n",
    "\n",
    "**Week 2, Day 2: The Socioeconomics of Climate Change**\n",
    "\n",
    "**Content creators:** Paul Heubel, Maximilian Puelma Touzel\n",
    "\n",
    "**Content reviewers:** Mujeeb Abdulfatai, Nkongho Ayuketang Arreyndip, Jeffrey N. A. Aryee, Jenna Pearson, Abel Shibu, Ohad Zivan\n",
    "\n",
    "**Content editors:** Paul Heubel, Jenna Pearson, Chi Zhang, Ohad Zivan\n",
    "\n",
    "**Production editors:** Wesley Banfield, Paul Heubel, Jenna Pearson, Konstantine Tsafatinos, Chi Zhang, Ohad Zivan\n",
    "\n",
    "**Our 2024 Sponsors:** CMIP, NFDI4Earth"
   ]
  },
  {
   "cell_type": "markdown",
   "metadata": {
    "execution": {}
   },
   "source": [
    "# Tutorial Objectives\n",
    "\n",
    "*Estimated timing of tutorial:* 35 minutes\n",
    "\n",
    "In this tutorial, you will learn about Integrated Assessment Models (IAMs), a class of models that combine climatology, economics, and social science, reflecting the intertwined nature of these domains in addressing climate change. Based on these models the IPCC established the socioeconomic pathway framework. You are going to learn how these pathways differ from one another in both climate and socioeconomic variables as well as assumptions.\n",
    "\n",
    "After finishing this tutorial, you will know how to \n",
    "\n",
    "- filter data series of interest from a rich `pandas` data frame that contains various variables for different SSPs,\n",
    "- tell what the abbreviation SPA stands for,\n",
    "- explain the differences and similarities of the SSP1-26 and SSP5-85, and \n",
    "- sketch the modeling approach of IAMs."
   ]
  },
  {
   "cell_type": "markdown",
   "metadata": {
    "execution": {}
   },
   "source": [
    "# Setup"
   ]
  },
  {
   "cell_type": "code",
   "execution_count": null,
   "metadata": {
    "execution": {},
    "executionInfo": {
     "elapsed": 1460,
     "status": "ok",
     "timestamp": 1682429063027,
     "user": {
      "displayName": "Maximilian Puelma Touzel",
      "userId": "09308600515315501700"
     },
     "user_tz": 240
    },
    "tags": []
   },
   "outputs": [],
   "source": [
    "# imports\n",
    "import warnings\n",
    "warnings.simplefilter(action='ignore', category=FutureWarning)\n",
    "import seaborn as sns\n",
    "import matplotlib.pyplot as plt\n",
    "import pandas as pd\n",
    "import numpy as np\n",
    "import pooch\n",
    "import os\n",
    "import tempfile"
   ]
  },
  {
   "cell_type": "markdown",
   "metadata": {},
   "source": [
    "##  Install and import feedback gadget\n"
   ]
  },
  {
   "cell_type": "code",
   "execution_count": null,
   "metadata": {
    "cellView": "form",
    "execution": {},
    "tags": [
     "hide-input"
    ]
   },
   "outputs": [],
   "source": [
    "# @title Install and import feedback gadget\n",
    "\n",
    "!pip3 install vibecheck datatops --quiet\n",
    "\n",
    "from vibecheck import DatatopsContentReviewContainer\n",
    "def content_review(notebook_section: str):\n",
    "    return DatatopsContentReviewContainer(\n",
    "        \"\",  # No text prompt\n",
    "        notebook_section,\n",
    "        {\n",
    "            \"url\": \"https://pmyvdlilci.execute-api.us-east-1.amazonaws.com/klab\",\n",
    "            \"name\": \"comptools_4clim\",\n",
    "            \"user_key\": \"l5jpxuee\",\n",
    "        },\n",
    "    ).render()\n",
    "\n",
    "\n",
    "feedback_prefix = \"W2D2_T4\""
   ]
  },
  {
   "cell_type": "markdown",
   "metadata": {},
   "source": [
    "##  Figure settings\n"
   ]
  },
  {
   "cell_type": "code",
   "execution_count": null,
   "metadata": {
    "cellView": "form",
    "execution": {},
    "tags": [
     "hide-input"
    ]
   },
   "outputs": [],
   "source": [
    "# @title Figure settings\n",
    "import ipywidgets as widgets  # interactive display\n",
    "\n",
    "plt.style.use(\n",
    "    \"https://raw.githubusercontent.com/neuromatch/climate-course-content/main/cma.mplstyle\"\n",
    ")"
   ]
  },
  {
   "cell_type": "markdown",
   "metadata": {},
   "source": [
    "##  Helper functions\n"
   ]
  },
  {
   "cell_type": "code",
   "execution_count": null,
   "metadata": {
    "cellView": "form",
    "code_folding": [
     0
    ],
    "execution": {},
    "tags": [
     "hide-input"
    ]
   },
   "outputs": [],
   "source": [
    "# @title Helper functions\n",
    "\n",
    "def pooch_load(filelocation=None, filename=None, processor=None):\n",
    "    shared_location = \"/home/jovyan/shared/Data/tutorials/W2D2_TheSocioeconomicsofClimateChange\"  # this is different for each day\n",
    "    user_temp_cache = tempfile.gettempdir()\n",
    "\n",
    "    if os.path.exists(os.path.join(shared_location, filename)):\n",
    "        file = os.path.join(shared_location, filename)\n",
    "    else:\n",
    "        file = pooch.retrieve(\n",
    "            filelocation,\n",
    "            known_hash=None,\n",
    "            fname=os.path.join(user_temp_cache, filename),\n",
    "            processor=processor,\n",
    "        )\n",
    "\n",
    "    return file\n",
    "\n",
    "\n",
    "def legend_without_duplicate_labels(ax):\n",
    "    handles, labels = ax.get_legend_handles_labels()\n",
    "    unique = [(h, l) for i, (h, l) in enumerate(zip(handles, labels)) if l not in labels[:i]]\n",
    "    ax.legend(*zip(*unique))"
   ]
  },
  {
   "cell_type": "markdown",
   "metadata": {},
   "source": [
    "##  Video 1: Shared Socioeconomic Pathways\n"
   ]
  },
  {
   "cell_type": "code",
   "execution_count": null,
   "metadata": {
    "cellView": "form",
    "execution": {},
    "tags": [
     "remove-input"
    ]
   },
   "outputs": [],
   "source": [
    "# @title Video 1: Shared Socioeconomic Pathways\n",
    "\n",
    "from ipywidgets import widgets\n",
    "from IPython.display import YouTubeVideo\n",
    "from IPython.display import IFrame\n",
    "from IPython.display import display\n",
    "\n",
    "\n",
    "class PlayVideo(IFrame):\n",
    "  def __init__(self, id, source, page=1, width=400, height=300, **kwargs):\n",
    "    self.id = id\n",
    "    if source == 'Bilibili':\n",
    "      src = f'https://player.bilibili.com/player.html?bvid={id}&page={page}'\n",
    "    elif source == 'Osf':\n",
    "      src = f'https://mfr.ca-1.osf.io/render?url=https://osf.io/download/{id}/?direct%26mode=render'\n",
    "    super(PlayVideo, self).__init__(src, width, height, **kwargs)\n",
    "\n",
    "\n",
    "def display_videos(video_ids, W=400, H=300, fs=1):\n",
    "  tab_contents = []\n",
    "  for i, video_id in enumerate(video_ids):\n",
    "    out = widgets.Output()\n",
    "    with out:\n",
    "      if video_ids[i][0] == 'Youtube':\n",
    "        video = YouTubeVideo(id=video_ids[i][1], width=W,\n",
    "                             height=H, fs=fs, rel=0)\n",
    "        print(f'Video available at https://youtube.com/watch?v={video.id}')\n",
    "      else:\n",
    "        video = PlayVideo(id=video_ids[i][1], source=video_ids[i][0], width=W,\n",
    "                          height=H, fs=fs, autoplay=False)\n",
    "        if video_ids[i][0] == 'Bilibili':\n",
    "          print(f'Video available at https://www.bilibili.com/video/{video.id}')\n",
    "        elif video_ids[i][0] == 'Osf':\n",
    "          print(f'Video available at https://osf.io/{video.id}')\n",
    "      display(video)\n",
    "    tab_contents.append(out)\n",
    "  return tab_contents\n",
    "\n",
    "video_ids = [('Youtube', 'Hs4bMcivgkE'),\n",
    "             ('Bilibili', 'BV1dPGDexEn2')\n",
    "            ]\n",
    "tab_contents = display_videos(video_ids, W=730, H=410)\n",
    "tabs = widgets.Tab()\n",
    "tabs.children = tab_contents\n",
    "for i in range(len(tab_contents)):\n",
    "  tabs.set_title(i, video_ids[i][0])\n",
    "display(tabs)"
   ]
  },
  {
   "cell_type": "markdown",
   "metadata": {},
   "source": [
    "##  Submit your feedback\n"
   ]
  },
  {
   "cell_type": "code",
   "execution_count": null,
   "metadata": {
    "cellView": "form",
    "execution": {},
    "tags": [
     "hide-input"
    ]
   },
   "outputs": [],
   "source": [
    "# @title Submit your feedback\n",
    "content_review(f\"{feedback_prefix}_Shared_Socioeconomic_Pathways_Video\")"
   ]
  },
  {
   "cell_type": "markdown",
   "metadata": {},
   "source": [
    "\n"
   ]
  },
  {
   "cell_type": "code",
   "execution_count": null,
   "metadata": {
    "cellView": "form",
    "execution": {},
    "pycharm": {
     "name": "#%%\n"
    },
    "tags": [
     "remove-input"
    ]
   },
   "outputs": [],
   "source": [
    "# @markdown\n",
    "from ipywidgets import widgets\n",
    "from IPython.display import IFrame\n",
    "\n",
    "link_id = \"ujprw\"\n",
    "\n",
    "print(f\"If you want to download the slides: https://osf.io/download/{link_id}/\")\n",
    "IFrame(src=f\"https://mfr.ca-1.osf.io/render?url=https://osf.io/{link_id}/?direct%26mode=render%26action=download%26mode=render\", width=854, height=480)"
   ]
  },
  {
   "cell_type": "markdown",
   "metadata": {},
   "source": [
    "##  Submit your feedback\n"
   ]
  },
  {
   "cell_type": "code",
   "execution_count": null,
   "metadata": {
    "cellView": "form",
    "execution": {},
    "tags": [
     "hide-input"
    ]
   },
   "outputs": [],
   "source": [
    "# @title Submit your feedback\n",
    "content_review(f\"{feedback_prefix}_Shared_Socioeconomic_Pathways_Slides\")"
   ]
  },
  {
   "cell_type": "markdown",
   "metadata": {
    "execution": {}
   },
   "source": [
    "# Section 1: Shared Socio-economic Pathways"
   ]
  },
  {
   "cell_type": "markdown",
   "metadata": {
    "execution": {},
    "jp-MarkdownHeadingCollapsed": true
   },
   "source": [
    "In this, and the subsequent, tutorial, you will explore Integrated Assessment Models (IAMs) which are the standard class of models used to make climate change projections. IAMs couple a climate model with an economic model, allowing us to evaluate the two-way coupling between economic productivity and climate change severity. IAMs can also account for changes that result from mitigation efforts, which lessen anthropogenic emissions.\n",
    "\n",
    "Let's start by investigating some IAM model output.\n",
    "\n",
    "The simulations are labeled by both the Shared Socioeconomic Pathway (SSP1, SSP2, SSP3, SSP4, and SSP5) and the forcing level (greenhouse gas forcing of 2.6, 7.0, 8.5 W/m<sup>2</sup> etc. by 2100).\n",
    "The 5 SSPS are: \n",
    "- SSP1: Sustainability (Taking the Green Road)\n",
    "- SSP2: Middle of the Road\n",
    "- SSP3: Regional Rivalry (A Rocky Road)\n",
    "- SSP4: Inequality (A Road divided)\n",
    "- SSP5: Fossil-fueled Development (Taking the Highway)\n",
    "\n",
    "We select two SSPs to exemplify how these scenarios differ from each other. \n",
    "To get a strong contrast, we select SSP1 and SSP5. \n",
    "\n",
    "Let's load the data and describe their features along a few plots.\n",
    "\n",
    "Like in other tutorials, we provide a `.csv` file that is stored in the cloud and was downloaded beforehand from [this IIASA database](https://tntcat.iiasa.ac.at/SspDb/dsd), where all data from the main simulations of the IAMs used in the [IPCC reports](https://www.ipcc.ch/reports/) is freely available."
   ]
  },
  {
   "cell_type": "code",
   "execution_count": null,
   "metadata": {
    "execution": {}
   },
   "outputs": [],
   "source": [
    "# Load SSP data from .csv file\n",
    "filename_SSPs = 'SSP_IAM_V2_201811.csv'\n",
    "link_id = \"2uwr4\"\n",
    "url_SSPs = f\"https://osf.io/download/{link_id}/\"\n",
    "\n",
    "df = pd.read_csv(pooch_load(url_SSPs, filename_SSPs))\n",
    "# get a summary of the resulting pandas dataframe\n",
    "df.info()"
   ]
  },
  {
   "cell_type": "markdown",
   "metadata": {
    "execution": {}
   },
   "source": [
    "We further explore our data frame by printing categories that are used to tag the numeric data."
   ]
  },
  {
   "cell_type": "code",
   "execution_count": null,
   "metadata": {
    "execution": {}
   },
   "outputs": [],
   "source": [
    "print(df.SCENARIO.unique())      # print all scenarios\n",
    "print(df.VARIABLE.unique()[:10]) # print the first 10 variables\n",
    "print(df.REGION.unique())        # print all regions\n",
    "print(df.MODEL.unique())         # print all IAMs\n",
    "print(df.UNIT.unique())          # print all units"
   ]
  },
  {
   "cell_type": "markdown",
   "metadata": {
    "execution": {}
   },
   "source": [
    "This file contains much data we are not interested in at the moment. To filter our example scenarios, region, and variables, we use the convenient [`.query()`](https://pandas.pydata.org/docs/reference/api/pandas.DataFrame.query.html) method from `pandas`. The `VARIABLE`s of interest are those we already touched on in Tutorials 1 to 3: \n",
    "\n",
    "- **economic growth** (`'GDP|PPP'`),\n",
    "- **energy use** (`'Primary Energy'`),\n",
    "- **emissions** (`'Emissions|Kyoto Gases'`),\n",
    "- and **forcing** (`'Diagnostics|MAGICC6|Forcing'`).\n",
    "\n",
    "- As a `REGION`, we choose the `'World'`,\n",
    "- and our `SCENARIO`s are called `'SSP1-Baseline'` and `'SSP5-Baseline'`.\n",
    "- The model of choice for the former scenario is by convention `'IMAGE'` and `'REMIND-MAGPIE'` for the latter, respectively.\n",
    "\n",
    "A function named `get_SSPs_for_variable()` applies all this generally and is hidden in the next cell. Please execute it, such that the subsequent cells can make use of it. If you are interested in its procedure and want to adjust it, don't forget to save a copy beforehand."
   ]
  },
  {
   "cell_type": "markdown",
   "metadata": {},
   "source": [
    " *Execute this cell to enable the dataframe filter function: `get_SSPs_for_variable`*\n"
   ]
  },
  {
   "cell_type": "code",
   "execution_count": null,
   "metadata": {
    "cellView": "form",
    "execution": {},
    "tags": [
     "hide-input"
    ]
   },
   "outputs": [],
   "source": [
    "# @markdown *Execute this cell to enable the dataframe filter function: `get_SSPs_for_variable`*\n",
    "\n",
    "def get_SSPs_for_variable(df,scenario,variable,region='World'):\n",
    "    '''\n",
    "\n",
    "    Function that filters IIASA's SSP database that is stored in a data frame 'df'\n",
    "    and was loaded before from the 'SSP_IAM_V2_201811.csv' file.\n",
    "    It returns a data frame with selected columns depending on scenario, variable and region input.\n",
    "    For a given SSP scenario it chooses the conventional model for the respective scenario\n",
    "    (cf. https://tntcat.iiasa.ac.at/SspDb/dsd?Action=htmlpage&page=about#v2).\n",
    "\n",
    "    Args:\n",
    "        scenario: string in \"SSPX-XX\" with X=1,...,5\n",
    "        variable: string in df.VARIABLE, e.g. 'Population' or 'GDP|PPP'\n",
    "\n",
    "    Returns:\n",
    "        SSP data for selected columns for a given SSP scenario\n",
    "\n",
    "    Example:\n",
    "        dd = get_SSPs_for_variable(df,'SSP1-26','Population')\n",
    "\n",
    "    '''\n",
    "    ssp_model_conv = {\"SSP1-Baseline\" : \"IMAGE\",\n",
    "                      \"SSP1-26\" : \"IMAGE\",\n",
    "                      \"SSP2-Baseline\" : \"MESSAGE-GLOBIOM\",\n",
    "                      \"SSP3-Baseline\" : \"AIM/CGE\",\n",
    "                      \"SSP4-Baseline\" : \"GCAM4\",\n",
    "                      \"SSP5-Baseline\" : \"REMIND-MAGPIE\"}\n",
    "    model = ssp_model_conv[scenario]\n",
    "    ds = df.query(\n",
    "    f'(VARIABLE == \"{variable}\") & (SCENARIO == \"{scenario}\")  & (MODEL == \"{model}\") & (REGION == \"{region}\")'\n",
    ")\n",
    "    return ds"
   ]
  },
  {
   "cell_type": "markdown",
   "metadata": {
    "execution": {}
   },
   "source": [
    "Let's plot our variables of interest and compare the respective features of the scenarios."
   ]
  },
  {
   "cell_type": "code",
   "execution_count": null,
   "metadata": {
    "execution": {}
   },
   "outputs": [],
   "source": [
    "# put variables of interest in a list\n",
    "vars = ['GDP|PPP','Emissions|Kyoto Gases', 'Primary Energy','Diagnostics|MAGICC6|Forcing']\n",
    "# create new names for structured data series and axes labels\n",
    "val_name = ['GDP (billion US$/yr)', 'Emissions (Mt CO$_2$/yr)',  'Energy use (EJ/yr)', 'Forcing (W/m$^2$)']\n",
    "# choose scenarios of interest and a color for plotting\n",
    "scenarios = ['SSP1-Baseline', 'SSP5-Baseline']\n",
    "colors = ['darkblue','darkorange']\n",
    "\n",
    "# init figure and axis\n",
    "fig, axs = plt.subplots(2,2)\n",
    "# loop over all variables and new names\n",
    "for var, val, ax in zip(vars,val_name, axs.flatten()):\n",
    "\n",
    "    # loop over scenarios and their color\n",
    "    for sc, col in zip(scenarios, colors):\n",
    "        # retrieve SSP for the respective variable from rich data frame\n",
    "        ds_unstrct = get_SSPs_for_variable(df,sc,var)\n",
    "        # restructure dataframe for plotting\n",
    "        ds_strct = pd.melt(ds_unstrct, id_vars=[\"MODEL\"], value_vars=['2010','2020','2030','2040','2050','2060','2070','2080','2090','2100'], var_name=\"YEAR\", value_name =val)\n",
    "        #print(ds_strct)\n",
    "        # plot variable vs. time, add label incl. scenario and model\n",
    "        ax.plot(ds_strct['YEAR'],ds_strct[val],label=f'{sc},\\n{ds_strct.MODEL[0]}', color=col)\n",
    "        # altern. plotting procedure w/o the color distinction\n",
    "        #sns.lineplot(ds_strct, x='YEAR', y=val, hue='MODEL', ax=ax, palette='flare')\n",
    "\n",
    "    # aesthetics\n",
    "    ax.set_ylabel(fr'{val}')\n",
    "    ax.set_xlabel('Time (years)')\n",
    "    plt.setp(ax.get_xticklabels(), rotation=45)\n",
    "    plt.setp(ax.get_xticklabels()[::2], visible=False)\n",
    "    ax.grid(True)\n",
    "    axs[0,0].legend()"
   ]
  },
  {
   "cell_type": "markdown",
   "metadata": {
    "execution": {}
   },
   "source": [
    "The projections in the plots you just created show changes in **GDP** (billion US\\$/yr), **fossil fuel emissions** (Mt CO$_2$/yr), **energy use** (EJ/yr), and **forcing** (W/m$^2$) across the two very different scenarios SSP1 and SSP5, computed at their baseline forcing level, which are each represented by a distinct color in each plot.\n",
    "\n",
    "Our plots show that the SSP5-Baseline scenario exhibits very high levels of energy use, and emissions (due to fossil fuel exploitation), it marks the upper end of the scenarios in several dimensions (cf. [Kriegler et al. (2014)](https://doi.org/10.1016/j.gloenvcha.2016.05.015)). \n",
    "\n",
    "The SSP1-Baseline scenario contrarily caps the increase of energy use by 2030, combined with other actions leading to decreasing emissions and subsequently a decreasing forcing for the second half of the century. However, economic growth continues with half the slope of SSP5-Baseline. In summary, it is the most optimistic projection: we transition to a global society of sustainability-focused growth."
   ]
  },
  {
   "cell_type": "markdown",
   "metadata": {
    "execution": {}
   },
   "source": [
    "## Section 1.1: SSP Creation via IAMs"
   ]
  },
  {
   "cell_type": "markdown",
   "metadata": {
    "execution": {}
   },
   "source": [
    "The underlying modeling of Integrated Assessment Models (IAMs) works roughly as follows:\n",
    " \n",
    "All SSP projections are created by optimizing economic activity within the constraint of a given level of greenhouse gas forcing at 2100 (bottom right in the above plot). This activity drives distinct temperature changes via the emissions it produces (top right), which are inputted into a damage function to compute economic damages. These damages feedback into the economy model to limit emissions-producing economic activity (top left).\n",
    "*Note that we already explored these damage functions along our En-ROADS climate solution simulator in Tutorial 2*.\n",
    "\n",
    "The forcing constraint ensures the amount of emissions produced is consistent for that particular scenario. In other words, the projected temperature change under different scenarios is fed to a socioeconomic model component in order to assess the socioeconomic impacts resulting from the temperature change associated with each SSP. *For examples of such impacts check out today's Tutorial 2 and W2D4.*\n",
    "\n",
    "Not every variable in IAMs is endogenous (i.e. determined by other variables in the model). Some variables, like population or technology growth, are exogenous (i.e. variables whose time course is given to the model). In this case, the time course of, e.g., population and economic growth, are derived from simple growth models. These exogenous variables are assumed to be under our society's control (e.g. via mitigation).\n",
    "\n",
    "To understand how our plotted scenarios compare with all other scenarios, we first have a look at the underlying policy assumptions."
   ]
  },
  {
   "cell_type": "markdown",
   "metadata": {
    "execution": {}
   },
   "source": [
    "## Section 1.2 Shared Climate Policy Assumptions (SPAs)"
   ]
  },
  {
   "cell_type": "markdown",
   "metadata": {
    "execution": {}
   },
   "source": [
    "All pathways have common Shared Climate Policy Assumptions (SPAs) like \n",
    "- limits to how fast we can respond based on where we are now,\n",
    "- what kinds of policies can be implemented, and how\n",
    "\n",
    "which constrain the modelers that create scenarios and their narratives.\n",
    "\n",
    "Our example scenarios hence share the above SPAs and vary in their narrative:\n",
    "\n",
    "In the hypothetical world of SSP5, no climate policies or climate impacts exist, which in other words effectively implies that the carbon price is zero (cf. [Ch.3.2.1.1 of IPCC's report on 'Climate Change 2022: Mitigation of Climate Change')](https://www.ipcc.ch/report/ar6/wg3/downloads/report/IPCC_AR6_WGIII_Chapter03.pdf).\n"
   ]
  },
  {
   "cell_type": "markdown",
   "metadata": {
    "execution": {}
   },
   "source": [
    "## Section 1.3: Similarities of SSP1 and SSP5\n",
    "\n",
    "When you compare the two scenarios, in particular, the evolution of the population and the GDP shows how similar these scenarios are in their optimistic view on the development of humanity. We all learn to get along, both within and across countries and more equal development naturally stems from population growth through well-known mechanisms like access to conception. The following figure emphasizes this."
   ]
  },
  {
   "cell_type": "code",
   "execution_count": null,
   "metadata": {
    "execution": {}
   },
   "outputs": [],
   "source": [
    "# put variables of interest in a list\n",
    "vars = ['Population', 'GDP|PPP']\n",
    "# create new names for structured data series and plot labels\n",
    "val_name = ['Population\\n(millions)', 'GDP (billion US$/yr)']\n",
    "# choose scenarios of interest and a color for plotting\n",
    "scenarios = ['SSP1-Baseline', 'SSP5-Baseline']\n",
    "colors = ['darkblue','darkorange']\n",
    "\n",
    "# init figure and axis\n",
    "fig, axs = plt.subplots(2,1)\n",
    "# loop over all variables and new names\n",
    "for var, val, ax in zip(vars,val_name, axs.flatten()):\n",
    "\n",
    "    # loop over scenarios and their color\n",
    "    for sc, col in zip(scenarios, colors):\n",
    "        # retrieve SSP for the respective variable from rich dataframe\n",
    "        ds_unstrct = get_SSPs_for_variable(df,sc,var)\n",
    "        # restructure dataframe for plotting\n",
    "        ds_strct = pd.melt(ds_unstrct, id_vars=[\"MODEL\"], value_vars=['2010','2020','2030','2040','2050','2060','2070','2080','2090','2100'], var_name=\"YEAR\", value_name =val)\n",
    "        #print(ds_strct)\n",
    "        # plot variable vs. time, add label incl. scenario and model\n",
    "        ax.plot(ds_strct['YEAR'],ds_strct[val],label=f'{sc},\\n{ds_strct.MODEL[0]}', color=col)\n",
    "        # altern. plotting procedure w/o the color distinction\n",
    "        #sns.lineplot(ds_strct, x='YEAR', y=val, hue='MODEL', ax=ax, palette='flare')\n",
    "\n",
    "    # aesthetics\n",
    "    ax.set_ylabel(fr'{val}')\n",
    "    ax.set_xlabel('Time (years)')\n",
    "    plt.setp(ax.get_xticklabels(), rotation=45)\n",
    "    plt.setp(ax.get_xticklabels()[::2], visible=False)\n",
    "    ax.grid(True)\n",
    "    axs[0].legend()"
   ]
  },
  {
   "cell_type": "markdown",
   "metadata": {
    "execution": {}
   },
   "source": [
    "Both GDP and population increase."
   ]
  },
  {
   "cell_type": "markdown",
   "metadata": {
    "execution": {}
   },
   "source": [
    "## Section 1.4: Differences of SSP1 and SSP5\n",
    "\n",
    "Major differences are visible when you contrast emissions and assume direct causation with ecosystem health. Increasing emissions then translate into decreasing ecosystem health."
   ]
  },
  {
   "cell_type": "markdown",
   "metadata": {
    "execution": {}
   },
   "source": [
    "## Coding exercise 1.4\n",
    "\n",
    "1. Choose two variables to emphasize ecosystem health differences in the SSP1 and SSP5 scenarios and assign them to `vars`. Then assign axis labels with the correct units for plotting to the `val_name` variable.\n",
    "2. Explain to your pod why the chosen variables emphasize a difference in the scenarios and describe this difference based on your current knowledge of the narratives."
   ]
  },
  {
   "cell_type": "code",
   "execution_count": null,
   "metadata": {
    "execution": {}
   },
   "outputs": [],
   "source": [
    "# put two variables of interest in a list\n",
    "vars = ...\n",
    "# create new names for structured data series and plot labels\n",
    "val_name = ...\n",
    "# choose scenarios of interest and a color for plotting\n",
    "scenarios = ['SSP1-Baseline', 'SSP5-Baseline']\n",
    "colors = ['darkblue','darkorange']\n",
    "\n",
    "#################################################\n",
    "## TODO for students:\n",
    "## Put two variables of interest in a list and assign it to 'vars'.\n",
    "## Create new names for the structured data series and axes labels,\n",
    "## put them in a list and assign it to 'val_name'.\n",
    "## Remove the following line of code once you have completed the exercise:\n",
    "raise NotImplementedError(\"Student exercise: Put two variables of interest in a list and assign it to vars. Create new names for the structured data series and axes labels, put them in a list and assign it to val_name.\")\n",
    "#################################################\n",
    "\n",
    "# init figure and axis\n",
    "fig, axs = plt.subplots(2,1)\n",
    "# loop over all variables and new names\n",
    "for var, val, ax in zip(vars,val_name, axs.flatten()):\n",
    "\n",
    "    # loop over scenarios and their color\n",
    "    for sc, col in zip(scenarios, colors):\n",
    "        # retrieve SSP for the respective variable from rich dataframe\n",
    "        ds_unstrct = get_SSPs_for_variable(df,sc,var)\n",
    "        # restructure dataframe for plotting\n",
    "        ds_strct = pd.melt(ds_unstrct, id_vars=[\"MODEL\"], value_vars=['2010','2020','2030','2040','2050','2060','2070','2080','2090','2100'], var_name=\"YEAR\", value_name =val)\n",
    "        #print(ds_strct)\n",
    "        # plot variable vs. time, add label incl. scenario and model\n",
    "        ax.plot(ds_strct['YEAR'],ds_strct[val],label=f'{sc},\\n{ds_strct.MODEL[0]}', color=col)\n",
    "        # altern. plotting procedure w/o the color distinction\n",
    "        #sns.lineplot(ds_strct, x='YEAR', y=val, hue='MODEL', ax=ax, palette='flare')\n",
    "\n",
    "    # aesthetics\n",
    "    ax.set_ylabel(fr'{val}')\n",
    "    ax.set_xlabel('Time (years)')\n",
    "    plt.setp(ax.get_xticklabels(), rotation=45)\n",
    "    plt.setp(ax.get_xticklabels()[::2], visible=False)\n",
    "    ax.grid(True)\n",
    "    axs[0].legend()"
   ]
  },
  {
   "cell_type": "markdown",
   "metadata": {
    "colab_type": "text",
    "execution": {}
   },
   "source": [
    "[*Click for solution*](https://github.com/neuromatch/climate-course-content/tree/main/tutorials/W2D2_TheSocioeconomicsofClimateChange/solutions/W2D2_Tutorial4_Solution_26753443.py)\n",
    "\n",
    "*Example output:*\n",
    "\n",
    "<img alt='Solution hint' align='left' width=775.0 height=575.0 src=https://raw.githubusercontent.com/neuromatch/climate-course-content/main/tutorials/W2D2_TheSocioeconomicsofClimateChange/static/W2D2_Tutorial4_Solution_26753443_0.png>\n",
    "\n"
   ]
  },
  {
   "cell_type": "markdown",
   "metadata": {
    "colab_type": "text",
    "execution": {}
   },
   "source": [
    "[*Click for solution*](https://github.com/neuromatch/climate-course-content/tree/main/tutorials/W2D2_TheSocioeconomicsofClimateChange/solutions/W2D2_Tutorial4_Solution_4240ed7b.py)\n",
    "\n"
   ]
  },
  {
   "cell_type": "markdown",
   "metadata": {},
   "source": [
    "###  Submit your feedback\n"
   ]
  },
  {
   "cell_type": "code",
   "execution_count": null,
   "metadata": {
    "cellView": "form",
    "execution": {},
    "tags": [
     "hide-input"
    ]
   },
   "outputs": [],
   "source": [
    "# @title Submit your feedback\n",
    "content_review(f\"{feedback_prefix}_Coding_Exercise_1_4\")"
   ]
  },
  {
   "cell_type": "markdown",
   "metadata": {
    "execution": {}
   },
   "source": [
    "# Summary\n",
    "In this tutorial, you've gained a first understanding of the Shared Socioeconomic Pathways and their creation, the application of Integrated Assessment Models in climate economics. You've learned how SSPs share policy assumptions. Furthermore, you compared SSP1 and SSP5 with respect to their view on the development of humanity and their ecosystem health.\n",
    "\n",
    "In the next tutorial, you dissect and analyze the SSP narratives in more detail."
   ]
  },
  {
   "cell_type": "markdown",
   "metadata": {
    "execution": {}
   },
   "source": [
    "# Resources\n",
    "\n",
    "It is possible to download the SSP data used in this tutorial, when you provide an email address, from [this IIASA database](https://tntcat.iiasa.ac.at/SspDb/dsd), where all data from the main simulations of the IAMs used in the [IPCC reports](https://www.ipcc.ch/reports/) is freely available.\n",
    "\n",
    "Find a summary of all SSP narratives in this paper by [O'Neill et al. (2017)](https://doi.org/10.1016/j.gloenvcha.2015.01.004).\n",
    "\n",
    "Find even more information in\n",
    "\n",
    "- [IIASA's introduction to SSPs](https://iiasa.ac.at/models-tools-data/ssp)"
   ]
  }
 ],
 "metadata": {
  "colab": {
   "collapsed_sections": [],
   "include_colab_link": true,
   "name": "W2D2_Tutorial4",
   "provenance": [],
   "toc_visible": true
  },
  "kernel": {
   "display_name": "Python 3",
   "language": "python",
   "name": "python3"
  },
  "kernelspec": {
   "display_name": "Python 3 (ipykernel)",
   "language": "python",
   "name": "python3"
  },
  "language_info": {
   "codemirror_mode": {
    "name": "ipython",
    "version": 3
   },
   "file_extension": ".py",
   "mimetype": "text/x-python",
   "name": "python",
   "nbconvert_exporter": "python",
   "pygments_lexer": "ipython3",
   "version": "3.9.20"
  }
 },
 "nbformat": 4,
 "nbformat_minor": 4
}