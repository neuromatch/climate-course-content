{
 "cells": [
  {
   "cell_type": "markdown",
   "id": "873927b3-ad55-40a2-ab6a-de2af3c09cc8",
   "metadata": {
    "execution": {}
   },
   "source": [
    "[![Open In Colab](https://colab.research.google.com/assets/colab-badge.svg)](https://colab.research.google.com/github/neuromatch/climate-course-content/blob/main/tutorials/W2D2_TheSocioeconomicsofClimateChange/student/W2D2_Tutorial2.ipynb)   <a href=\"https://kaggle.com/kernels/welcome?src=https://raw.githubusercontent.com/neuromatch/climate-course-content/main/tutorials/W2D2_TheSocioeconomicsofClimateChange/student/W2D2_Tutorial2.ipynb\" target=\"_blank\"><img alt=\"Open in Kaggle\" src=\"https://kaggle.com/static/images/open-in-kaggle.svg\"/></a>"
   ]
  },
  {
   "cell_type": "markdown",
   "id": "8eb286c6-dd69-440b-bc14-e6c7f20517bf",
   "metadata": {
    "execution": {}
   },
   "source": [
    "# Tutorial 2: Fossil Fuel Emissions, Growth, and Damage\n",
    "**Week 2, Day 2: The Socioeconomics of Climate Change**\n",
    "\n",
    "**Content creators:**  Paul Heubel, Maximilian Puelma Touzel\n",
    "\n",
    "**Content reviewers:** Mujeeb Abdulfatai, Nkongho Ayuketang Arreyndip, Jeffrey N. A. Aryee, Jenna Pearson, Abel Shibu, Ohad Zivan\n",
    "\n",
    "**Content editors:** Paul Heubel, Jenna Pearson, Chi Zhang, Ohad Zivan\n",
    "\n",
    "**Production editors:** Wesley Banfield, Paul Heubel, Jenna Pearson, Konstantine Tsafatinos, Chi Zhang, Ohad Zivan\n",
    "\n",
    "**Our 2024 Sponsors:** CMIP, NFDI4Earth"
   ]
  },
  {
   "cell_type": "markdown",
   "id": "d86fc935-8b60-4fcf-83d7-1e9c78ca6b84",
   "metadata": {
    "execution": {}
   },
   "source": [
    "# Tutorial objectives\n",
    "\n",
    "*Estimated timing of tutorial:* 30 minutes\n",
    "\n",
    "This tutorial explores the impact of population and economic growth on the global temperature and how a changing climate due to fossil fuel emissions damages our economy. You model these scenarios by 'controlling the knobs' of the Climate Solution Simulator named [En-ROADS](https://www.climateinteractive.org/en-roads/).\n",
    "\n",
    "After finishing this tutorial you can\n",
    "\n",
    "* discuss the impact of a growth-based economy on future fossil-fuel emissions along the Kaya identity\n",
    "* qualitatively describe the impact of population and economic growth on the global temperature within the En-ROADS model environment.\n",
    "* (explain qualitatively how a different damage function formulation impacts the economic activity)"
   ]
  },
  {
   "cell_type": "code",
   "execution_count": null,
   "id": "8dc93386-4bde-4e22-b7eb-174133f57351",
   "metadata": {
    "execution": {}
   },
   "outputs": [],
   "source": [
    "# import\n",
    "import matplotlib.pyplot as plt"
   ]
  },
  {
   "cell_type": "markdown",
   "metadata": {},
   "source": [
    "##  Install and import feedback gadget\n"
   ]
  },
  {
   "cell_type": "code",
   "execution_count": null,
   "id": "fb76328e-2276-4dda-906b-bee303d5cd7c",
   "metadata": {
    "cellView": "form",
    "execution": {},
    "tags": [
     "hide-input"
    ]
   },
   "outputs": [],
   "source": [
    "# @title Install and import feedback gadget\n",
    "\n",
    "!pip3 install vibecheck datatops --quiet\n",
    "\n",
    "from vibecheck import DatatopsContentReviewContainer\n",
    "def content_review(notebook_section: str):\n",
    "    return DatatopsContentReviewContainer(\n",
    "        \"\",  # No text prompt\n",
    "        notebook_section,\n",
    "        {\n",
    "            \"url\": \"https://pmyvdlilci.execute-api.us-east-1.amazonaws.com/klab\",\n",
    "            \"name\": \"comptools_4clim\",\n",
    "            \"user_key\": \"l5jpxuee\",\n",
    "        },\n",
    "    ).render()\n",
    "\n",
    "\n",
    "feedback_prefix = \"W2D2_T2\""
   ]
  },
  {
   "cell_type": "markdown",
   "metadata": {},
   "source": [
    "##  Figure settings\n"
   ]
  },
  {
   "cell_type": "code",
   "execution_count": null,
   "id": "f9398705-5441-4ed3-980d-c6339cb30696",
   "metadata": {
    "cellView": "form",
    "execution": {},
    "tags": [
     "hide-input"
    ]
   },
   "outputs": [],
   "source": [
    "# @title Figure settings\n",
    "import ipywidgets as widgets  # interactive display\n",
    "\n",
    "%config InlineBackend.figure_format = 'retina'\n",
    "plt.style.use(\n",
    "    \"https://raw.githubusercontent.com/neuromatch/climate-course-content/main/cma.mplstyle\"\n",
    ")"
   ]
  },
  {
   "cell_type": "markdown",
   "metadata": {},
   "source": [
    "##  Helper functions\n"
   ]
  },
  {
   "cell_type": "code",
   "execution_count": null,
   "id": "3342114d-deee-4d5b-afde-d4852bac2352",
   "metadata": {
    "cellView": "form",
    "execution": {},
    "tags": [
     "hide-input"
    ]
   },
   "outputs": [],
   "source": [
    "# @title Helper functions\n",
    "\n",
    "def pooch_load(filelocation=None, filename=None, processor=None):\n",
    "    shared_location = \"/home/jovyan/shared/Data/tutorials/W2D2_TheSocioeconomicsofClimateChange\"  # this is different for each day\n",
    "    user_temp_cache = tempfile.gettempdir()\n",
    "\n",
    "    if os.path.exists(os.path.join(shared_location, filename)):\n",
    "        file = os.path.join(shared_location, filename)\n",
    "    else:\n",
    "        file = pooch.retrieve(\n",
    "            filelocation,\n",
    "            known_hash=None,\n",
    "            fname=os.path.join(user_temp_cache, filename),\n",
    "            processor=processor,\n",
    "        )\n",
    "\n",
    "    return file"
   ]
  },
  {
   "cell_type": "markdown",
   "metadata": {},
   "source": [
    "##  Video 1: Orienting in a 'Climate Solution' Simulator\n"
   ]
  },
  {
   "cell_type": "code",
   "execution_count": null,
   "id": "2ca0746a-edad-45f7-8ad5-1b4ec1e7c546",
   "metadata": {
    "cellView": "form",
    "execution": {},
    "tags": [
     "remove-input"
    ]
   },
   "outputs": [],
   "source": [
    "# @title Video 1: Orienting in a 'Climate Solution' Simulator\n",
    "\n",
    "from ipywidgets import widgets\n",
    "from IPython.display import YouTubeVideo\n",
    "from IPython.display import IFrame\n",
    "from IPython.display import display\n",
    "\n",
    "\n",
    "class PlayVideo(IFrame):\n",
    "  def __init__(self, id, source, page=1, width=400, height=300, **kwargs):\n",
    "    self.id = id\n",
    "    if source == 'Bilibili':\n",
    "      src = f'https://player.bilibili.com/player.html?bvid={id}&page={page}'\n",
    "    elif source == 'Osf':\n",
    "      src = f'https://mfr.ca-1.osf.io/render?url=https://osf.io/download/{id}/?direct%26mode=render'\n",
    "    super(PlayVideo, self).__init__(src, width, height, **kwargs)\n",
    "\n",
    "\n",
    "def display_videos(video_ids, W=400, H=300, fs=1):\n",
    "  tab_contents = []\n",
    "  for i, video_id in enumerate(video_ids):\n",
    "    out = widgets.Output()\n",
    "    with out:\n",
    "      if video_ids[i][0] == 'Youtube':\n",
    "        video = YouTubeVideo(id=video_ids[i][1], width=W,\n",
    "                             height=H, fs=fs, rel=0)\n",
    "        print(f'Video available at https://youtube.com/watch?v={video.id}')\n",
    "      else:\n",
    "        video = PlayVideo(id=video_ids[i][1], source=video_ids[i][0], width=W,\n",
    "                          height=H, fs=fs, autoplay=False)\n",
    "        if video_ids[i][0] == 'Bilibili':\n",
    "          print(f'Video available at https://www.bilibili.com/video/{video.id}')\n",
    "        elif video_ids[i][0] == 'Osf':\n",
    "          print(f'Video available at https://osf.io/{video.id}')\n",
    "      display(video)\n",
    "    tab_contents.append(out)\n",
    "  return tab_contents\n",
    "\n",
    "\n",
    "video_ids = [('Youtube', 's9Yx24f_lqg'),\n",
    "             ('Bilibili', 'BV1dPGDexE7x')\n",
    "            ]\n",
    "tab_contents = display_videos(video_ids, W=730, H=410)\n",
    "tabs = widgets.Tab()\n",
    "tabs.children = tab_contents\n",
    "for i in range(len(tab_contents)):\n",
    "  tabs.set_title(i, video_ids[i][0])\n",
    "display(tabs)"
   ]
  },
  {
   "cell_type": "markdown",
   "metadata": {},
   "source": [
    "##  Submit your feedback\n"
   ]
  },
  {
   "cell_type": "code",
   "execution_count": null,
   "id": "2cc9d01a-a5c3-40ec-abd5-f72b117b784e",
   "metadata": {
    "cellView": "form",
    "execution": {},
    "tags": [
     "hide-input"
    ]
   },
   "outputs": [],
   "source": [
    "# @title Submit your feedback\n",
    "content_review(f\"{feedback_prefix}_Orienting_inside_a_Climate_Solution_Simulator_Video\")"
   ]
  },
  {
   "cell_type": "markdown",
   "metadata": {},
   "source": [
    "\n"
   ]
  },
  {
   "cell_type": "code",
   "execution_count": null,
   "id": "5d45c633-1daa-4408-ab8c-18969fff8bde",
   "metadata": {
    "cellView": "form",
    "execution": {},
    "tags": [
     "remove-input"
    ]
   },
   "outputs": [],
   "source": [
    "# @markdown\n",
    "from ipywidgets import widgets\n",
    "from IPython.display import IFrame\n",
    "\n",
    "link_id = \"mtyrb\"\n",
    "\n",
    "print(f\"If you want to download the slides: https://osf.io/download/{link_id}/\")\n",
    "IFrame(src=f\"https://mfr.ca-1.osf.io/render?url=https://osf.io/{link_id}/?direct%26mode=render%26action=download%26mode=render\", width=854, height=480)"
   ]
  },
  {
   "cell_type": "markdown",
   "metadata": {},
   "source": [
    "##  Submit your feedback\n"
   ]
  },
  {
   "cell_type": "code",
   "execution_count": null,
   "id": "998dae3e-5c71-471a-9ea1-94cab21eae50",
   "metadata": {
    "cellView": "form",
    "execution": {},
    "tags": [
     "hide-input"
    ]
   },
   "outputs": [],
   "source": [
    "# @title Submit your feedback\n",
    "content_review(f\"{feedback_prefix}_Orienting_inside_a_Climate_Solution_Simulator_Slides\")"
   ]
  },
  {
   "cell_type": "markdown",
   "id": "4cb055f0-0f58-4c8c-9e11-a7a16f0b6e98",
   "metadata": {
    "execution": {}
   },
   "source": [
    "# Section 1: Quantification of Fossil Fuel Emissions and Its Dependency on Growth\n",
    "\n",
    "We discussed in the slides how economics represents the human population as a source of labor needed to produce goods and services. A by-product of this production are fossil fuel emissions, which increase atmospheric greenhouse gas (GHG) concentrations, significantly changing the earth's climate. Let us take a look at the relationship between people, production, and emissions in more detail using the En-ROADS simulator.\n",
    "\n",
    "You might already have clicked through the toggles at the top of the control panel of En-ROADS and tried the different *Views* (Main graphs, Kaya graphs, Miniature graphs). Select now the **Kaya graphs** view and reset the simulator (click on the anti-clockwise circular arrow to 'Reset all policies & assumptions' or just reload the page/model [here](https://en-roads.climateinteractive.org/)).\n",
    "\n",
    "The Kaya graphs depict four drivers of growth in carbon dioxide emissions from energy use, which reflects about two-thirds of all greenhouse gas emissions (the remaining third of emissions are from land use changes and other gases, such as methane (CH$_4$) and nitrous oxide (N$_2$O), which are not considered here). The corresponding equation, the so-called [***Kaya identity***](https://en.wikipedia.org/wiki/Kaya_identity) below was developed by Yoichi Kaya:\n",
    "\n",
    "***CO$_2$ Emissions from Energy = Global Population × GDP per Capita × Energy Intensity of GDP × Carbon Intensity of Energy***\n",
    "\n",
    "Where [gross domestic product](https://en.wikipedia.org/wiki/Gross_domestic_product) (GDP) is a measure of economic activity or health.  \n",
    "\n",
    "In a more mathematical form, this equation is\n",
    "\n",
    "$$\n",
    "F = P \\times \\left[\\frac{G}{P}\\right] \\times \\left[\\frac{E}{G}\\right] \\times \\left[\\frac{F}{E}\\right]\n",
    "$$\n",
    " - $F$ (CO$_2$ emissions from energy), \n",
    " - $P$ (global population), \n",
    " - $G$ (world GDP), and \n",
    " - $E$ (global energy consumption).\n",
    "\n",
    "Decomposing emissions in this way helps to see key contributions and, if we assume that the factors are independent of each other (which is not fully true), distinct ways that we can lower emissions. Each factor in this model is important and extreme reductions in one can offset increases in the others. In our case, our emissions $F$ are increasing over time because the Energy Intensity of GDP $\\left[\\frac{E}{G}\\right] $ and the Carbon Intensity of Energy do not together offset enough of our growing GDP ($G$), which is by definition necessary for a growth-based economy.\n",
    "\n",
    "The first four graphs in the Kaya view display these four variables $\\left(P, \\frac{G}{P}, \\frac{E}{G}, \\frac{F}{E}\\right)$, with the fifth plot showing Emissions, $F$. This allows us to compare the importance of, say, economic and population growth on the CO$_2$ emissions and subsequent temperature rise by 2100."
   ]
  },
  {
   "cell_type": "markdown",
   "id": "fd232a4d-c350-4e7b-9519-921800d81e20",
   "metadata": {
    "execution": {}
   },
   "source": [
    "## Exercise 1: Population vs. Economic Growth\n",
    "*Estimated timing:* 10 minutes\n",
    "\n",
    "1. **Open En-ROADS** [here](https://en-roads.climateinteractive.org/). *(Note the control panel is available in various languages - check the left of the panel of the simulator that should by default show \"English\".)*\n",
    "\n",
    "2. **Develop a scenario**: Turn two *growth* 'control knobs' of En-ROADS, which are the sliders *Economical growth* and *Population growth*.  Use the following [cheatsheet](https://img.climateinteractive.org/2019/09/EnROADS-one-page-guide-to-control-panel-v11-dec-2021.pdf) if needed. \n",
    "\n",
    "3. **Answer the following questions**:\n",
    "\n",
    "*   What can you observe within the *Kaya graph* view? Describe the graphs and interpret them.\n",
    "\n",
    "Read the following dropdown accessible box if you need more information to interpret the Kaya graphs. \n",
    "\n",
    "*Be warned that a reset of all your previous changes might be necessary before. If you would like to save your previous scenario, export it via a click on the* ***Share your scenario*** *button in the top right of the Panel, and select 'Copy Scenario Link'*.\n",
    "\n",
    "*Note that your changes are reflected in the light blue graph, while the baseline scenario remains a black line.*"
   ]
  },
  {
   "cell_type": "markdown",
   "metadata": {},
   "source": [
    "###  Submit your feedback\n"
   ]
  },
  {
   "cell_type": "code",
   "execution_count": null,
   "id": "3fafca01-ec53-4298-9970-f4577007021a",
   "metadata": {
    "cellView": "form",
    "execution": {},
    "tags": [
     "hide-input"
    ]
   },
   "outputs": [],
   "source": [
    "# @title Submit your feedback\n",
    "content_review(f\"{feedback_prefix}_Exercise_1\")"
   ]
  },
  {
   "cell_type": "markdown",
   "id": "1c61eb29-ab14-4445-915e-5d39abab9a73",
   "metadata": {
    "execution": {}
   },
   "source": [
    "<details>\n",
    "<summary> <font color='darkblue'>Click here for a description of the Kaya identity and the corresponding plots </font></summary>\n",
    "\n",
    "Here is one way to understand the shown trends over time:\n",
    "\n",
    "The Global Population ($P$) of 8 billion people is growing and growth is anticipated to be 11 billion by the end of the century, according to UN projections. The rate of growth is slowing over time as people have smaller families.\n",
    "\n",
    "GDP ($G$) per Capita ($P$) is growing steadily per year, and the model assumes this will continue, mostly as people in rapidly developing countries such as China, India, South Africa, Mexico, Brazil, and Indonesia attain higher standards of living.\n",
    "\n",
    "Energy Intensity ($E$) of GDP is decreasing over time, due to the world economy becoming more efficient, or using less energy per unit of economic output. Technologies are improving - for example, more efficient cars, buildings, and machines—and economies are shifting from manufacturing to services. The product of global population, GDP per capita, and the energy intensity of GDP is the total amount of energy used by the global economy.\n",
    "\n",
    "Carbon Intensity of Final Energy, the amount of carbon dioxide emitted by energy use, is expected to slightly decline over time. Overall, this downward trend in carbon intensity is attributed to the gradual shifting away from fossil fuels and towards low-carbon energy sources.\n",
    "\n",
    "Carbon Dioxide Emissions from Energy are the result of all four factors multiplied together, and you can see that in the Baseline Scenario emissions are growing. As the level of carbon dioxide in the atmosphere correlates with temperature, an increased concentration of carbon dioxide in the atmosphere leads to an increase in global temperatures.\n",
    "\n",
    "These factors explain, in simple terms, why emissions are increasing in the Baseline Scenario. Improvements in efficiency and decarbonization are not yet keeping up with the strong growth in population and consumption\n",
    " \n",
    "*** \n",
    " \n",
    "</details>"
   ]
  },
  {
   "cell_type": "markdown",
   "id": "e242d987-4e3a-418b-b69c-65fe25e35ed7",
   "metadata": {
    "execution": {}
   },
   "source": [
    "## Questions 1:\n",
    "*Estimated timing:* 10 minutes\n",
    "\n",
    "Before using the sliders and answering the following questions, build a brief working hypothesis. Which one of the two 'growth knobs' do you expect will be more influential on the global mean temperature and also how much more? \n",
    "\n",
    "1. What do you observe, when you only change the population growth slider? And vice versa changing only the economic growth slider? \n",
    "2. Combine the effect of both sliders in the common and opposite direction, respectively. Are you surprised about the output?"
   ]
  },
  {
   "cell_type": "markdown",
   "id": "d88106d5-3008-47fe-ab29-9e09a539b369",
   "metadata": {
    "colab_type": "text",
    "execution": {}
   },
   "source": [
    "[*Click for solution*](https://github.com/neuromatch/climate-course-content/tree/main/tutorials/W2D2_TheSocioeconomicsofClimateChange/solutions/W2D2_Tutorial2_Solution_c67833bd.py)\n",
    "\n"
   ]
  },
  {
   "cell_type": "markdown",
   "metadata": {},
   "source": [
    "###  Submit your feedback\n"
   ]
  },
  {
   "cell_type": "code",
   "execution_count": null,
   "id": "35fa66da-f920-4f64-88cc-efe7049795ff",
   "metadata": {
    "cellView": "form",
    "execution": {},
    "tags": [
     "hide-input"
    ]
   },
   "outputs": [],
   "source": [
    "# @title Submit your feedback\n",
    "content_review(f\"{feedback_prefix}_Questions_1\")"
   ]
  },
  {
   "cell_type": "markdown",
   "id": "a92f9886-6e3c-45f2-b6e1-a7f036af03b2",
   "metadata": {
    "execution": {}
   },
   "source": [
    "<details>\n",
    "<summary> <font color='darkblue'>Click here for a bonus digression on the Limits To Growth </font></summary>\n",
    "    \n",
    "### Bonus: A note on exponential growth in a bounded system \n",
    "Consider a bounded system undergoing only positive feedback leading to exponential growth. The characteristic duration of growth until the system state reaches the system boundary is only weakly sensitive to the size of the boundary. For example, in the context of exponential resource-driven economic growth on Earth, reaching the boundary means exhausting its accessible physical resources. Ten times more or less of the starting amount of accessible resources only changes the time at which those resources are exhausted by a factor of 2 up or down, respectively. \n",
    "\n",
    "Physics demands that behind the exponential extraction of resources is an exponential use of an energy resource. In recent times on Earth, this has been fossil fuels, which are non-renewable. Legitimate concerns of peak oil in the late 1990s were quelled by the Shale revolution in the United States and other technological advances in oil and gas exploration and exploitation. These have increased (by a factor between 2 and 4) the total amount of known reserves that can be profitably exploited. While this increase is significant on an linear scale, it is negligible on an exponential scale. Looking forward, the largest estimates for how much larger accessible oil and gas reserves will be are within an order of magnitude of current reserves. Presuming resource-driven growth economics continues, whatever accessible oil and gass is left will then be exhausted within a short period of time (e.g. within a century). \n",
    "\n",
    "Exponential growth in a bounded system will often slow as it reaches the boundary because of boundary-sized feedback effects. In our case, demand growth for fossil fuels is starting to slow with the development of renewable energy sources. There still substantial uncertainty about how these feedbacks will play out. Some questions to consider: \n",
    "- whether the transition to renewable energy sources can happen before we exhaust the associated non-renewable resources. \n",
    "- Once transitioned, whether the non-renewable resource use (e.g. of rare-earth metals) needed to sustain the renewable energy sector is sustainable in a growth-based economics\n",
    "- Once transitioned, whether this renewable energy resource might not slow, but instead accelerate the extraction of all non-renewable resources (see [Jevon's paradox](https://en.wikipedia.org/wiki/Jevons_paradox)). \n",
    "\n",
    "*** \n",
    " \n",
    "</details>"
   ]
  },
  {
   "cell_type": "markdown",
   "id": "98a285b1-48e1-4c90-9789-584d80231449",
   "metadata": {
    "execution": {}
   },
   "source": [
    "# Section 2 (Bonus): The Economic Impact of Climate Change\n",
    "\n",
    "In the previous day's tutorials, you learned how increases in atmospheric greenhouse gas (GHG) concentrations significantly alter Earth's climate and examined the impacts of these emissions on variables such as sea-surface temperature and oxygen. These changes in climate variables can, in turn, impact the economy. For example, increased temperatures may reduce crop yields or soften road surfaces requiring more frequent or intense repairs.\n",
    "\n",
    "## Question 2 (Bonus):\n",
    "\n",
    "1. Take a minute to think of some other possible ways in which climate change can affect the economy. Then discuss with your pod."
   ]
  },
  {
   "cell_type": "markdown",
   "id": "920f3d23-5eb9-4f4b-9c43-86e5cbad02b9",
   "metadata": {
    "colab_type": "text",
    "execution": {}
   },
   "source": [
    "[*Click for solution*](https://github.com/neuromatch/climate-course-content/tree/main/tutorials/W2D2_TheSocioeconomicsofClimateChange/solutions/W2D2_Tutorial2_Solution_efff427c.py)\n",
    "\n"
   ]
  },
  {
   "cell_type": "markdown",
   "metadata": {},
   "source": [
    "##  Submit your feedback\n"
   ]
  },
  {
   "cell_type": "code",
   "execution_count": null,
   "id": "5107a939-7db9-4789-a03e-cba90918260a",
   "metadata": {
    "cellView": "form",
    "execution": {},
    "tags": [
     "hide-input"
    ]
   },
   "outputs": [],
   "source": [
    "# @title Submit your feedback\n",
    "content_review(f\"{feedback_prefix}_Bonus_Question_2\")"
   ]
  },
  {
   "cell_type": "markdown",
   "id": "c78b63df-8bc2-4e0c-898f-a926fce03e4d",
   "metadata": {
    "execution": {}
   },
   "source": [
    "These economic impacts on climate change are considered *economic damage* as they typically result in less or slower economic growth. Economists incorporate the impacts of climate change on the economy into models through a **damage function**, which usually represents climate change by an increase in global temperature, and the impact on the economy as a reduction in [gross domestic product](https://en.wikipedia.org/wiki/Gross_domestic_product) (GDP).\n",
    "\n",
    "You can dive deeper into the control knob functionalities of En-ROADS by changing the quantification of how climate change damages the economy via a reduction in GDP. To have a closer look at the assumptions that go into the model, we click on the 'Simulation' toggle and select 'Assumptions', in the bottom a box of toggles appears. Here we choose the 'Economy' section and click on 'Economic impact of climate change'.\n",
    "\n",
    "### Exercise 2 (Bonus): Choose a Damage function\n",
    "*Estimated timing:* 10 minutes\n",
    "\n",
    "In this section, 3 dropdowns correspond to 3 assumptions: (1) whether or not climate change slows economic growth, (2) if yes, how strongly as a function of temperature (what is the damage function), and (3) by how much do we discount far future welfare relative to current welfare. \n",
    "\n",
    "1. Hypothesize which parameter needs to be changed to have a less severe damage function.\n",
    "\n",
    "2. Decide which 'related graph' shall be shown on the top left and explain your hypothesis and final choice of the parameter along it.\n"
   ]
  },
  {
   "cell_type": "markdown",
   "id": "f1055ced-d99b-4c9f-b4e7-fe7176cc58bc",
   "metadata": {
    "colab_type": "text",
    "execution": {}
   },
   "source": [
    "[*Click for solution*](https://github.com/neuromatch/climate-course-content/tree/main/tutorials/W2D2_TheSocioeconomicsofClimateChange/solutions/W2D2_Tutorial2_Solution_1425c24a.py)\n",
    "\n"
   ]
  },
  {
   "cell_type": "markdown",
   "metadata": {},
   "source": [
    "##  Submit your feedback\n"
   ]
  },
  {
   "cell_type": "code",
   "execution_count": null,
   "id": "fb7a0a99-f894-40db-9da1-87f72f7026fa",
   "metadata": {
    "cellView": "form",
    "execution": {},
    "tags": [
     "hide-input"
    ]
   },
   "outputs": [],
   "source": [
    "# @title Submit your feedback\n",
    "content_review(f\"{feedback_prefix}_Bonus_Exercise_2\")"
   ]
  },
  {
   "cell_type": "markdown",
   "id": "8a3c2b15-e9a4-45df-806e-82efafeb6fe5",
   "metadata": {
    "execution": {}
   },
   "source": [
    "With this, we already discussed a few damage functions in En-Roads.  Although they are central to the climate-economy connection of the models, their formulation is relatively ad hoc, which leads to validity issues that are often criticized. \n",
    "\n",
    "There are at least two fundamental problems with damage functions (for more see [*The appallingly bad neoclassical economics of climate change* by S. Keen in *Globalizations* (2020)](https://www.tandfonline.com/doi/full/10.1080/14747731.2020.1807856)):\n",
    "1. As mathematical model objects, they are likely too simple to be useful predictors in characterizing climate damages in sufficient complexity. \n",
    "2. They arise from a poorly validated model-fitting procedure. In particular, it relies on ad hoc functional forms and the relevance of historical and geographical variability to future variability.\n",
    "\n",
    "Despite these problems, damage functions allow economists within the neoclassical paradigm to start seriously considering the damaging effects of climate change."
   ]
  },
  {
   "cell_type": "markdown",
   "id": "c688a40e-7c50-45a5-b95e-b66dcd939b99",
   "metadata": {
    "execution": {}
   },
   "source": [
    "# Summary\n",
    "\n",
    "In this tutorial, we discussed the impact of growth on fossil fuel emissions, in particular population growth vs. economic growth, and its treatment by the world model En-ROADS. Last but not least we introduced the important concept of the damage function to connect climate and economy within a model."
   ]
  },
  {
   "cell_type": "markdown",
   "id": "ad0144cc-224a-4422-a098-18eb1481c841",
   "metadata": {
    "execution": {}
   },
   "source": [
    "# Resources\n",
    "\n",
    "This tutorial is inspired by teaching material from [Climate Interactive](https://climateinteractive.org/) and other documents. \n",
    "A few important resources are linked below:\n",
    "\n",
    "- [En-ROADS documentation](https://docs.climateinteractive.org/projects/en-roads/en/latest/index.html)\n",
    "- [En-ROADS User Guide PDF](https://docs.climateinteractive.org/projects/en-roads/en/latest/en-roads-user-guide.pdf)\n",
    "- [Guided Assignment - Simulating Climate Futures in En-ROADS: Short Version](https://www.climateinteractive.org/guided-assignment/)"
   ]
  }
 ],
 "metadata": {
  "colab": {
   "collapsed_sections": [],
   "include_colab_link": true,
   "name": "W2D2_Tutorial2",
   "toc_visible": true
  },
  "kernel": {
   "display_name": "Python 3",
   "language": "python",
   "name": "python3"
  },
  "kernelspec": {
   "display_name": "Python 3 (ipykernel)",
   "language": "python",
   "name": "python3"
  },
  "language_info": {
   "codemirror_mode": {
    "name": "ipython",
    "version": 3
   },
   "file_extension": ".py",
   "mimetype": "text/x-python",
   "name": "python",
   "nbconvert_exporter": "python",
   "pygments_lexer": "ipython3",
   "version": "3.9.19"
  }
 },
 "nbformat": 4,
 "nbformat_minor": 5
}