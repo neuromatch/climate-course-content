{
 "cells": [
  {
   "cell_type": "markdown",
   "id": "06bafb3b",
   "metadata": {
    "execution": {}
   },
   "source": [
    "# Day Summary"
   ]
  },
  {
   "cell_type": "markdown",
   "id": "8bc1631b",
   "metadata": {
    "execution": {}
   },
   "source": [
    "In today’s tutorials you developed a simple climate model that simulated Earth’s radiative balance and the resulting global mean surface temperature. You added several layers of complexity to your model, such as a temperature-dependent albedo and the vertical structure of the atmosphere, to represent climatically-important physical processes. Finally, you loaded and analyzed data from an Earth System Model (ESM), the most complex type of climate model which includes physical, chemical and biological processes, and interactions between the components of the Earth system (atmosphere, ocean, etc.)."
   ]
  }
 ],
 "metadata": {
  "colab": {
   "collapsed_sections": [],
   "include_colab_link": true,
   "name": "W1D5_DaySummary",
   "toc_visible": true
  },
  "kernel": {
   "display_name": "Python 3",
   "language": "python",
   "name": "python3"
  },
  "kernelspec": {
   "display_name": "Python 3 (ipykernel)",
   "language": "python",
   "name": "python3"
  },
  "language_info": {
   "codemirror_mode": {
    "name": "ipython",
    "version": 3
   },
   "file_extension": ".py",
   "mimetype": "text/x-python",
   "name": "python",
   "nbconvert_exporter": "python",
   "pygments_lexer": "ipython3",
   "version": "3.9.19"
  }
 },
 "nbformat": 4,
 "nbformat_minor": 5
}