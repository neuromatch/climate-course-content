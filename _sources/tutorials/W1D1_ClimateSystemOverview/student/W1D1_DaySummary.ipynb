{
 "cells": [
  {
   "cell_type": "markdown",
   "id": "c57bdbdf",
   "metadata": {
    "execution": {}
   },
   "source": [
    "# Day Summary"
   ]
  },
  {
   "cell_type": "markdown",
   "id": "af474117",
   "metadata": {
    "execution": {}
   },
   "source": [
    "The tutorials today provided an overview of Earth’s climate system as well as an introduction to Xarray. You learned about long-term, natural forcings and feedbacks that influence Earth’s climate including Earth’s energy budget, orbital forcings, and the carbon cycle, and explored various processes within the atmospheric, oceanic, and terrestrial components of Earth’s climate system. Additionally, you learned useful tools in Xarray for formatting, analyzing, and interpreting climate data."
   ]
  }
 ],
 "metadata": {
  "colab": {
   "collapsed_sections": [],
   "include_colab_link": true,
   "name": "W1D1_DaySummary",
   "toc_visible": true
  },
  "kernel": {
   "display_name": "Python 3",
   "language": "python",
   "name": "python3"
  },
  "kernelspec": {
   "display_name": "Python 3 (ipykernel)",
   "language": "python",
   "name": "python3"
  },
  "language_info": {
   "codemirror_mode": {
    "name": "ipython",
    "version": 3
   },
   "file_extension": ".py",
   "mimetype": "text/x-python",
   "name": "python",
   "nbconvert_exporter": "python",
   "pygments_lexer": "ipython3",
   "version": "3.9.19"
  }
 },
 "nbformat": 4,
 "nbformat_minor": 5
}