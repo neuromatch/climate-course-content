{
 "cells": [
  {
   "cell_type": "markdown",
   "metadata": {
    "execution": {},
    "id": "x1WZhSN61YBE"
   },
   "source": [
    "[![Open In Colab](https://colab.research.google.com/assets/colab-badge.svg)](https://colab.research.google.com/github/ClimateMatchAcademy/course-content/blob/main/projects/project-notebooks/Ocean_acidification.ipynb) &nbsp; <a href=\"https://kaggle.com/kernels/welcome?src=https://raw.githubusercontent.com/ClimateMatchAcademy/course-content/main/projects/project-notebooks/Ocean_acidification.ipynb\" target=\"_parent\"><img src=\"https://kaggle.com/static/images/open-in-kaggle.svg\" alt=\"Open in Kaggle\"/></a>"
   ]
  },
  {
   "cell_type": "markdown",
   "metadata": {
    "id": "avjFjFXwWqyW"
   },
   "source": [
    "# **Ocean Acidification**\n",
    "\n",
    "\n",
    "**Content creators:** C. Gabriela Mayorga Adame, Lidia Krinova\n",
    "\n",
    "**Content reviewers:** \n",
    "\n",
    "**Content editors:** \n",
    "\n",
    "**Production editors:** \n",
    "\n",
    "**Our 2023 Sponsors:** "
   ]
  },
  {
   "cell_type": "code",
   "execution_count": null,
   "metadata": {
    "id": "umnBeSiJeqYo",
    "tags": []
   },
   "outputs": [],
   "source": [
    "# @title Project Background\n",
    "\n",
    "from ipywidgets import widgets\n",
    "from IPython.display import YouTubeVideo\n",
    "from IPython.display import IFrame\n",
    "from IPython.display import display\n",
    "\n",
    "\n",
    "class PlayVideo(IFrame):\n",
    "    def __init__(self, id, source, page=1, width=400, height=300, **kwargs):\n",
    "        self.id = id\n",
    "        if source == \"Bilibili\":\n",
    "            src = f\"https://player.bilibili.com/player.html?bvid={id}&page={page}\"\n",
    "        elif source == \"Osf\":\n",
    "            src = f\"https://mfr.ca-1.osf.io/render?url=https://osf.io/download/{id}/?direct%26mode=render\"\n",
    "        super(PlayVideo, self).__init__(src, width, height, **kwargs)\n",
    "\n",
    "\n",
    "def display_videos(video_ids, W=400, H=300, fs=1):\n",
    "    tab_contents = []\n",
    "    for i, video_id in enumerate(video_ids):\n",
    "        out = widgets.Output()\n",
    "        with out:\n",
    "            if video_ids[i][0] == \"Youtube\":\n",
    "                video = YouTubeVideo(\n",
    "                    id=video_ids[i][1], width=W, height=H, fs=fs, rel=0\n",
    "                )\n",
    "                print(f\"Video available at https://youtube.com/watch?v={video.id}\")\n",
    "            else:\n",
    "                video = PlayVideo(\n",
    "                    id=video_ids[i][1],\n",
    "                    source=video_ids[i][0],\n",
    "                    width=W,\n",
    "                    height=H,\n",
    "                    fs=fs,\n",
    "                    autoplay=False,\n",
    "                )\n",
    "                if video_ids[i][0] == \"Bilibili\":\n",
    "                    print(\n",
    "                        f\"Video available at https://www.bilibili.com/video/{video.id}\"\n",
    "                    )\n",
    "                elif video_ids[i][0] == \"Osf\":\n",
    "                    print(f\"Video available at https://osf.io/{video.id}\")\n",
    "            display(video)\n",
    "        tab_contents.append(out)\n",
    "    return tab_contents\n",
    "\n",
    "\n",
    "video_ids = [('Youtube', 'NAgrB8HxMMk'), ('Bilibili', 'BV1fM4y1x7g8')]\n",
    "tab_contents = display_videos(video_ids, W=730, H=410)\n",
    "tabs = widgets.Tab()\n",
    "tabs.children = tab_contents\n",
    "for i in range(len(tab_contents)):\n",
    "    tabs.set_title(i, video_ids[i][0])\n",
    "display(tabs)"
   ]
  },
  {
   "cell_type": "code",
   "execution_count": null,
   "metadata": {
    "id": "TB8_jibV1YBM"
   },
   "outputs": [],
   "source": [
    "# @title Tutorial slides\n",
    "# @markdown These are the slides for the videos in all tutorials today\n",
    "from IPython.display import IFrame\n",
    "link_id = \"n7wdy\""
   ]
  },
  {
   "cell_type": "markdown",
   "metadata": {
    "id": "DZbqRlQKXhnc"
   },
   "source": [
    "Human activities release CO2 into the atmosphere, which leads to atmospheric warming and climate change. A portion of this CO2 released by human activities is absorbed into the oceans, which has a direct, chemical effect on seawater, known as ocean acidification. When CO2 combines with water in the ocean it forms carbonic acid, which makes the ocean more acidic and can have negative impacts on certain marine ecosystems (e.g., reduce the ability of calcifying organisms to form their shells and skeletons). The degree of ocean acidification is often expressed in terms of the pH of seawater, which is the measure of acidity or alkalinity such that a pH below 7 is considered acidic, and a pH greater than 7 is considered alkaline, or basic. Additional background information on ocean acidification can be found [here](https://coastadapt.com.au/ocean-acidification-and-its-effects). In this project, you will explore spatial and temporal patterns of and relationships between pH, CO2, and temperature to assess changes in ocean acidification and the impact on marine ecosystems.\n",
    "\n",
    "**In this project**, you will analyse ocean model and observational data from global databases to extract variables like pH, CO<sub>2</sub>, and temperature, and to investigate ocean acidification process in your region of interest. This project will also be an opportunity to investigate the relationships between these variables as well as their impact on the marine ecosystems."
   ]
  },
  {
   "cell_type": "markdown",
   "metadata": {
    "id": "B2hG2V_2veFC"
   },
   "source": [
    "# Project Template\n",
    "\n",
    "<img src='../template-images/2024_OceanAcidification.svg'/>\n",
    "\n",
    "*Note: The dashed boxes are socio-economic questions.*"
   ]
  },
  {
   "cell_type": "markdown",
   "metadata": {
    "id": "-uS_n9-3YJrZ"
   },
   "source": [
    "# Data Exploration Notebook\n",
    "## Project Setup\n"
   ]
  },
  {
   "cell_type": "code",
   "execution_count": null,
   "metadata": {
    "id": "drh-swqCsb9k",
    "tags": [
     "colab"
    ]
   },
   "outputs": [],
   "source": [
    "# google colab installs\n",
    "\n",
    "# !mamaba install netCDF4"
   ]
  },
  {
   "cell_type": "code",
   "execution_count": null,
   "metadata": {
    "id": "9nDg6MeVY1CX",
    "tags": []
   },
   "outputs": [],
   "source": [
    "# imports\n",
    "\n",
    "import random\n",
    "import numpy as np\n",
    "import matplotlib.pyplot as plt\n",
    "import xarray as xr\n",
    "import pooch\n",
    "import pandas as pd\n",
    "import os\n",
    "import tempfile"
   ]
  },
  {
   "cell_type": "code",
   "execution_count": null,
   "metadata": {
    "id": "8GNKCquN1YBV"
   },
   "outputs": [],
   "source": [
    "# helper functions\n",
    "\n",
    "def pooch_load(filelocation=None,filename=None,processor=None):\n",
    "    shared_location='/home/jovyan/shared/Data/Projects/Ocean_Acidification' # this is different for each day\n",
    "    user_temp_cache=tempfile.gettempdir()\n",
    "\n",
    "    if os.path.exists(os.path.join(shared_location,filename)):\n",
    "        file = os.path.join(shared_location,filename)\n",
    "    else:\n",
    "        file = pooch.retrieve(filelocation,known_hash=None,fname=os.path.join(user_temp_cache,filename),processor=processor)\n",
    "\n",
    "    return file"
   ]
  },
  {
   "cell_type": "markdown",
   "metadata": {
    "id": "iYblWn8cZAGT"
   },
   "source": [
    "## NOAA Ocean pH and Acidity"
   ]
  },
  {
   "cell_type": "markdown",
   "metadata": {
    "id": "W43m6TQBZrpe"
   },
   "source": [
    "### Global surface ocean acidification indicators from 1750 to 2100 (NCEI Accession 0259391)\n",
    "\n",
    "This data package contains a hybrid surface ocean acidification (OA) data product that is produced based on three recent observational data products:\n",
    "- Surface Ocean CO2 Atlas (SOCAT, version 2022)\n",
    "- Global Ocean Data Analysis Product version 2 (GLODAPv2, version 2022)\n",
    "- Coastal Ocean Data Analysis Product in North America (CODAP-NA, version 2021), and 14 Earth System Models from the sixth phase of the Coupled Model Intercomparison Project ([CMIP6](https://github.com/ClimateMatchAcademy/course-content/blob/main/tutorials/CMIP/CMIP_resource_bank.md)).\n",
    "\n",
    "The trajectories of ten OA indicators are included in this data product:\n",
    "- Fugacity of carbon dioxide\n",
    "- pH on Total Scale\n",
    "- Total hydrogen ion content\n",
    "- Free hydrogen ion content\n",
    "- Carbonate ion content\n",
    "- Aragonite saturation state\n",
    "- Calcite saturation state\n",
    "- Revelle Factor\n",
    "- Total dissolved inorganic carbon content\n",
    "- Total alkalinity content\n",
    "\n",
    "These OA trajectories are provided under preindustrial conditions, historical conditions, and future Shared Socioeconomic Pathways: SSP1-1.9, SSP1-2.6, SSP2-4.5, SSP3-7.0, and SSP5-8.5 from 1750 to 2100 on a global surface ocean grid. These OA trajectories are improved relative to previous OA data products with respect to data quantity, spatial and temporal coverage, diversity of the underlying data and model simulations, and the provided SSPs over the 21st century.\n",
    "\n",
    "**Citation:**\n",
    "Jiang, L.-Q., Dunne, J., Carter, B. R., Tjiputra, J. F., Terhaar, J., Sharp, J. D., et al. (2023). Global surface ocean acidification indicators from 1750 to 2100. Journal of Advances in Modeling Earth Systems, 15, e2022MS003563. https://doi.org/10.1029/2022MS003563\n",
    "\n",
    "**Dataset**: https://www.ncei.noaa.gov/data/oceans/ncei/ocads/metadata/0259391.html\n"
   ]
  },
  {
   "cell_type": "markdown",
   "metadata": {
    "id": "xqiXjDKC9G2M"
   },
   "source": [
    "We can load and visualize the **surface pH** as follows:"
   ]
  },
  {
   "cell_type": "code",
   "execution_count": null,
   "metadata": {
    "id": "mZMo14eJs26r",
    "tags": []
   },
   "outputs": [],
   "source": [
    "# code to retrieve and load the data\n",
    "# url_SurfacepH= 'https://www.ncei.noaa.gov/data/oceans/ncei/ocads/data/0206289/Surface_pH_1770_2100/Surface_pH_1770_2000.nc' $ old CMIP5 dataset\n",
    "filename_SurfacepH='pHT_median_historical.nc'\n",
    "url_SurfacepH='https://www.ncei.noaa.gov/data/oceans/ncei/ocads/data/0259391/nc/median/pHT_median_historical.nc'\n",
    "ds_pH = xr.open_dataset(pooch_load(url_SurfacepH,filename_SurfacepH))\n",
    "ds_pH"
   ]
  },
  {
   "cell_type": "markdown",
   "metadata": {
    "id": "S6fZBOG00xW6"
   },
   "source": [
    "For those feeling adventurouts, there are also files of future projected changes under various scenarios (SSP1-1.9, SSP1-2.6, SSP2-4.5, SSP3-7.0, and SSP5-8.5, recall W2D1 tutorials):\n",
    "*   pHT_median_ssp119.nc\n",
    "*   pHT_median_ssp126.nc\n",
    "*   pHT_median_ssp245.nc\n",
    "*   pHT_median_ssp370.nc\n",
    "*   pHT_median_ssp585.nc\n",
    "\n",
    "To load them, replace the filename in the path/filename line above. These data were calculated from CMIP6 models. To learn more about CMIP please see our [CMIP Resource Bank](https://github.com/ClimateMatchAcademy/course-content/blob/main/tutorials/CMIP/CMIP_resource_bank.md) and the [CMIP website](https://wcrp-cmip.org/).  "
   ]
  },
  {
   "cell_type": "markdown",
   "metadata": {
    "id": "OcwO6XpY3rOS"
   },
   "source": [
    "For the advanced questions in red you can use **sea surface temperature** and **CO<sub>2</sub> concentration** from [NOAA Global Monitoring Laboratory](https://gml.noaa.gov/ccgg/trends/gl_data.html)) which were previously introduced in the tutorials.\n",
    "We can load and visualize this variables as follows:"
   ]
  },
  {
   "cell_type": "code",
   "execution_count": null,
   "metadata": {
    "id": "rF3Z4CwmwE1K",
    "tags": []
   },
   "outputs": [],
   "source": [
    "filename_CO2= 'co2_mm_gl.csv'\n",
    "url_CO2= 'https://gml.noaa.gov/webdata/ccgg/trends/co2/co2_mm_gl.csv'\n",
    "ds_CO2 = pd.read_csv(pooch_load(url_CO2,filename_CO2),header=55)\n",
    "\n",
    "ds_CO2"
   ]
  },
  {
   "cell_type": "code",
   "execution_count": null,
   "metadata": {
    "id": "ZkjKVTMN1YBc",
    "tags": []
   },
   "outputs": [],
   "source": [
    "# from W1D3 tutorial 6 we have Sea Surface Temprature from 1981 to the present:\n",
    "# download the monthly sea surface temperature data from NOAA Physical System\n",
    "# Laboratory. The data is processed using the OISST SST Climate Data Records\n",
    "# from the NOAA CDR program.\n",
    "# the data downloading may take 2-3 minutes to complete.\n",
    "\n",
    "filename_sst='sst.mon.mean.nc'\n",
    "url_sst = \"https://osf.io/6pgc2/download/\"\n",
    "\n",
    "ds_SST = xr.open_dataset(pooch_load(url_sst,filename_sst))\n",
    "ds_SST"
   ]
  },
  {
   "cell_type": "markdown",
   "metadata": {
    "id": "tiOBsy9wF-59"
   },
   "source": [
    "**Hints for socio-economic question (dashed boxes):**\n",
    "\n",
    "Use the attached image (Figure 4 in [Kroaker et al., 2013]( https://doi.org/10.1111/gcb.12179) research paper) and this [mapping tool](https://mapper.obis.org/). Search for species of interest on the mapping tool to see their spatial global distribution and changes over time. Be critical about what you see."
   ]
  },
  {
   "cell_type": "markdown",
   "metadata": {
    "id": "z9W0HPU01YBh"
   },
   "source": [
    "\n",
    "![effects of ocean acidification](https://onlinelibrary.wiley.com/cms/asset/e3670b99-729f-42e6-9f5a-b2a67d5702ca/gcb12179-fig-0004-m.png)\n",
    "\n",
    "Summary of effects of acidification among key taxonomic groups. Effects are represented as either mean percent (+) increase or percent (−) decrease in a given response."
   ]
  },
  {
   "cell_type": "markdown",
   "metadata": {
    "id": "eQkNW-g61YBi"
   },
   "source": [
    "# Further Reading\n",
    "\n",
    "- Understanding Ocean Acidification\", NOAA (https://www.fisheries.noaa.gov/insight/understanding-ocean-acidification)\n",
    "- \"Ocean acidification and its effects\", CoastAdapt (https://coastadapt.com.au/ocean-acidification-and-its-effects)\n",
    "- \"Scientists Pinpoint How Ocean Acidification Weakens Coral Skeletons\", WHOI (https://www.whoi.edu/press-room/news-release/scientists-identify-how-ocean-acidification-weakens-coral-skeletons/)\n",
    "- \"Ocean acidification and reefs\", Smithonian Tropical Research Institute (https://stri.si.edu/story/ocean-acidification-and-reefs)\n",
    "- Ocean Acidification | Learn Science at Scitable https://www.nature.com/scitable/knowledge/library/ocean-acidification-25822734/\n",
    "- Henry, J., J. Patterson, and L. Krimsky. 2020. “Ocean Acidification: Calcifying Marine Organisms: FA220, 3/2020”. EDIS 2020 (2):4. https://doi.org/10.32473/edis-fa220-2020.\n",
    "- Lauderdale, J. M., S. Dutkiewicz, R. G. Williams, and M. J. Follows (2016), Quantifying the drivers of ocean-atmosphere CO2 fluxes, Global Biogeochem. Cycles, 30  https://agupubs.onlinelibrary.wiley.com/doi/full/10.1002/2016GB005400\n",
    "- Increasingly Acidic Oceans Are Causing Fish to Behave Badly | Scientific American https://www.scientificamerican.com/article/increasingly-acidic-oceans-are-causing-fish-to-behave-badly/\n",
    "\n"
   ]
  },
  {
   "cell_type": "markdown",
   "metadata": {
    "id": "JsPWOtzV1YBj"
   },
   "source": [
    "# **Resources**\n",
    "\n",
    "This tutorial uses data from the simulations conducted as part of the [CMIP6](https://wcrp-cmip.org/) multi-model ensemble.\n",
    "\n",
    "For examples on how to access and analyze data, please visit the [Pangeo Cloud CMIP6 Gallery](https://gallery.pangeo.io/repos/pangeo-gallery/cmip6/index.html)\n",
    "\n",
    "For more information on what CMIP is and how to access the data, please see this [page](https://github.com/ClimateMatchAcademy/course-content/blob/main/tutorials/CMIP/CMIP_resource_bank.md)."
   ]
  }
 ],
 "metadata": {
  "colab": {
   "provenance": [
    {
     "file_id": "1UrzuI288izT-KofHfuuvFa1qDvOP0NyL",
     "timestamp": 1711244888691
    },
    {
     "file_id": "https://github.com/ClimateMatchAcademy/course-content/blob/main/projects/project-notebooks/Ocean_acidification.ipynb",
     "timestamp": 1711242692952
    }
   ],
   "toc_visible": true
  },
  "kernelspec": {
   "display_name": "Python 3 (ipykernel)",
   "language": "python",
   "name": "python3"
  },
  "language_info": {
   "codemirror_mode": {
    "name": "ipython",
    "version": 3
   },
   "file_extension": ".py",
   "mimetype": "text/x-python",
   "name": "python",
   "nbconvert_exporter": "python",
   "pygments_lexer": "ipython3",
   "version": "3.9.16"
  }
 },
 "nbformat": 4,
 "nbformat_minor": 1
}
