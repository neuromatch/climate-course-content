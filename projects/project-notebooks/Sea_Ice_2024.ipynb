{
 "cells": [
  {
   "cell_type": "markdown",
   "id": "ada5523b",
   "metadata": {},
   "source": [
    "<a href=\"https://colab.research.google.com/github/neuromatch/climate-course-content/blob/main/projects/project-notebooks/SeaIce_2024.ipynb\" target=\"_parent\"><img src=\"https://colab.research.google.com/assets/colab-badge.svg\" alt=\"Open In Colab\"/></a> &nbsp; <a href=\"https://kaggle.com/kernels/welcome?src=https://raw.githubusercontent.com/neuromatch/climate-course-content/main/projects/project-notebooks/SeaIce_2024.ipynb\" target=\"_parent\"><img src=\"https://kaggle.com/static/images/open-in-kaggle.svg\" alt=\"Open in Kaggle\"/></a>"
   ]
  },
  {
   "cell_type": "markdown",
   "id": "045624d0",
   "metadata": {
    "execution": {}
   },
   "source": [
    "# Arctic Sea Ice Change\n",
    "\n",
    "**Content creators:** Alistair Duffey, Will Gregory, Michel Tsamados\n",
    "\n",
    "**Content reviewers:** Paul Heubel, Laura Paccini, Jenna Pearson\n",
    "\n",
    "**Content editors:** Paul Heubel\n",
    "\n",
    "**Production editors:** Paul Heubel, Konstantine Tsafatinos\n",
    "\n",
    "**Our 2024 Sponsors:** CMIP, NFDI4Earth\n"
   ]
  },
  {
   "cell_type": "code",
   "execution_count": null,
   "id": "64da422f",
   "metadata": {
    "cellView": "form"
   },
   "outputs": [],
   "source": [
    "# @title Project Background\n",
    "\n",
    "from ipywidgets import widgets\n",
    "from IPython.display import YouTubeVideo\n",
    "from IPython.display import IFrame\n",
    "from IPython.display import display\n",
    "\n",
    "\n",
    "class PlayVideo(IFrame):\n",
    "  def __init__(self, id, source, page=1, width=400, height=300, **kwargs):\n",
    "    self.id = id\n",
    "    if source == 'Bilibili':\n",
    "      src = f'https://player.bilibili.com/player.html?bvid={id}&page={page}'\n",
    "    elif source == 'Osf':\n",
    "      src = f'https://mfr.ca-1.osf.io/render?url=https://osf.io/download/{id}/?direct%26mode=render'\n",
    "    super(PlayVideo, self).__init__(src, width, height, **kwargs)\n",
    "\n",
    "\n",
    "def display_videos(video_ids, W=400, H=300, fs=1):\n",
    "  tab_contents = []\n",
    "  for i, video_id in enumerate(video_ids):\n",
    "    out = widgets.Output()\n",
    "    with out:\n",
    "      if video_ids[i][0] == 'Youtube':\n",
    "        video = YouTubeVideo(id=video_ids[i][1], width=W,\n",
    "                             height=H, fs=fs, rel=0)\n",
    "        print(f'Video available at https://youtube.com/watch?v={video.id}')\n",
    "      else:\n",
    "        video = PlayVideo(id=video_ids[i][1], source=video_ids[i][0], width=W,\n",
    "                          height=H, fs=fs, autoplay=False)\n",
    "        if video_ids[i][0] == 'Bilibili':\n",
    "          print(f'Video available at https://www.bilibili.com/video/{video.id}')\n",
    "        elif video_ids[i][0] == 'Osf':\n",
    "          print(f'Video available at https://osf.io/{video.id}')  \n",
    "      display(video)\n",
    "    tab_contents.append(out)\n",
    "  return tab_contents\n",
    "\n",
    "\n",
    "video_ids = [('Youtube', 'gt6o3lqu5zA'), ('Bilibili', '<video_id_2>'), ('Osf', '<video_id_3>')]\n",
    "tab_contents = display_videos(video_ids, W=854, H=480)\n",
    "tabs = widgets.Tab()\n",
    "tabs.children = tab_contents\n",
    "for i in range(len(tab_contents)):\n",
    "  tabs.set_title(i, video_ids[i][0])\n",
    "display(tabs)"
   ]
  },
  {
   "cell_type": "code",
   "execution_count": null,
   "id": "0f7b933c-9888-4051-8a62-c7f44246feda",
   "metadata": {},
   "outputs": [],
   "source": [
    "# @title Slides\n",
    "# @markdown These are the slides for the video introduction to the project\n",
    "from IPython.display import IFrame\n",
    "link_id = \"y6em2\"\n",
    "print(f\"If you want to download the slides: https://osf.io/download/{link_id}/\")\n",
    "IFrame(src=f\"https://mfr.ca-1.osf.io/render?url=https://osf.io/{link_id}/?direct%26mode=render%26action=download%26mode=render\", width=854, height=480)"
   ]
  },
  {
   "cell_type": "markdown",
   "id": "63b697d5",
   "metadata": {
    "execution": {}
   },
   "source": [
    "In this project, you will be given the opportunity to explore data from climate models to examine the modeled change in sea ice coverage over time.\n",
    "\n",
    "The project aims to:\n",
    "* Download, process, and plot data showing modeled sea ice coverage over the historical period within a CMIP6 model climate.\n",
    "* Calculate the total sea ice extent and assess its rate of decline over the recent historical period, and project it into the future under a middle-of-the-road emissions scenario.\n",
    "* Assess the dependence of future projections on emissions scenario, e.g. to assess whether any emissions scenario is sufficient to keep late-summer sea ice in the Arctic.\n",
    "* Examine the spatial and seasonal variation of sea ice and how this changes during its decline with warming.\n",
    "\n",
    "We also include a dataset of satellite observations, in case you would like to check the realism of the model's representation of sea ice in the recent historical period. \n"
   ]
  },
  {
   "cell_type": "markdown",
   "id": "ff7ae1c9",
   "metadata": {
    "execution": {}
   },
   "source": [
    "# Project Template\n",
    "\n",
    "<img src='../template-images/2024_SeaIce.svg'/>"
   ]
  },
  {
   "attachments": {},
   "cell_type": "markdown",
   "id": "a4cc9acb-3363-4a13-879d-73378ddb6a74",
   "metadata": {
    "execution": {}
   },
   "source": [
    "# Data Exploration Notebook\n",
    "\n",
    "## Project Setup"
   ]
  },
  {
   "cell_type": "code",
   "execution_count": null,
   "id": "b68292ec",
   "metadata": {},
   "outputs": [],
   "source": [
    "# google colab installs\n",
    "\n",
    "# !pip install --quiet"
   ]
  },
  {
   "cell_type": "code",
   "execution_count": null,
   "id": "1e541a40",
   "metadata": {},
   "outputs": [],
   "source": [
    "# Imports\n",
    "\n",
    "import numpy as np\n",
    "import matplotlib.pyplot as plt\n",
    "import xarray as xr\n",
    "import dask\n",
    "import cartopy.crs as ccrs\n",
    "import cartopy.feature as cfeature\n",
    "from xmip.preprocessing import combined_preprocessing\n",
    "from xmip.utils import google_cmip_col\n",
    "from xmip.postprocessing import match_metrics"
   ]
  },
  {
   "cell_type": "code",
   "execution_count": null,
   "id": "07545499",
   "metadata": {},
   "outputs": [],
   "source": [
    "# @title Figure settings\n",
    "\n",
    "#import ipywidgets as widgets       # interactive display\n",
    "%config InlineBackend.figure_format = 'retina'\n",
    "plt.style.use(\"https://raw.githubusercontent.com/neuromatch/climate-course-content/main/cma.mplstyle\")"
   ]
  },
  {
   "cell_type": "code",
   "execution_count": null,
   "id": "c6569502-58dc-43a7-a95f-5fa5f8828179",
   "metadata": {},
   "outputs": [],
   "source": [
    "# Helper functions\n",
    "import os\n",
    "import pooch\n",
    "import tempfile\n",
    "\n",
    "def pooch_load(filelocation=None, filename=None, processor=None):\n",
    "    shared_location = \"/home/jovyan/shared/Data/projects/SeaIce\"  # this is different for each day\n",
    "    user_temp_cache = tempfile.gettempdir()\n",
    "\n",
    "    if os.path.exists(os.path.join(shared_location, filename)):\n",
    "        file = os.path.join(shared_location, filename)\n",
    "    else:\n",
    "        file = pooch.retrieve(\n",
    "            filelocation,\n",
    "            known_hash=None,\n",
    "            fname=os.path.join(user_temp_cache, filename),\n",
    "            processor=processor,\n",
    "        )\n",
    "\n",
    "    return file"
   ]
  },
  {
   "cell_type": "markdown",
   "id": "ee7c9ef5",
   "metadata": {
    "execution": {}
   },
   "source": [
    "## CESM2-WACCM: Climate model simulations of sea ice concentration\n",
    "\n",
    "Here we use the output from [CESM2-WACCM, the Community Earth System Model (version 2, CESM2)](https://doi.org/10.1029/2019ms001916), with the [Whole Atmosphere Community Climate Model (WACCM)](https://doi.org/10.1029/2019JD030943) as its atmosphere component. \n",
    "\n",
    "We use the historical scenario, which runs with historical forcings from 1850 to 2014. Note that this scenario is just one instance of internal variability in a world forced by historical GHGs. \n",
    "\n",
    "A note on the sea ice output for CMIP6 models: \n",
    "\n",
    "The Sea Ice component of models is generally output on the ocean grid, which is normally not a simple lat/lon grid, unlike many atmosphere model components. Here we use the variable ***siconca*** which stands for *sea ice concentration atmosphere* - this is the sea ice concentration re-gridded onto the model's atmosphere grid and is somewhat easier to work with.\n"
   ]
  },
  {
   "cell_type": "markdown",
   "id": "867ff5a5-6b39-459d-b89f-d224126147b6",
   "metadata": {},
   "source": [
    "Let's search the CMIP6 catalog for some sea ice concentration (`siconca`) data from the CESM Earth System Model. We pick a certain ensemble member (`r1i1p1f1`) to reduce the amount of data to download. At first, our scenarios of interest are the `historical` and the middle-of-the-road `ssp245` ones. As we get the data on the native grid (`gn`), we must also download the grid cell area in the next step.\n",
    "\n",
    "*Hint: for a detailed explanation of the following `xmip` functionalities and other CMIP6 related terms, please refer to:*\n",
    "* *W1D5 [Tutorial 7](https://github.com/neuromatch/climate-course-content/blob/main/tutorials/W1D5_ClimateModeling/W1D5_Tutorial7.ipynb),*\n",
    "* *W2D1 [Tutorial 1](https://github.com/neuromatch/climate-course-content/blob/main/tutorials/W2D1_FutureClimate-IPCCIPhysicalBasis/W2D1_Tutorial1.ipynb),*\n",
    "* *our [CMIP Resource bank](https://github.com/neuromatch/climate-course-content/blob/main/tutorials/CMIP/CMIP_resource_bank.md),* \n",
    "* *xmip's [tutorials](https://cmip6-preprocessing.readthedocs.io/en/latest/tutorial.html)*\n",
    "* *[this lecture](https://earth-env-data-science.github.io/lectures/models/cmip.html) by Ryan Abernathy, Professor of Earth and Environmental Sciences at Columbia University*"
   ]
  },
  {
   "cell_type": "code",
   "execution_count": null,
   "id": "62ca691c-6efe-4598-932f-32f5e9aac31b",
   "metadata": {},
   "outputs": [],
   "source": [
    "# create a collection object from the Google Cloud Storage\n",
    "col = google_cmip_col()\n",
    "\n",
    "# search via keys\n",
    "cat = col.search(\n",
    "        source_id=[\"CESM2-WACCM\"],\n",
    "        variable_id=[\"siconca\"],\n",
    "        member_id=\"r1i1p1f1\",\n",
    "        #table_id=\"SImon\",\n",
    "        grid_label=\"gn\",\n",
    "        experiment_id=[\"historical\", \"ssp245\"],\n",
    "    #, \"ssp126\",  \"ssp585\"],\n",
    "        require_all_on=[\"experiment_id\", \"variable_id\"]\n",
    ")\n",
    "# key word arguments that allow efficient and useful preprocessing\n",
    "kwargs = {'zarr_kwargs':{\n",
    "    'consolidated':True,\n",
    "    'use_cftime':True\n",
    "},\n",
    "          'aggregate':False,\n",
    "          'preprocess':combined_preprocessing\n",
    "}\n",
    "\n",
    "# create a dictionary of the datasets from the catalog entries\n",
    "ds_dict = cat.to_dataset_dict(**kwargs)\n",
    "list(ds_dict.keys())"
   ]
  },
  {
   "cell_type": "code",
   "execution_count": null,
   "id": "5a348976-8faa-4a0f-aedd-c427b212120c",
   "metadata": {},
   "outputs": [],
   "source": [
    "# repeat the procedure with the grid cell area\n",
    "cat_metric = col.search(\n",
    "    source_id=['CESM2-WACCM'],\n",
    "    variable_id='areacella',\n",
    "    member_id=\"r1i1p1f1\",\n",
    "    experiment_id=[\"historical\", \"ssp245\"]\n",
    ")\n",
    "ddict_metrics = cat_metric.to_dataset_dict(**kwargs)\n",
    "\n",
    "list(ddict_metrics.keys())"
   ]
  },
  {
   "cell_type": "code",
   "execution_count": null,
   "id": "08a37581-9a3f-4650-8811-5cd1aea35f27",
   "metadata": {},
   "outputs": [],
   "source": [
    "#ddict_metrics[CMIP.NCAR.CESM2-WACCM.historical.r1i1p1f1.fx.areacella.gn.gs://cmip6/CMIP6/CMIP/NCAR/CESM2-WACCM/historical/r1i1p1f1/fx/areacella/gn/v20190227/.20190227']\n",
    "ddict_metrics[list(ddict_metrics.keys())[0]]"
   ]
  },
  {
   "cell_type": "code",
   "execution_count": null,
   "id": "5d2ffd64-8c4c-4934-b2de-00da88cc5703",
   "metadata": {},
   "outputs": [],
   "source": [
    "# add the grid cell area metric to both scenario data sets\n",
    "ddict_matched = match_metrics(ds_dict, ddict_metrics, ['areacella'])\n",
    "list(ddict_matched.keys())"
   ]
  },
  {
   "cell_type": "code",
   "execution_count": null,
   "id": "db90f606-c419-416b-99cb-aecfb810ba2a",
   "metadata": {},
   "outputs": [],
   "source": [
    "# select the historical scenario and print its summary\n",
    "SI_ds = ddict_matched['CMIP.NCAR.CESM2-WACCM.historical.r1i1p1f1.SImon.siconca.gn.gs://cmip6/CMIP6/CMIP/NCAR/CESM2-WACCM/historical/r1i1p1f1/SImon/siconca/gn/v20190507/.20190507']\n",
    "SI_ds"
   ]
  },
  {
   "cell_type": "code",
   "execution_count": null,
   "id": "bb72400d-8b18-48aa-aedb-8ef0bc28795b",
   "metadata": {},
   "outputs": [],
   "source": [
    "# select the ssp245 scenario and print its summary\n",
    "SI_ds_245 = ddict_matched['ScenarioMIP.NCAR.CESM2-WACCM.ssp245.r1i1p1f1.SImon.siconca.gn.gs://cmip6/CMIP6/ScenarioMIP/NCAR/CESM2-WACCM/ssp245/r1i1p1f1/SImon/siconca/gn/v20190815/.20190815']\n",
    "SI_ds_245"
   ]
  },
  {
   "cell_type": "code",
   "execution_count": null,
   "id": "58e3e557-9eee-4116-89e1-cb3ba4d75c53",
   "metadata": {},
   "outputs": [],
   "source": [
    "# let s print the meta data of the areacella that we added as a coordinate before\n",
    "SI_ds.areacella.attrs"
   ]
  },
  {
   "cell_type": "code",
   "execution_count": null,
   "id": "59497066-568b-434e-9557-8fb8d9d5ad9f",
   "metadata": {},
   "outputs": [],
   "source": [
    "# we also see that it contains the data variable siconca\n",
    "\n",
    "# let's print the minimum and maximum of this variable to check its format:\n",
    "print(SI_ds.siconca.min().values)\n",
    "print(SI_ds.siconca.max().values)\n",
    "# note that it is formattwd as a percentage not a fraction, ranging from 0 to 100. "
   ]
  },
  {
   "cell_type": "markdown",
   "id": "ae442fb9-ddb5-42c3-92ad-fb6f906f2d8c",
   "metadata": {},
   "source": [
    "Great, now you are all set to use these model sea ice data to address the questions you are interested in!"
   ]
  },
  {
   "cell_type": "markdown",
   "id": "0823d446-6b6a-4684-814a-9892caee2a46",
   "metadata": {},
   "source": [
    "# Q1: \n",
    "Plot the annual mean of Arctic sea ice concentration (SIC) for three example years (e.g., 1996, 2007, 2012) using one CMIP6 model ensemble member."
   ]
  },
  {
   "cell_type": "markdown",
   "id": "b12170fa-fc2c-45ba-9021-c3ebd03f9143",
   "metadata": {},
   "source": [
    "*Hint: Select latitudes of the arctic, years of interest and use `cartopy` for pretty projections, e.g. [ccrs.NorthPolarStereo()](https://scitools.org.uk/cartopy/docs/latest/reference/projections.html#northpolarstereo).*"
   ]
  },
  {
   "cell_type": "markdown",
   "id": "7be2c8be-21a8-4989-be07-81ab873feb51",
   "metadata": {},
   "source": [
    "# Q2:\n",
    "\n",
    "Plot the Arctic total sea ice extent (SIE) as a function of time for the last 40 years. Compute seasonal means of SIE for June-August (JJA) and December-February (DJF)."
   ]
  },
  {
   "cell_type": "markdown",
   "id": "e47283b0-eeb9-47e9-8e39-69fbc7cb278c",
   "metadata": {},
   "source": [
    "*Hint: We define sea ice extent (SIE) following the convention that a grid cell is 'sea ice' with a sea ice concentration higher than 15%.*\n",
    "\n",
    "*Extent is hence the sum of the grid cell areas with a concentration above 15%. Use e.g. xr.where() and an appropriate condition to mask the data, then apply the grid cell areas. Have a look at W1D1 Tutorials 8 and 9 to help apply it. Finally, combine results from both data sets into one time series.*"
   ]
  },
  {
   "cell_type": "markdown",
   "id": "f40e7c26-7588-46bd-ae26-6cb28b470b4e",
   "metadata": {},
   "source": [
    "Compute seasonal means of SIE for June-August (JJA) and December-February (DJF).\n",
    "\n",
    "*Hint: Apply e.g. `groupby(\"time.season\")` to calculate seasonal means, note that months have a varying amount of days. Check xarray's [documentation](https://docs.xarray.dev/en/stable/user-guide/groupby.html)*"
   ]
  },
  {
   "cell_type": "markdown",
   "id": "fd1cf207-201b-4c38-8589-e1085b151124",
   "metadata": {},
   "source": [
    "# Q3:\n",
    "Repeat the analysis in Q2 for the Antarctic. How does this compare with the respective SIE in the Arctic?\n"
   ]
  },
  {
   "cell_type": "markdown",
   "id": "3690109a-32cc-4f25-a415-2bdd1aa1f239",
   "metadata": {},
   "source": [
    "# Q4: \n",
    "Are there long-term changes (trends) in SIE between 1979-2014 in this model? How do these changes differ across seasons and also between the Arctic and Antarctic?\n",
    "\n",
    "*Hint:* `from scipy import stats` *might offer the linear regression techniques that you are looking for. Check its [documentation](https://docs.scipy.org/doc/scipy/reference/generated/scipy.stats.linregress.html).*"
   ]
  },
  {
   "cell_type": "markdown",
   "id": "c62a0f3e",
   "metadata": {
    "execution": {}
   },
   "source": [
    "# Further Reading"
   ]
  },
  {
   "attachments": {},
   "cell_type": "markdown",
   "id": "d63d99be-fc26-405e-8b17-3c574eca874e",
   "metadata": {
    "execution": {}
   },
   "source": [
    "* On the CMIP6 projections for arctic sea ice, see [Notz et al. (2020), doi.org/10.1029/2019gl086749](https://agupubs.onlinelibrary.wiley.com/doi/10.1029/2019gl086749). \n",
    "* This paper by Steove & Notz, is a nice summary of the observational trends across all seasons, and how they compare to models' predictions: [Steove & Notz (2018), doi.org/10.1088/1748-9326/aade56](https://iopscience.iop.org/article/10.1088/1748-9326/aade56).\n",
    "\n",
    "* [CMIP6 Preprocessing with XMIP](https://cmip6-preprocessing.readthedocs.io/en/latest/postprocessing.html)"
   ]
  },
  {
   "cell_type": "markdown",
   "id": "b1fa5d34-263b-4182-ad58-a57122716944",
   "metadata": {},
   "source": [
    "# Optional Additional Data Source: Satellite Observations\n",
    "\n",
    "**National Snow & Ice Data (NSIDC) \n",
    "[Gridded Monthly Sea Ice Extent and Concentration, 1850 Onward, Version 2](https://doi.org/10.7265/jj4s-tq79)**\n",
    "\n",
    "From 1978, this is satellite passive microwave data. Prior to this, a range of sources are used (e.g. ship logs), but we will subset to only the satellite era here. \n",
    "\n",
    "The passive microwave observations are the NOAA/NSIDC Climate Data Record of Passive Microwave Sea Ice Concentration, Version 4. This data product uses a combination of two algorithms to generate the sea ice concentration; the NASA Team (NT) algorithm [(Cavalieri et al. (1984), doi.org/10.1029/JD089iD04p05355)](https://doi.org/10.1029/JD089iD04p05355), and the NASA Bootstrap (BT) algorithm [(Comiso 1986)](https://doi.org/10.1029/JC091iC01p00975). \n",
    "\n",
    "This version has been gridded onto a 1/4 degree latitude-longitude grid, and has been averaged to monthly resolution. It includes only latitudes North of 30°N (so is ***arctic-only***)."
   ]
  },
  {
   "cell_type": "code",
   "execution_count": null,
   "id": "ee26e97b-14d9-4577-b3bc-b75fae4c471f",
   "metadata": {},
   "outputs": [],
   "source": [
    "# Code to retrieve and load the data\n",
    "\n",
    "link_id = 'fpr3j'\n",
    "Sea_ice_conc_obs_url = f\"https://osf.io/download/{link_id}/\"\n",
    "Sea_ice_conc_obs_fname = 'G10010_sibt1850_v2.0.nc'\n",
    "\n",
    "SI_obs_ds = xr.open_dataset(pooch_load(Sea_ice_conc_obs_url, Sea_ice_conc_obs_fname))\n",
    "\n",
    "# note the use of the chunks keyword. These data come on a high resolution grid, \n",
    "# so are potentially too large to load into memory. Chunking (using dask) \n",
    "# avoids this problem. We arbitrarily pick a chunk length of 100 along each dimension.     \n",
    "\n",
    "# we can print a useful summary of the data by calling it:\n",
    "SI_obs_ds"
   ]
  },
  {
   "cell_type": "code",
   "execution_count": null,
   "id": "88016832-949b-47c9-9729-478e22716279",
   "metadata": {},
   "outputs": [],
   "source": [
    "# Code to preprocess data\n",
    "# we will select only the satellite era observations:\n",
    "SI_obs_ds = SI_obs_ds.where(SI_obs_ds.time.dt.year > 1978, drop=True)"
   ]
  },
  {
   "cell_type": "markdown",
   "id": "bf33e0f1-657a-40de-ba63-3df6fc4fd1d0",
   "metadata": {},
   "source": [
    "We can now visualize the content of the dataset:\n",
    "\n",
    "Note that the sea ice concentration is (confusingly!) set to 120% over land. "
   ]
  },
  {
   "cell_type": "code",
   "execution_count": null,
   "id": "778eabdf-3594-476e-ae69-fda6d6d67001",
   "metadata": {},
   "outputs": [],
   "source": [
    "# We can select and plot the first month \n",
    "# using .isel(time=0) and inbuilt xarray plotting,\n",
    "# just to check the data looks reasonable:\n",
    "SI_obs_ds.isel(time=0).seaice_conc.plot()"
   ]
  },
  {
   "cell_type": "markdown",
   "id": "64abc79c-689a-4e73-91c3-5fe86f7c7d6c",
   "metadata": {},
   "source": [
    "Note that the dataset also includes variables for grid cell area and given in $\\text{km}^2$. \n",
    "\n",
    "We will need this to convert the spatial data into a time series of the total Arctic sea ice area. \n",
    "\n",
    "The code below shows how this can be done:"
   ]
  },
  {
   "cell_type": "code",
   "execution_count": null,
   "id": "b7bf75ee-8e48-4e26-ac0d-200e940bd66e",
   "metadata": {},
   "outputs": [],
   "source": [
    "# select only the ocean regions by ignoring any percentages over 100:\n",
    "SI_obs_ds = SI_obs_ds.where(SI_obs_ds['seaice_conc'] < 101)\n",
    "\n",
    "# then multiply the ice fraction in each grid cell by the cell area:\n",
    "# factor of 0.01 servees to convert from percentage to fraction\n",
    "SI_obs_ds['seaice_area_km2'] = 0.01 * SI_obs_ds['seaice_conc'] * SI_obs_ds['Gridcell_Area']\n",
    "\n",
    "# finally, we can sum this sea ice area variable over the spatial dimensions to get\n",
    "# a time series of total Arctic sea ice area:\n",
    "SI_total_area_obs = SI_obs_ds['seaice_area_km2'].sum(dim=['latitude', 'longitude'])\n",
    "SI_total_area_obs.plot()"
   ]
  },
  {
   "cell_type": "markdown",
   "id": "9fc76012-d7b8-4b5e-aa41-0facc05c0fa8",
   "metadata": {},
   "source": [
    "Now you can add the observational decline of sea ice to your analysis if you wish!"
   ]
  }
 ],
 "metadata": {
  "colab": {
   "collapsed_sections": [],
   "include_colab_link": true,
   "name": "Example_based_on_CMA_structure",
   "toc_visible": true
  },
  "kernel": {
   "display_name": "Python 3",
   "language": "python",
   "name": "python3"
  },
  "kernelspec": {
   "display_name": "Python 3 (ipykernel)",
   "language": "python",
   "name": "python3"
  },
  "language_info": {
   "codemirror_mode": {
    "name": "ipython",
    "version": 3
   },
   "file_extension": ".py",
   "mimetype": "text/x-python",
   "name": "python",
   "nbconvert_exporter": "python",
   "pygments_lexer": "ipython3",
   "version": "3.9.18"
  }
 },
 "nbformat": 4,
 "nbformat_minor": 5
}
